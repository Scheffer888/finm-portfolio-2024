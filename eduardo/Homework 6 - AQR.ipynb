{
 "cells": [
  {
   "cell_type": "markdown",
   "metadata": {},
   "source": [
    "# Homework 6\n",
    "\n",
    "## FINM 36700 - 2024\n",
    "\n",
    "### UChicago Financial Mathematics\n",
    "\n",
    "* Mark Hendricks\n",
    "* hendricks@uchicago.edu\n",
    "\n",
    "\n",
    "## HBS Case\n",
    "\n",
    "### AQR_s Momentum Funds"
   ]
  },
  {
   "cell_type": "markdown",
   "metadata": {
    "vscode": {
     "languageId": "plaintext"
    }
   },
   "source": [
    "---"
   ]
  },
  {
   "cell_type": "markdown",
   "metadata": {},
   "source": [
    "# Section 1: The Momentum Product\n",
    "\n",
    "*This section is not graded, and you do not need to submit your answers. But you are expected to consider these issues and be ready to discuss them.*\n",
    "\n",
    "**1. What is novel about the AQR Momentum product under construction compared to the various momentum investment products already offered?**\n",
    "\n",
    "<span style=\"color:red\">__*Answer 1.1:*__</span>\n",
    "\n",
    "- The AQR's Momentum product is a mutual fund, and thus any retail investors can invest.\n",
    "- Two characterisitcs of mutual fund:\n",
    "  1. Long-only: legally limited in their use of short positions and leverage\n",
    "  2. Open-end: had to be ready to return capital at the end of the trading day to respond to investor redemptions\n",
    "\n",
    "\n",
    "**2. Name three reasons the momentum investment product will not exactly track the momentum index (i.e., why the strategy will have tracking error).**\n",
    "\n",
    "<span style=\"color:red\">__*Answer 1.2:*__</span>\n",
    "\n",
    "- *Transaction Costs*: The momentum index is a theoretical construct that assumes no transaction costs. In reality, transaction costs will be incurred when the fund buys and sells stocks to implement the strategy.\n",
    "\n",
    "- *Trade period*: The find might not trade an entire position instantaneously, but rather over a period of time, to decrease transaction costs, but which might lead to tracking error. \n",
    "\n",
    "- *Whether to trade \"boundary\" stocks*: if a stock is part of the index, and in the following month it is barely out, and another stock is barely in, the fund might not necessarily trade the boundary stocks to avoid tansaaction costs, as the expected return of the two stocks might not be different enough to justify the transaction costs.\n",
    "\n",
    "- *Tax implications*: it is going to change every month, because it is a state dependent variable in a dynamic optimization. \n",
    "\n",
    "**3. When constructing the momentum portfolio, AQR ranks stocks on their returns from month $t - 12$ through $t - 2$. Why don’t they include the $t - 1$ return in this ranking?**\n",
    "\n",
    "<span style=\"color:red\">__*Answer 1.3:*__</span>\n",
    "\n",
    "- Evidence in Jegadeesh (1990) show that the winning/losing stocks between $t − 1$ to $t$ may show short-term reversal, so incorporating t-1 in the momentum strategy would hurt performance.\n",
    "\n"
   ]
  },
  {
   "cell_type": "markdown",
   "metadata": {},
   "source": [
    "---\n",
    "\n",
    "# Section 2: Investigating Momentum\n",
    "\n",
    "In this section, we empirically investigate some concerns regarding AQR’s new momentum product.\n",
    "\n",
    "On Canvas, find the data file, “momentum\\_data.xlsx”.\n",
    "\n",
    "- The first tab contains the momentum factor as an excess return: $\\bar{r}^{\\text{mom}}$.\n",
    "\n",
    "- The second tab contains returns on portfolios corresponding to scored momentum deciles.\n",
    "  - $r^{\\text{mom}(1)}$ denotes the portfolio of stocks in the lowest momentum decile, the “losers” with the lowest past returns.\n",
    "  - $r^{\\text{mom}(10)}$ denotes the portfolio of stocks in the highest momentum decile.\n",
    "\n",
    "- The third tab gives portfolios sorted by momentum and size.\n",
    "  - $r^{\\text{momSU}}$ denotes the portfolio of small stocks in the top 3 deciles of momentum scores.\n",
    "  - $r^{\\text{momBD}}$ denotes the portfolio of big stocks in the bottom 3 deciles of momentum scores.\n",
    "\n",
    "Note that the Fama-French momentum return, $r^{\\text{mom:FF}}$, given in the first tab, is constructed by FF as,\n",
    "\n",
    "$$\n",
    "\\bar{r}^{\\text{mom:FF}} = \\frac{1}{2} \\left( r^{\\text{momBU}} + r^{\\text{momSU}} \\right) - \\frac{1}{2} \\left( r^{\\text{momBD}} + r^{\\text{momSD}} \\right)\n",
    "$$\n"
   ]
  },
  {
   "cell_type": "code",
   "execution_count": 1,
   "metadata": {},
   "outputs": [],
   "source": [
    "# Import Libraries:\n",
    "import pandas as pd\n",
    "import numpy as np\n",
    "import matplotlib.pyplot as plt\n",
    "import seaborn as sns\n",
    "import re\n",
    "import datetime\n",
    "from typing import Union, List, Callable\n",
    "\n",
    "import warnings\n",
    "warnings.filterwarnings(\"ignore\")\n",
    "\n",
    "pd.options.display.float_format = \"{:,.4f}\".format\n",
    "pd.set_option('display.width', 200)\n",
    "pd.set_option('display.max_columns', 30)\n",
    "\n",
    "import statsmodels.api as sm\n",
    "from scipy.stats import t\n",
    "\n",
    "import os\n",
    "import sys\n",
    "\n",
    "parent_path = os.path.dirname(os.getcwd()) # Get parent path (if using .ipynb file)\n",
    "# parent_path = os.path.dirname(os.path.dirname(os.path.abspath(__file__))) # Get parent path (if using .py file)\n",
    "os.chdir(parent_path) # Set parent path as working directory (for reading and writing files)\n",
    "sys.path.insert(0, parent_path) # Add parent path to system path (for importing modules)\n",
    "\n",
    "import utils.portfolio_management_functions as pm"
   ]
  },
  {
   "cell_type": "code",
   "execution_count": 2,
   "metadata": {},
   "outputs": [
    {
     "name": "stdout",
     "output_type": "stream",
     "text": [
      "Sheet name: descriptions\n",
      "Columns: Unnamed: 0, Name, Unit, Construction, Description\n",
      "  Unnamed: 0    Name           Unit         Construction                                        Description\n",
      "0        MKT  Market  Excess Return  Market-cap-weighted                                        US Equities\n",
      "1        SMB    Size  Excess Return      Small Minus Big             Long small stocks and short big stocks\n",
      "2        HML   Value  Excess Return       High Minus Low  Long value (high book-to-market) stocks and sh...\n",
      "----------------------------------------------------------------------\n",
      "\n",
      "\n",
      "Sheet name: factors (excess returns)\n",
      "Columns: Date, MKT, SMB, HML\n",
      "        Date     MKT     SMB     HML\n",
      "0 1927-01-31 -0.0006 -0.0037  0.0454\n",
      "1 1927-02-28  0.0418  0.0004  0.0294\n",
      "2 1927-03-31  0.0013 -0.0165 -0.0261\n",
      "----------------------------------------------------------------------\n",
      "\n",
      "\n",
      "Sheet name: momentum (excess returns)\n",
      "Columns: Date, UMD\n",
      "        Date     UMD\n",
      "0 1927-01-31  0.0036\n",
      "1 1927-02-28 -0.0214\n",
      "2 1927-03-31  0.0361\n",
      "----------------------------------------------------------------------\n",
      "\n",
      "\n",
      "Sheet name: deciles (total returns)\n",
      "Columns: Date, Lo PRIOR, PRIOR 2, PRIOR 3, PRIOR 4, PRIOR 5, PRIOR 6, PRIOR 7, PRIOR 8, PRIOR 9, Hi PRIOR\n",
      "        Date  Lo PRIOR  PRIOR 2  PRIOR 3  PRIOR 4  PRIOR 5  PRIOR 6  PRIOR 7  PRIOR 8  PRIOR 9  Hi PRIOR\n",
      "0 1927-01-31   -0.0332  -0.0446   0.0269  -0.0033  -0.0041   0.0097   0.0074   0.0036  -0.0041   -0.0024\n",
      "1 1927-02-28    0.0753   0.0593   0.0825   0.0727   0.0322   0.0421   0.0283   0.0326   0.0420    0.0701\n",
      "2 1927-03-31   -0.0323  -0.0301  -0.0392  -0.0477  -0.0048  -0.0242   0.0205   0.0041   0.0096    0.0547\n",
      "----------------------------------------------------------------------\n",
      "\n",
      "\n",
      "Sheet name: size_sorts (total returns)\n",
      "Columns: Date, SMALL LoPRIOR, ME1 PRIOR2, SMALL HiPRIOR, BIG LoPRIOR, ME2 PRIOR2, BIG HiPRIOR\n",
      "        Date  SMALL LoPRIOR  ME1 PRIOR2  SMALL HiPRIOR  BIG LoPRIOR  ME2 PRIOR2  BIG HiPRIOR\n",
      "0 1927-01-31         0.0008      0.0357         0.0040      -0.0040      0.0026       0.0000\n",
      "1 1927-02-28         0.0701      0.0648         0.0551       0.0727      0.0380       0.0447\n",
      "2 1927-03-31        -0.0346     -0.0288        -0.0206      -0.0357     -0.0018       0.0226\n",
      "----------------------------------------------------------------------\n",
      "\n",
      "\n",
      "Sheet name: risk-free rate\n",
      "Columns: Date, RF\n",
      "        Date     RF\n",
      "0 1927-01-31 0.0025\n",
      "1 1927-02-28 0.0026\n",
      "2 1927-03-31 0.0030\n",
      "----------------------------------------------------------------------\n",
      "\n",
      "\n"
     ]
    }
   ],
   "source": [
    "# Check data in the file (sheets, columns, data):\n",
    "INFILE = \"data/momentum_data.xlsx\"\n",
    "try:\n",
    "    pm.read_excel_default(INFILE, print_sheets = True)\n",
    "except FileNotFoundError as e:\n",
    "    print(f'{e}.\\nCheck file in {parent_path}')"
   ]
  },
  {
   "cell_type": "code",
   "execution_count": 3,
   "metadata": {},
   "outputs": [
    {
     "data": {
      "text/html": [
       "<div>\n",
       "<style scoped>\n",
       "    .dataframe tbody tr th:only-of-type {\n",
       "        vertical-align: middle;\n",
       "    }\n",
       "\n",
       "    .dataframe tbody tr th {\n",
       "        vertical-align: top;\n",
       "    }\n",
       "\n",
       "    .dataframe thead th {\n",
       "        text-align: right;\n",
       "    }\n",
       "</style>\n",
       "<table border=\"1\" class=\"dataframe\">\n",
       "  <thead>\n",
       "    <tr style=\"text-align: right;\">\n",
       "      <th></th>\n",
       "      <th>Name</th>\n",
       "      <th>Unit</th>\n",
       "      <th>Construction</th>\n",
       "      <th>Description</th>\n",
       "    </tr>\n",
       "  </thead>\n",
       "  <tbody>\n",
       "    <tr>\n",
       "      <th>MKT</th>\n",
       "      <td>Market</td>\n",
       "      <td>Excess Return</td>\n",
       "      <td>Market-cap-weighted</td>\n",
       "      <td>US Equities</td>\n",
       "    </tr>\n",
       "    <tr>\n",
       "      <th>SMB</th>\n",
       "      <td>Size</td>\n",
       "      <td>Excess Return</td>\n",
       "      <td>Small Minus Big</td>\n",
       "      <td>Long small stocks and short big stocks</td>\n",
       "    </tr>\n",
       "    <tr>\n",
       "      <th>HML</th>\n",
       "      <td>Value</td>\n",
       "      <td>Excess Return</td>\n",
       "      <td>High Minus Low</td>\n",
       "      <td>Long value (high book-to-market) stocks and sh...</td>\n",
       "    </tr>\n",
       "    <tr>\n",
       "      <th>RF</th>\n",
       "      <td>Risk-free rate</td>\n",
       "      <td>Total Return</td>\n",
       "      <td>Tbills</td>\n",
       "      <td>NaN</td>\n",
       "    </tr>\n",
       "    <tr>\n",
       "      <th>SMALL LoPRIOR</th>\n",
       "      <td>Small Down</td>\n",
       "      <td>Total Return</td>\n",
       "      <td>Small Losers</td>\n",
       "      <td>Bottom 3 deciles and Small</td>\n",
       "    </tr>\n",
       "    <tr>\n",
       "      <th>SMALL HiPRIOR</th>\n",
       "      <td>Small Up</td>\n",
       "      <td>Total Return</td>\n",
       "      <td>Small Winners</td>\n",
       "      <td>Top 3 deciles and Small</td>\n",
       "    </tr>\n",
       "    <tr>\n",
       "      <th>BIG LoPRIOR</th>\n",
       "      <td>Big Down</td>\n",
       "      <td>Total Return</td>\n",
       "      <td>Big Losers</td>\n",
       "      <td>Bottom 3 deciles and Big</td>\n",
       "    </tr>\n",
       "    <tr>\n",
       "      <th>BIG HiPRIOR</th>\n",
       "      <td>Big Up</td>\n",
       "      <td>Total Return</td>\n",
       "      <td>Big Winners</td>\n",
       "      <td>Top 3 deciles and Big</td>\n",
       "    </tr>\n",
       "  </tbody>\n",
       "</table>\n",
       "</div>"
      ],
      "text/plain": [
       "                         Name           Unit         Construction                                        Description\n",
       "MKT                    Market  Excess Return  Market-cap-weighted                                        US Equities\n",
       "SMB                      Size  Excess Return      Small Minus Big             Long small stocks and short big stocks\n",
       "HML                     Value  Excess Return       High Minus Low  Long value (high book-to-market) stocks and sh...\n",
       "RF             Risk-free rate   Total Return               Tbills                                                NaN\n",
       "SMALL LoPRIOR      Small Down   Total Return         Small Losers                         Bottom 3 deciles and Small\n",
       "SMALL HiPRIOR        Small Up   Total Return        Small Winners                            Top 3 deciles and Small\n",
       "BIG LoPRIOR          Big Down   Total Return           Big Losers                           Bottom 3 deciles and Big\n",
       "BIG HiPRIOR            Big Up   Total Return          Big Winners                              Top 3 deciles and Big"
      ]
     },
     "metadata": {},
     "output_type": "display_data"
    }
   ],
   "source": [
    "# Import data from the file:\n",
    "description = pd.read_excel(INFILE, sheet_name='descriptions',index_col=0)\n",
    "factors_returns = pd.read_excel(INFILE, sheet_name='factors (excess returns)',index_col=0)\n",
    "momentum_returns = pd.read_excel(INFILE, sheet_name='momentum (excess returns)',index_col=0)\n",
    "risk_free_rate = pd.read_excel(INFILE, sheet_name='risk-free rate',index_col=0)\n",
    "mom_dec_port_tot_ret = pd.read_excel(INFILE, sheet_name='deciles (total returns)',index_col=0)\n",
    "mom_size_port_tot_ret = pd.read_excel(INFILE, sheet_name='size_sorts (total returns)',index_col=0)\n",
    "\n",
    "display(description)"
   ]
  },
  {
   "cell_type": "code",
   "execution_count": 4,
   "metadata": {},
   "outputs": [
    {
     "name": "stdout",
     "output_type": "stream",
     "text": [
      "            Lo PRIOR  PRIOR 2  PRIOR 3  PRIOR 4  PRIOR 5  PRIOR 6  PRIOR 7  PRIOR 8  PRIOR 9  Hi PRIOR\n",
      "Date                                                                                                  \n",
      "1927-01-31   -0.0332  -0.0446   0.0269  -0.0033  -0.0041   0.0097   0.0074   0.0036  -0.0041   -0.0024\n",
      "1927-02-28    0.0753   0.0593   0.0825   0.0727   0.0322   0.0421   0.0283   0.0326   0.0420    0.0701\n",
      "1927-03-31   -0.0323  -0.0301  -0.0392  -0.0477  -0.0048  -0.0242   0.0205   0.0041   0.0096    0.0547\n",
      "\n",
      "            SMALL LoPRIOR  ME1 PRIOR2  SMALL HiPRIOR  BIG LoPRIOR  ME2 PRIOR2  BIG HiPRIOR\n",
      "Date                                                                                      \n",
      "1927-01-31         0.0008      0.0357         0.0040      -0.0040      0.0026       0.0000\n",
      "1927-02-28         0.0701      0.0648         0.0551       0.0727      0.0380       0.0447\n",
      "1927-03-31        -0.0346     -0.0288        -0.0206      -0.0357     -0.0018       0.0226\n"
     ]
    }
   ],
   "source": [
    "print(mom_dec_port_tot_ret.head(3))\n",
    "print()\n",
    "print(mom_size_port_tot_ret.head(3))"
   ]
  },
  {
   "cell_type": "markdown",
   "metadata": {},
   "source": [
    "### 2.1. Is momentum still profitable?\n",
    "\n",
    "The excess returns of lucrative trading strategies often disappear once the strategy is well-known. The first widely-cited paper on momentum was published in 1993. Have momentum returns or risk changed since then? The AQR case takes place at the end of 2008. Have momentum returns changed in 2009-2024?\n",
    "\n",
    "Investigate by filling out the summary statistics below for the full-sample and three sub-samples.\n",
    "\n",
    "#### (a) Using the data provided, fill in Table 1 with the appropriate stats for $\\bar{r}^{\\text{mom:FF}}$.\n",
    "\n",
    "*Table 1: Momentum performance over time.*\n",
    "\n",
    "| Subsample | mean | vol | Sharpe | skewness | corr. to $\\bar{r}^m$ | corr. to $\\bar{r}^w$ |\n",
    "|-----------|------|-----|--------|----------|----------------------|-----------------------|\n",
    "| 1927-2024 |      |     |        |          |                      |                       |\n",
    "| 1927-1993 |      |     |        |          |                      |                       |\n",
    "| 1994-2008 |      |     |        |          |                      |                       |\n",
    "| 2009-2024 |      |     |        |          |                      |                       |"
   ]
  },
  {
   "cell_type": "markdown",
   "metadata": {},
   "source": [
    "<span style=\"color:red\">__*Answer 2.1 - (a)*__</span>"
   ]
  },
  {
   "cell_type": "code",
   "execution_count": 5,
   "metadata": {},
   "outputs": [
    {
     "data": {
      "text/html": [
       "<div>\n",
       "<style scoped>\n",
       "    .dataframe tbody tr th:only-of-type {\n",
       "        vertical-align: middle;\n",
       "    }\n",
       "\n",
       "    .dataframe tbody tr th {\n",
       "        vertical-align: top;\n",
       "    }\n",
       "\n",
       "    .dataframe thead th {\n",
       "        text-align: right;\n",
       "    }\n",
       "</style>\n",
       "<table border=\"1\" class=\"dataframe\">\n",
       "  <thead>\n",
       "    <tr style=\"text-align: right;\">\n",
       "      <th></th>\n",
       "      <th>Annualized Mean</th>\n",
       "      <th>Annualized Vol</th>\n",
       "      <th>Annualized Sharpe</th>\n",
       "      <th>Skewness</th>\n",
       "      <th>MKT Correlation</th>\n",
       "      <th>HML Correlation</th>\n",
       "    </tr>\n",
       "  </thead>\n",
       "  <tbody>\n",
       "    <tr>\n",
       "      <th>1927-2024</th>\n",
       "      <td>0.0753</td>\n",
       "      <td>0.1625</td>\n",
       "      <td>0.4635</td>\n",
       "      <td>-2.9905</td>\n",
       "      <td>-0.3443</td>\n",
       "      <td>-0.4064</td>\n",
       "    </tr>\n",
       "    <tr>\n",
       "      <th>1927-1992</th>\n",
       "      <td>0.0883</td>\n",
       "      <td>0.1607</td>\n",
       "      <td>0.5493</td>\n",
       "      <td>-3.8058</td>\n",
       "      <td>-0.3648</td>\n",
       "      <td>-0.5043</td>\n",
       "    </tr>\n",
       "    <tr>\n",
       "      <th>1993-2008</th>\n",
       "      <td>0.1109</td>\n",
       "      <td>0.1719</td>\n",
       "      <td>0.6455</td>\n",
       "      <td>-0.6161</td>\n",
       "      <td>-0.2253</td>\n",
       "      <td>-0.1019</td>\n",
       "    </tr>\n",
       "    <tr>\n",
       "      <th>2009-2024</th>\n",
       "      <td>-0.0151</td>\n",
       "      <td>0.1585</td>\n",
       "      <td>-0.0952</td>\n",
       "      <td>-2.6910</td>\n",
       "      <td>-0.3676</td>\n",
       "      <td>-0.3209</td>\n",
       "    </tr>\n",
       "  </tbody>\n",
       "</table>\n",
       "</div>"
      ],
      "text/plain": [
       "           Annualized Mean  Annualized Vol  Annualized Sharpe  Skewness  MKT Correlation  HML Correlation\n",
       "1927-2024           0.0753          0.1625             0.4635   -2.9905          -0.3443          -0.4064\n",
       "1927-1992           0.0883          0.1607             0.5493   -3.8058          -0.3648          -0.5043\n",
       "1993-2008           0.1109          0.1719             0.6455   -0.6161          -0.2253          -0.1019\n",
       "2009-2024          -0.0151          0.1585            -0.0952   -2.6910          -0.3676          -0.3209"
      ]
     },
     "metadata": {},
     "output_type": "display_data"
    }
   ],
   "source": [
    "  # Calculate the factor returns statistics:\n",
    "factors_returns_all = pd.concat([factors_returns, momentum_returns], axis=1)\n",
    "momentum_performance_tf = pm.calc_returns_statistics(factors_returns_all,\n",
    "                                    provided_excess_returns=True,\n",
    "                                    annual_factor=12,\n",
    "                                    correlations=['MKT', 'HML'],\n",
    "                                    tail_risks=True,\n",
    "                                    timeframes={\n",
    "                                        \"1927-2024\": [\"1927\", \"2024\"],\n",
    "                                        \"1927-1992\": [\"1927\", \"1992\"],\n",
    "                                        \"1993-2008\": [\"1993\", \"2008\"],\n",
    "                                        \"2009-2024\": [\"2009\", \"2024\"]\n",
    "\n",
    "                                    },\n",
    "                                    keep_columns=['Annualized Mean', 'Annualized Vol', 'Annualized Sharpe', 'Skewness'],\n",
    "                                    keep_indexes=['UMD'])\n",
    "\n",
    "momentum_performance_tf.index = [idx.replace('UMD (', '') for idx in momentum_performance_tf.index]\n",
    "momentum_performance_tf.index = [idx.replace(')', '') for idx in momentum_performance_tf.index]\n",
    "display(momentum_performance_tf)"
   ]
  },
  {
   "cell_type": "markdown",
   "metadata": {},
   "source": [
    "#### (b) Has momentum changed much over time, as seen through these subsample statistics?\n",
    "\n",
    "<span style=\"color:red\">__*Answer 2.1 (b)*__</span>\n",
    "\n",
    "It doesn't change much in the most of the periods. But the momentum is showing negative return after 2009. It is reasonable stable between 1927 and 2008, and has been slightly negative since 2009. \n",
    "\n",
    "\n",
    "#### (c) Does this data support AQR’s argument that momentum is an important piece of the ideal portfolio? What if mean returns to momentum are in actuality near zero due to transaction costs — would there still be evidence here that momentum is valuable?\n",
    "\n",
    "<span style=\"color:red\">__*Answer 2.1 (c)*__</span>\n",
    "\n",
    "Yes, It was definitely profitable at 2008 when AQR was considering to launch the momentum product. Also, the momentum has a low correlation with market and value factor, which makes it a good diversifier. Even if the mean return is near zero, the momentum is still valuable because of its low correlation with other factors. Notably, even though the return profile has changed, it has maintained lower correlations to the market and value factors. \n"
   ]
  },
  {
   "cell_type": "markdown",
   "metadata": {},
   "source": [
    "### 2.2. The case is about whether a long-only implementation of momentum is valuable.\n",
    "\n",
    "Construct your own long-only implementation:\n",
    "\n",
    "*(Note that we must subtract the risk-free rate to get the excess return of this portfolio, $\\bar{r}^{\\text{mom:U}}$.)*\n",
    "\n",
    "\n",
    "$$\n",
    "\\bar{r}^{\\text{mom:U:FF}} = \\frac{1}{2} \\left( r^{\\text{momBU}} + r^{\\text{momSU}} \\right) - r^f\n",
    "$$\n",
    "\n",
    "Note that this is following the FF approach of treating big and small stocks separately. This would be very similar to a scaled version of,\n",
    "\n",
    "$$\n",
    "\\bar{r}^{\\text{mom:U}} = \\frac{1}{3} \\left( r^{\\text{mom(8)}} + r^{\\text{mom(9)}} + r^{\\text{mom(10)}} \\right) - r^f\n",
    "$$\n",
    "\n",
    "For the questions below, use the FF-style, $\\bar{r}^{\\text{mom:U:FF}}$.\n",
    "\n",
    "#### (a) Fill out Table 2 for the data **in the period 1994-2024**.\n",
    "\n",
    "*Table 2: Long-only momentum performance.*\n",
    "\n",
    "| 1994-2024      | mean | vol | Sharpe | skew | corr. to $\\bar{r}^m$ | corr. to $\\bar{r}^w$ |\n",
    "|----------------|------|-----|--------|------|-----------------------|-----------------------|\n",
    "| Long-and-short, ($\\bar{r}^{\\text{mom:FF}}$) |      |     |        |      |                       |                       |\n",
    "| Long-only ($\\bar{r}^{\\text{mom:U:FF}}$)     |      |     |        |      |                       |                       |\n",
    "\n"
   ]
  },
  {
   "cell_type": "markdown",
   "metadata": {},
   "source": [
    "<span style=\"color:red\">__*Answer 2.2 (a)*__</span>"
   ]
  },
  {
   "cell_type": "code",
   "execution_count": 6,
   "metadata": {},
   "outputs": [
    {
     "data": {
      "text/html": [
       "<div>\n",
       "<style scoped>\n",
       "    .dataframe tbody tr th:only-of-type {\n",
       "        vertical-align: middle;\n",
       "    }\n",
       "\n",
       "    .dataframe tbody tr th {\n",
       "        vertical-align: top;\n",
       "    }\n",
       "\n",
       "    .dataframe thead th {\n",
       "        text-align: right;\n",
       "    }\n",
       "</style>\n",
       "<table border=\"1\" class=\"dataframe\">\n",
       "  <thead>\n",
       "    <tr style=\"text-align: right;\">\n",
       "      <th></th>\n",
       "      <th>Annualized Mean</th>\n",
       "      <th>Annualized Vol</th>\n",
       "      <th>Annualized Sharpe</th>\n",
       "      <th>Skewness</th>\n",
       "      <th>MKT Correlation</th>\n",
       "      <th>HML Correlation</th>\n",
       "    </tr>\n",
       "  </thead>\n",
       "  <tbody>\n",
       "    <tr>\n",
       "      <th>UMD (Long-Short)</th>\n",
       "      <td>0.0432</td>\n",
       "      <td>0.1677</td>\n",
       "      <td>0.2575</td>\n",
       "      <td>-1.4460</td>\n",
       "      <td>-0.3062</td>\n",
       "      <td>-0.2152</td>\n",
       "    </tr>\n",
       "    <tr>\n",
       "      <th>U (Long Only)</th>\n",
       "      <td>0.1172</td>\n",
       "      <td>0.1784</td>\n",
       "      <td>0.6569</td>\n",
       "      <td>-0.4448</td>\n",
       "      <td>0.9036</td>\n",
       "      <td>-0.1190</td>\n",
       "    </tr>\n",
       "  </tbody>\n",
       "</table>\n",
       "</div>"
      ],
      "text/plain": [
       "                  Annualized Mean  Annualized Vol  Annualized Sharpe  Skewness  MKT Correlation  HML Correlation\n",
       "UMD (Long-Short)           0.0432          0.1677             0.2575   -1.4460          -0.3062          -0.2152\n",
       "U (Long Only)              0.1172          0.1784             0.6569   -0.4448           0.9036          -0.1190"
      ]
     },
     "metadata": {},
     "output_type": "display_data"
    }
   ],
   "source": [
    "momentum_returns_long_only = pd.DataFrame({'U (Long Only)': ((mom_size_port_tot_ret['BIG HiPRIOR'] + mom_size_port_tot_ret['SMALL HiPRIOR'])/2 - risk_free_rate['RF'])})\n",
    "    \n",
    "  # Calculate the factor returns statistics:\n",
    "returns_temp = pd.concat([factors_returns, momentum_returns, momentum_returns_long_only], axis=1)\n",
    "returns_temp = returns_temp.loc['1994':]\n",
    "returns_temp.columns = [col.replace('UMD', 'UMD (Long-Short)') for col in returns_temp.columns]\n",
    "\n",
    "momentum_performance_lo_vs_ls = pm.calc_returns_statistics(returns=returns_temp,\n",
    "                                                provided_excess_returns=True,\n",
    "                                                annual_factor=12,\n",
    "                                                correlations=['MKT', 'HML'],\n",
    "                                                tail_risks=True,\n",
    "                                                keep_columns=['Annualized Mean', 'Annualized Vol', 'Annualized Sharpe', 'Skewness'],\n",
    "                                                keep_indexes=['UMD (Long-Short)', 'U (Long Only)'])\n",
    "\n",
    "display(momentum_performance_lo_vs_ls)\n"
   ]
  },
  {
   "cell_type": "markdown",
   "metadata": {},
   "source": [
    "\n",
    "#### (b) Is long-only momentum as attractive as long-short momentum with respect to mean, volatility, and Sharpe Ratio?\n",
    "\n",
    "<span style=\"color:red\">__*Answer 2.2 (b)*__</span>\n",
    "\n",
    "Yes, long-only looks even more attractive than long-short momentum. The mean return is higher, while the volatility is similar. Sharpe ratio is higher as well.\n",
    "\n",
    "\n",
    "#### (c) Is long-only momentum as diversifying as long-short momentum with respect to market and value premia?\n",
    "\n",
    "\n",
    "<span style=\"color:red\">__*Answer 2.2 (c)*__</span>\n",
    "\n",
    "No, the long-only momentum portfolio has 90% of correlation with market, whereas the long-short momentum portfolio has -31% of correlation with market. This is because the long-only momentum portfolio is still exposed to market risk. Therefore, it does not diversify at all with respect to the market. However, it still has a low correlation with the value factor, which is a good diversifier.\n",
    "\n",
    "\n",
    "#### (d) Show a plot of the cumulative product of $1 + \\bar{r}^{\\text{mom:FF}}$ and $1 + \\bar{r}^{\\text{mom:U:FF}}$ over the 1994-2024 subsample.²\n",
    "This is not quite a cumulative return given that these are excess returns, which is why we must add 1 before taking the cumulative product.\n",
    "\n",
    "<span style=\"color:red\">__*Answer 2.2 (d)*__</span>\n",
    "\n"
   ]
  },
  {
   "cell_type": "code",
   "execution_count": 7,
   "metadata": {},
   "outputs": [
    {
     "data": {
      "image/png": "[encoded data removed]",
      "text/plain": [
       "<Figure size 900x600 with 1 Axes>"
      ]
     },
     "metadata": {},
     "output_type": "display_data"
    }
   ],
   "source": [
    "pm.calc_cummulative_returns(returns_temp[['UMD (Long-Short)', 'U (Long Only)', 'MKT']], fig_size=6)"
   ]
  },
  {
   "cell_type": "markdown",
   "metadata": {},
   "source": [
    "### 2.3. Is momentum just data mining, or is it a robust strategy?\n",
    "\n",
    "Assess how sensitive the threshold for the “winners” and “losers” is in the results. Specifically, we compare three constructions:\n",
    "\n",
    "- **Long the top 1 decile and short the bottom 1 decile:**\n",
    "\n",
    "  $$\n",
    "  \\bar{r}^{\\text{momD1}} = r^{\\text{mom}(10)} - r^{\\text{mom}(1)}\n",
    "  $$\n",
    "\n",
    "- **Long the top 3 deciles and short the bottom 3 deciles:**\n",
    "\n",
    "  $$\n",
    "  \\bar{r}^{\\text{momD3}} = \\frac{1}{3} \\left( r^{\\text{mom}(8)} + r^{\\text{mom}(9)} + r^{\\text{mom}(10)} \\right) - \\frac{1}{3} \\left( r^{\\text{mom}(1)} + r^{\\text{mom}(2)} + r^{\\text{mom}(3)} \\right)\n",
    "  $$\n",
    "\n",
    "  which simplifies to\n",
    "\n",
    "  $$\n",
    "  = \\frac{1}{3} \\sum_{k=8}^{10} r^{\\text{mom}(k)} - \\frac{1}{3} \\sum_{k=1}^{3} r^{\\text{mom}(k)}\n",
    "  $$\n",
    "\n",
    "- **Long the top 5 deciles and short the bottom 5 deciles:**\n",
    "\n",
    "  $$\n",
    "  \\bar{r}^{\\text{momD5}} = \\frac{1}{5} \\sum_{k=6}^{10} r^{\\text{mom}(k)} - \\frac{1}{5} \\sum_{k=1}^{5} r^{\\text{mom}(k)}\n",
    "  $$\n",
    "\n",
    "---\n",
    "\n",
    "#### (a) Compare all three constructions (in the full-sample period) by filling out the stats in the table below for the **period 1994-2024**.\n",
    "\n",
    "*Table 3: Robustness of momentum construction.*\n",
    "\n",
    "| 1994-2024 | mean | vol | Sharpe | skewness | corr. to $\\bar{r}^m$ | corr. to $\\bar{r}^w$ |\n",
    "|-----------|------|-----|--------|----------|-----------------------|-----------------------|\n",
    "| $\\bar{r}^{\\text{momD1}}$ |      |     |        |          |                       |                       |\n",
    "| $\\bar{r}^{\\text{momD3}}$ |      |     |        |          |                       |                       |\n",
    "| $\\bar{r}^{\\text{momD5}}$ |      |     |        |          |                       |                       |\n"
   ]
  },
  {
   "cell_type": "markdown",
   "metadata": {},
   "source": [
    "<span style=\"color:red\">__*Answer 2.3 (a)*__</span>"
   ]
  },
  {
   "cell_type": "code",
   "execution_count": 8,
   "metadata": {},
   "outputs": [
    {
     "data": {
      "text/plain": [
       "Date\n",
       "1927-01-31    0.0097\n",
       "1927-02-28    0.0421\n",
       "1927-03-31   -0.0242\n",
       "1927-04-30   -0.0005\n",
       "1927-05-31    0.0580\n",
       "               ...  \n",
       "2024-05-31    0.0354\n",
       "2024-06-30    0.0300\n",
       "2024-07-31    0.0409\n",
       "2024-08-31    0.0339\n",
       "2024-09-30    0.0198\n",
       "Name: PRIOR 6, Length: 1173, dtype: float64"
      ]
     },
     "execution_count": 8,
     "metadata": {},
     "output_type": "execute_result"
    }
   ],
   "source": [
    "mom_dec_port_tot_ret.iloc[:, -5]"
   ]
  },
  {
   "cell_type": "code",
   "execution_count": 9,
   "metadata": {},
   "outputs": [
    {
     "data": {
      "text/html": [
       "<div>\n",
       "<style scoped>\n",
       "    .dataframe tbody tr th:only-of-type {\n",
       "        vertical-align: middle;\n",
       "    }\n",
       "\n",
       "    .dataframe tbody tr th {\n",
       "        vertical-align: top;\n",
       "    }\n",
       "\n",
       "    .dataframe thead th {\n",
       "        text-align: right;\n",
       "    }\n",
       "</style>\n",
       "<table border=\"1\" class=\"dataframe\">\n",
       "  <thead>\n",
       "    <tr style=\"text-align: right;\">\n",
       "      <th></th>\n",
       "      <th>Annualized Mean</th>\n",
       "      <th>Annualized Vol</th>\n",
       "      <th>Annualized Sharpe</th>\n",
       "      <th>Skewness</th>\n",
       "      <th>MKT Correlation</th>\n",
       "      <th>HML Correlation</th>\n",
       "    </tr>\n",
       "  </thead>\n",
       "  <tbody>\n",
       "    <tr>\n",
       "      <th>UMD</th>\n",
       "      <td>0.0432</td>\n",
       "      <td>0.1677</td>\n",
       "      <td>0.2575</td>\n",
       "      <td>-1.4460</td>\n",
       "      <td>-0.3062</td>\n",
       "      <td>-0.2152</td>\n",
       "    </tr>\n",
       "    <tr>\n",
       "      <th>UMD_D1</th>\n",
       "      <td>0.0820</td>\n",
       "      <td>0.2990</td>\n",
       "      <td>0.2742</td>\n",
       "      <td>-1.3046</td>\n",
       "      <td>-0.3197</td>\n",
       "      <td>-0.2335</td>\n",
       "    </tr>\n",
       "    <tr>\n",
       "      <th>UMD_D3</th>\n",
       "      <td>0.0286</td>\n",
       "      <td>0.1934</td>\n",
       "      <td>0.1476</td>\n",
       "      <td>-1.3450</td>\n",
       "      <td>-0.3617</td>\n",
       "      <td>-0.2115</td>\n",
       "    </tr>\n",
       "    <tr>\n",
       "      <th>UMD_D5</th>\n",
       "      <td>0.0164</td>\n",
       "      <td>0.1340</td>\n",
       "      <td>0.1225</td>\n",
       "      <td>-1.4159</td>\n",
       "      <td>-0.3486</td>\n",
       "      <td>-0.2122</td>\n",
       "    </tr>\n",
       "  </tbody>\n",
       "</table>\n",
       "</div>"
      ],
      "text/plain": [
       "        Annualized Mean  Annualized Vol  Annualized Sharpe  Skewness  MKT Correlation  HML Correlation\n",
       "UMD              0.0432          0.1677             0.2575   -1.4460          -0.3062          -0.2152\n",
       "UMD_D1           0.0820          0.2990             0.2742   -1.3046          -0.3197          -0.2335\n",
       "UMD_D3           0.0286          0.1934             0.1476   -1.3450          -0.3617          -0.2115\n",
       "UMD_D5           0.0164          0.1340             0.1225   -1.4159          -0.3486          -0.2122"
      ]
     },
     "metadata": {},
     "output_type": "display_data"
    }
   ],
   "source": [
    "momentum_returns_dec_port = pd.DataFrame({'UMD_D1': mom_dec_port_tot_ret.iloc[:, -1:].mean(axis=1) - mom_dec_port_tot_ret.iloc[:, :1].mean(axis=1),\n",
    "                                          'UMD_D3': mom_dec_port_tot_ret.iloc[:, -3:].mean(axis=1) - mom_dec_port_tot_ret.iloc[:, :3].mean(axis=1),\n",
    "                                          'UMD_D5': mom_dec_port_tot_ret.iloc[:, -5:].mean(axis=1) - mom_dec_port_tot_ret.iloc[:, :5].mean(axis=1)})\n",
    "    \n",
    "  # Calculate the factor returns statistics:\n",
    "returns_temp = pd.concat([factors_returns, momentum_returns, momentum_returns_dec_port], axis=1)\n",
    "returns_temp = returns_temp.loc['1994':]\n",
    "\n",
    "momentum_performance_dec = pm.calc_returns_statistics(returns=returns_temp,\n",
    "                                                provided_excess_returns=True,\n",
    "                                                annual_factor=12,\n",
    "                                                correlations=['MKT', 'HML'],\n",
    "                                                tail_risks=True,\n",
    "                                                keep_columns=['Annualized Mean', 'Annualized Vol', 'Annualized Sharpe', 'Skewness'],\n",
    "                                                keep_indexes=['UMD_D1', 'UMD_D3', 'UMD_D5', 'UMD'])\n",
    "\n",
    "display(momentum_performance_dec)"
   ]
  },
  {
   "cell_type": "markdown",
   "metadata": {},
   "source": [
    "#### (b) Do the tradeoffs between the 1-decile, 3-decile, and 5-decile constructions line up with the theoretical tradeoffs we discussed in the lecture?\n",
    "\n",
    "<span style=\"color:red\">__*Answer 2.3 (b)*__</span>\n",
    "\n",
    "Yes, we can see long-short portfolio with higher threshold of decile has higher return, but also higher volatility.\n",
    "\n",
    "\n",
    "#### (c) Should AQR’s retail product consider using a 1-decile or 5-decile construction?\n",
    "\n",
    "<span style=\"color:red\">__*Answer 2.3 (c)*__</span>\n",
    "\n",
    "I would recommend 1-decile, as it has higher sharpe, but can also see the argument for a 5 decile construction due to likely lower turnover (and therefore lower fees for investors).\n",
    "\n",
    "#### (d) Does $\\bar{r}^{\\text{momD3}}$ have similar stats to the Fama-French construction in (1)? Recall that construction is also a 3-decile, long-short construction, but it is segmented for small and large stocks. Compare the middle row of Table 3 with the top row of Table 2.\n",
    "\n",
    "<span style=\"color:red\">__*Answer 2.3 (d)*__</span>\n",
    "\n",
    "They are similar, but Fama-French construction has higher return and lower volatility, resulting with higher sharpe ratio. Fama-French construction allows balance between small and large stocks, whereas top 3 deciles construction could be biased towards either small or large stocks.\n"
   ]
  },
  {
   "cell_type": "markdown",
   "metadata": {},
   "source": [
    "### 2.4. Does implementing momentum require trading lots of small stocks—thus causing even larger trading costs?\n",
    "\n",
    "For regulatory and liquidity reasons, AQR is particularly interested in using larger stocks for their momentum baskets. (Though they will launch one product that focuses on medium-sized stocks.)\n",
    "\n",
    "Use the data provided on both small-stock “winners”, $r^{\\text{momSU}}_t$, and small-stock “losers”, $r^{\\text{momSD}}_t$, to construct a small-stock momentum portfolio,\n",
    "\n",
    "$$\n",
    "r^{\\text{momS}}_t = r^{\\text{momSU}}_t - r^{\\text{momSD}}_t\n",
    "$$\n",
    "\n",
    "Similarly, use the data provided to construct a big-stock momentum portfolio,\n",
    "\n",
    "$$\n",
    "r^{\\text{momB}}_t = r^{\\text{momBU}}_t - r^{\\text{momBD}}_t\n",
    "$$\n",
    "\n",
    "#### (a) Fill out Table 4 over the sample 1994-2024.\n",
    "\n",
    "*Table 4: Momentum of small and big stocks.*\n",
    "\n",
    "| 1994-2024          | mean | vol | Sharpe | skewness | corr. to $\\bar{r}[m]$ |\n",
    "|--------------------|------|-----|--------|----------|-----------------------|\n",
    "| All stocks, $\\bar{r}^{\\text{mom:FP}}$ |      |     |        |          |                       |\n",
    "| Small stocks $r^{\\text{momS}}$       |      |     |        |          |                       |\n",
    "| Large stocks $r^{\\text{momB}}$       |      |     |        |          |                       |\n",
    "\n"
   ]
  },
  {
   "cell_type": "markdown",
   "metadata": {},
   "source": [
    "<span style=\"color:red\">__*Answer 2.4 (a)*__</span>"
   ]
  },
  {
   "cell_type": "code",
   "execution_count": 10,
   "metadata": {},
   "outputs": [
    {
     "data": {
      "text/html": [
       "<div>\n",
       "<style scoped>\n",
       "    .dataframe tbody tr th:only-of-type {\n",
       "        vertical-align: middle;\n",
       "    }\n",
       "\n",
       "    .dataframe tbody tr th {\n",
       "        vertical-align: top;\n",
       "    }\n",
       "\n",
       "    .dataframe thead th {\n",
       "        text-align: right;\n",
       "    }\n",
       "</style>\n",
       "<table border=\"1\" class=\"dataframe\">\n",
       "  <thead>\n",
       "    <tr style=\"text-align: right;\">\n",
       "      <th></th>\n",
       "      <th>Annualized Mean</th>\n",
       "      <th>Annualized Vol</th>\n",
       "      <th>Annualized Sharpe</th>\n",
       "      <th>Skewness</th>\n",
       "      <th>MKT Correlation</th>\n",
       "      <th>HML Correlation</th>\n",
       "    </tr>\n",
       "  </thead>\n",
       "  <tbody>\n",
       "    <tr>\n",
       "      <th>UMD</th>\n",
       "      <td>0.0432</td>\n",
       "      <td>0.1677</td>\n",
       "      <td>0.2575</td>\n",
       "      <td>-1.4460</td>\n",
       "      <td>-0.3062</td>\n",
       "      <td>-0.2152</td>\n",
       "    </tr>\n",
       "    <tr>\n",
       "      <th>UMD_S</th>\n",
       "      <td>0.0632</td>\n",
       "      <td>0.1696</td>\n",
       "      <td>0.3726</td>\n",
       "      <td>-1.7636</td>\n",
       "      <td>-0.3040</td>\n",
       "      <td>-0.1485</td>\n",
       "    </tr>\n",
       "    <tr>\n",
       "      <th>UMD_B</th>\n",
       "      <td>0.0232</td>\n",
       "      <td>0.1825</td>\n",
       "      <td>0.1270</td>\n",
       "      <td>-0.8791</td>\n",
       "      <td>-0.2802</td>\n",
       "      <td>-0.2575</td>\n",
       "    </tr>\n",
       "  </tbody>\n",
       "</table>\n",
       "</div>"
      ],
      "text/plain": [
       "       Annualized Mean  Annualized Vol  Annualized Sharpe  Skewness  MKT Correlation  HML Correlation\n",
       "UMD             0.0432          0.1677             0.2575   -1.4460          -0.3062          -0.2152\n",
       "UMD_S           0.0632          0.1696             0.3726   -1.7636          -0.3040          -0.1485\n",
       "UMD_B           0.0232          0.1825             0.1270   -0.8791          -0.2802          -0.2575"
      ]
     },
     "metadata": {},
     "output_type": "display_data"
    }
   ],
   "source": [
    "momentum_returns_size_port = pd.DataFrame({'UMD_S': (mom_size_port_tot_ret['SMALL HiPRIOR'] - mom_size_port_tot_ret['SMALL LoPRIOR']),\n",
    "                                          'UMD_B': (mom_size_port_tot_ret['BIG HiPRIOR'] - mom_size_port_tot_ret['BIG LoPRIOR'])\n",
    "                                          })\n",
    "    \n",
    "  # Calculate the factor returns statistics:\n",
    "returns_temp = pd.concat([factors_returns, momentum_returns, momentum_returns_size_port], axis=1)\n",
    "returns_temp = returns_temp.loc['1994':]\n",
    "\n",
    "momentum_performance_dec = pm.calc_returns_statistics(returns=returns_temp,\n",
    "                                                provided_excess_returns=True,\n",
    "                                                annual_factor=12,\n",
    "                                                correlations=['MKT', 'HML'],\n",
    "                                                tail_risks=True,\n",
    "                                                keep_columns=['Annualized Mean', 'Annualized Vol', 'Annualized Sharpe', 'Skewness'],\n",
    "                                                keep_indexes=['UMD_S', 'UMD_B', 'UMD'])\n",
    "\n",
    "display(momentum_performance_dec)"
   ]
  },
  {
   "cell_type": "markdown",
   "metadata": {},
   "source": [
    "#### (b) Is the attractiveness of the momentum strategy mostly driven by the small stocks? That is, does a momentum strategy in large stocks still deliver excess returns at comparable risk?\n",
    "\n",
    "<span style=\"color:red\">__*Answer 2.4 (b)*__</span>\n",
    "\n",
    "Yes, the small stock momentum portfolio has almost 3 time higher sharpe ratio than the large stock momentum portfolio. Still, the large stock momentum portfolio delivers positive excess return."
   ]
  },
  {
   "cell_type": "markdown",
   "metadata": {},
   "source": [
    "### 5. In conclusion,\n",
    "\n",
    "\n",
    "#### what is your assessment of the AQR retail product? Is it capturing the important features of the Fama-French construction of momentum? Would you suggest any modifications?\n",
    "\n",
    "<span style=\"color:red\">__*Answer 2.5*__</span>\n",
    "\n",
    "- AQR's retail product uses a long only approach which leads to a higher correlation with the Market and has less diversification benefits compared to the benchmark index or Fama-French momentum factor.\n",
    "- Quarterly rebalancing might make the portfolio diverge from the benchmark index and Fama-French momentum factor."
   ]
  },
  {
   "cell_type": "markdown",
   "metadata": {},
   "source": [
    "\n",
    "---\n",
    "\n",
    "# Section 3: Barnstable’s Analysis\n",
    "This section is not graded, and you do not need to submit your answers.  \n",
    "*We may discuss these problems later, but they will not be covered in Midterm 2.*\n",
    "\n",
    "#### 1. Barnstable’s Philosophy\n",
    "  - **(a)** What has Barnstable’s investment strategy been in the past?\n",
    "  - **(b)** Explain the logic behind their view that stocks are safer in the long run.\n",
    "  - **(c)** What assumptions underly Barnstable’s belief in the long-run safety of stocks?\n",
    "\n",
    "\n",
    "<span style=\"color:red\">__*Answer 3.1 (a)*__</span>\n",
    "\n",
    "They believed that in the long-run, stocks would outperform bonds and treasuries. They has a 40% allocation to the S&P 500, 30% to actively managed US stocks, and 30% to actively managed international stocks.\n",
    "\n",
    "\n",
    "<span style=\"color:red\">__*Answer 3.1 (b)*__</span>\n",
    "\n",
    "Law of large numbers (time diversification): if each day is like a coin-flip with a positive expected value, then the more days you have, the more likely you are to make money. Aditionally, because of being \"serially\" uncorrelated, the movements cancel out. And your sharpe ratio increases with time.\n",
    "\n",
    "\n",
    "<span style=\"color:red\">__*Answer 3.1 (c)*__</span>\n",
    "\n",
    "Independence of returns, and that the expected return is positive.\n"
   ]
  },
  {
   "cell_type": "markdown",
   "metadata": {},
   "source": [
    "#### 2. Two Proposals\n",
    "  - **(a)** Describe the two proposals Barnstable is considering for how to take advantage of their view regarding the long-run safety of stocks.\n",
    "  - **(b)** How is the trust different from simply shorting the risk-free rate to take a levered position in stocks?\n",
    "  - **(c)** Do these proposals take the same bet on long-run stock performance? In what outcomes will they have different returns?\n",
    "  - **(d)** Do the two proposals differ in their risk?\n",
    "\n",
    "\n",
    "<span style=\"color:red\">__*Answer 3.2 (a)*__</span>\n",
    "\n",
    "1. Selling puts on the S&P 500 index, which were at a premium (due to vol skew).\n",
    "2. Selling shares on a pool of S&P 500 stocks, where (1) class of shares would return the minimum of the S&P return and 6%, and (2) would return whatever was left over from (1). They can then sell (1) and keep (2).\n",
    "\n",
    "\n",
    "<span style=\"color:red\">__*Answer 3.2 (b)*__</span>\n",
    "\n",
    "\n",
    "\n",
    "<span style=\"color:red\">__*Answer 3.2 (c)*__</span>\n",
    "\n",
    "1. If the S&P 500 goes up, then (1) is strictly better than (2). The reason being that (2) is always capped at return - 6%, whereas (1) is not capped, and is in-fact boosted by the premium from the put.\n",
    "2. If S&P 500 goes down, the (1) is worse than (2), since you're also short puts in addition to being long the S&P 500.\n",
    "\n",
    "\n",
    "\n",
    "<span style=\"color:red\">__*Answer 3.2 (d)*__</span>\n",
    "\n",
    "I would say (1) is probably riskier than (2), due to amplified downside risk.\n"
   ]
  },
  {
   "cell_type": "markdown",
   "metadata": {},
   "source": [
    "\n",
    "#### 3. Do you recommend a direct investment in the S&P, the trust or the puts?\n",
    "\n",
    "<span style=\"color:red\">__*Answer 3.3*__</span>\n",
    "\n",
    "\n",
    "If Barnstable truly believes that the S&P will go up, and the probability of selling puts is that low, then yes, selling the puts doubles-down on their investment philosophy. However, just buying the S&P 500 is less risky and you are getting *that* much premium from selling the puts, so it is the best option.\n",
    "\n",
    "The trust is some concoction dreamed up by a banker to collect fees, and is a terrible idea.\n",
    "\n",
    "For readers of Money Stuff, the second proposal is something like:\n",
    "\n",
    "![image](etf_cap.png)\n",
    "\n"
   ]
  },
  {
   "cell_type": "code",
   "execution_count": null,
   "metadata": {},
   "outputs": [],
   "source": []
  },
  {
   "cell_type": "markdown",
   "metadata": {},
   "source": [
    "\n",
    "---\n",
    "\n",
    "# Section 4: Estimating Underperformance\n",
    "\n",
    "\n",
    "### Data\n",
    "\n",
    "- Use the returns on the S&P 500 ($r^m$) and 1-month T-bills, ($r^f$) provided in  \n",
    "  **\"barnstable.analysis.data.xlsx\"**.\n",
    "\n",
    "- Barnstable’s estimates of mean and volatility are based on the subsample of 1965 to 1999.\n",
    "\n",
    "- We consider this subsample, as well as 2000-2024, as well as the full sample of 1926-2024.\n",
    "\n",
    "- We only have data through part of 2024, but no adjustment is needed for the fact that you have only the partial year; just use what you have."
   ]
  },
  {
   "cell_type": "code",
   "execution_count": 11,
   "metadata": {},
   "outputs": [
    {
     "name": "stdout",
     "output_type": "stream",
     "text": [
      "Sheet name: descriptions\n",
      "Columns: Unnamed: 0, Description\n",
      "  Unnamed: 0               Description\n",
      "0        SPX              S&P500 Index\n",
      "1       TB1M  Treasury Bill (1M) Index\n",
      "----------------------------------------------------------------------\n",
      "\n",
      "\n",
      "Sheet name: data\n",
      "Columns: date, SPX, TB1M\n",
      "        date     SPX   TB1M\n",
      "0 1926-01-30 -0.0018 0.0031\n",
      "1 1926-02-27 -0.0333 0.0026\n",
      "2 1926-03-31 -0.0577 0.0026\n",
      "----------------------------------------------------------------------\n",
      "\n",
      "\n"
     ]
    }
   ],
   "source": [
    "# Check data in the file (sheets, columns, data):\n",
    "INFILE = \"data/barnstable_analysis_data.xlsx\"\n",
    "try:\n",
    "    pm.read_excel_default(INFILE, print_sheets = True)\n",
    "except FileNotFoundError as e:\n",
    "    print(f'{e}.\\nCheck file in {parent_path}')"
   ]
  },
  {
   "cell_type": "code",
   "execution_count": 12,
   "metadata": {},
   "outputs": [],
   "source": [
    "# Import data from the file:\n",
    "description = pd.read_excel(INFILE, sheet_name='descriptions',index_col=0)\n",
    "returns = pd.read_excel(INFILE, sheet_name='data',index_col=0)\n",
    "\n",
    "returns = returns.assign(SPX_excess = returns['SPX'] - returns['TB1M'])\n",
    "returns_log = np.log(1 + returns)"
   ]
  },
  {
   "cell_type": "markdown",
   "metadata": {},
   "source": [
    "\n",
    "### 4.1. Summary Statistics\n",
    "\n",
    "#### (a) Report the following (annualized) statistics.\n",
    "\n",
    "$$\n",
    "\\begin{array}{|c|c|c|c|c|}\n",
    "\\hline\n",
    "& \\text{1965-1999} & \\text{2000-2024} & \\text{1926-2024} \\\\\n",
    "& \\text{mean} & \\text{vol} & \\text{mean} & \\text{vol} \\\\\n",
    "\\hline\n",
    "r^m & & & & \\\\\n",
    "\\tilde{r}^m & & & & \\\\\n",
    "r^f & & & & \\\\\n",
    "\\hline\n",
    "\\text{logs} & & & & \\\\\n",
    "r^m & & & & \\\\\n",
    "\\tilde{r}^m & & & & \\\\\n",
    "r^f & & & & \\\\\n",
    "\\hline\n",
    "\\end{array}\n",
    "$$\n"
   ]
  },
  {
   "cell_type": "markdown",
   "metadata": {},
   "source": [
    "<span style=\"color:red\">__*Answer 4.1 - (a)*__</span>"
   ]
  },
  {
   "cell_type": "code",
   "execution_count": 13,
   "metadata": {},
   "outputs": [
    {
     "data": {
      "text/html": [
       "<style type=\"text/css\">\n",
       "</style>\n",
       "<table id=\"T_5453d\">\n",
       "  <thead>\n",
       "    <tr>\n",
       "      <th class=\"blank\" >&nbsp;</th>\n",
       "      <th class=\"blank level0\" >&nbsp;</th>\n",
       "      <th id=\"T_5453d_level0_col0\" class=\"col_heading level0 col0\" colspan=\"2\">1965 - 1999</th>\n",
       "      <th id=\"T_5453d_level0_col2\" class=\"col_heading level0 col2\" colspan=\"2\">2000 - 2024</th>\n",
       "      <th id=\"T_5453d_level0_col4\" class=\"col_heading level0 col4\" colspan=\"2\">1926 - 2024</th>\n",
       "    </tr>\n",
       "    <tr>\n",
       "      <th class=\"blank\" >&nbsp;</th>\n",
       "      <th class=\"blank level1\" >&nbsp;</th>\n",
       "      <th id=\"T_5453d_level1_col0\" class=\"col_heading level1 col0\" >mean</th>\n",
       "      <th id=\"T_5453d_level1_col1\" class=\"col_heading level1 col1\" >vol</th>\n",
       "      <th id=\"T_5453d_level1_col2\" class=\"col_heading level1 col2\" >mean</th>\n",
       "      <th id=\"T_5453d_level1_col3\" class=\"col_heading level1 col3\" >vol</th>\n",
       "      <th id=\"T_5453d_level1_col4\" class=\"col_heading level1 col4\" >mean</th>\n",
       "      <th id=\"T_5453d_level1_col5\" class=\"col_heading level1 col5\" >vol</th>\n",
       "    </tr>\n",
       "  </thead>\n",
       "  <tbody>\n",
       "    <tr>\n",
       "      <th id=\"T_5453d_level0_row0\" class=\"row_heading level0 row0\" rowspan=\"3\">linear_returns</th>\n",
       "      <th id=\"T_5453d_level1_row0\" class=\"row_heading level1 row0\" >SPX</th>\n",
       "      <td id=\"T_5453d_row0_col0\" class=\"data row0 col0\" >12.94%</td>\n",
       "      <td id=\"T_5453d_row0_col1\" class=\"data row0 col1\" >14.94%</td>\n",
       "      <td id=\"T_5453d_row0_col2\" class=\"data row0 col2\" >8.73%</td>\n",
       "      <td id=\"T_5453d_row0_col3\" class=\"data row0 col3\" >15.31%</td>\n",
       "      <td id=\"T_5453d_row0_col4\" class=\"data row0 col4\" >11.55%</td>\n",
       "      <td id=\"T_5453d_row0_col5\" class=\"data row0 col5\" >18.68%</td>\n",
       "    </tr>\n",
       "    <tr>\n",
       "      <th id=\"T_5453d_level1_row1\" class=\"row_heading level1 row1\" >TB1M</th>\n",
       "      <td id=\"T_5453d_row1_col0\" class=\"data row1 col0\" >6.15%</td>\n",
       "      <td id=\"T_5453d_row1_col1\" class=\"data row1 col1\" >0.72%</td>\n",
       "      <td id=\"T_5453d_row1_col2\" class=\"data row1 col2\" >1.72%</td>\n",
       "      <td id=\"T_5453d_row1_col3\" class=\"data row1 col3\" >0.55%</td>\n",
       "      <td id=\"T_5453d_row1_col4\" class=\"data row1 col4\" >3.19%</td>\n",
       "      <td id=\"T_5453d_row1_col5\" class=\"data row1 col5\" >0.85%</td>\n",
       "    </tr>\n",
       "    <tr>\n",
       "      <th id=\"T_5453d_level1_row2\" class=\"row_heading level1 row2\" >SPX_excess</th>\n",
       "      <td id=\"T_5453d_row2_col0\" class=\"data row2 col0\" >6.87%</td>\n",
       "      <td id=\"T_5453d_row2_col1\" class=\"data row2 col1\" >15.02%</td>\n",
       "      <td id=\"T_5453d_row2_col2\" class=\"data row2 col2\" >7.01%</td>\n",
       "      <td id=\"T_5453d_row2_col3\" class=\"data row2 col3\" >15.33%</td>\n",
       "      <td id=\"T_5453d_row2_col4\" class=\"data row2 col4\" >8.33%</td>\n",
       "      <td id=\"T_5453d_row2_col5\" class=\"data row2 col5\" >18.75%</td>\n",
       "    </tr>\n",
       "    <tr>\n",
       "      <th id=\"T_5453d_level0_row3\" class=\"row_heading level0 row3\" rowspan=\"3\">log_returns</th>\n",
       "      <th id=\"T_5453d_level1_row3\" class=\"row_heading level1 row3\" >SPX</th>\n",
       "      <td id=\"T_5453d_row3_col0\" class=\"data row3 col0\" >11.76%</td>\n",
       "      <td id=\"T_5453d_row3_col1\" class=\"data row3 col1\" >14.96%</td>\n",
       "      <td id=\"T_5453d_row3_col2\" class=\"data row3 col2\" >7.53%</td>\n",
       "      <td id=\"T_5453d_row3_col3\" class=\"data row3 col3\" >15.40%</td>\n",
       "      <td id=\"T_5453d_row3_col4\" class=\"data row3 col4\" >9.78%</td>\n",
       "      <td id=\"T_5453d_row3_col5\" class=\"data row3 col5\" >18.61%</td>\n",
       "    </tr>\n",
       "    <tr>\n",
       "      <th id=\"T_5453d_level1_row4\" class=\"row_heading level1 row4\" >TB1M</th>\n",
       "      <td id=\"T_5453d_row4_col0\" class=\"data row4 col0\" >6.13%</td>\n",
       "      <td id=\"T_5453d_row4_col1\" class=\"data row4 col1\" >0.71%</td>\n",
       "      <td id=\"T_5453d_row4_col2\" class=\"data row4 col2\" >1.72%</td>\n",
       "      <td id=\"T_5453d_row4_col3\" class=\"data row4 col3\" >0.55%</td>\n",
       "      <td id=\"T_5453d_row4_col4\" class=\"data row4 col4\" >3.18%</td>\n",
       "      <td id=\"T_5453d_row4_col5\" class=\"data row4 col5\" >0.85%</td>\n",
       "    </tr>\n",
       "    <tr>\n",
       "      <th id=\"T_5453d_level1_row5\" class=\"row_heading level1 row5\" >SPX_excess</th>\n",
       "      <td id=\"T_5453d_row5_col0\" class=\"data row5 col0\" >5.72%</td>\n",
       "      <td id=\"T_5453d_row5_col1\" class=\"data row5 col1\" >15.12%</td>\n",
       "      <td id=\"T_5453d_row5_col2\" class=\"data row5 col2\" >5.81%</td>\n",
       "      <td id=\"T_5453d_row5_col3\" class=\"data row5 col3\" >15.45%</td>\n",
       "      <td id=\"T_5453d_row5_col4\" class=\"data row5 col4\" >6.57%</td>\n",
       "      <td id=\"T_5453d_row5_col5\" class=\"data row5 col5\" >18.70%</td>\n",
       "    </tr>\n",
       "  </tbody>\n",
       "</table>\n"
      ],
      "text/plain": [
       "<pandas.io.formats.style.Styler at 0x1a197d19430>"
      ]
     },
     "execution_count": 13,
     "metadata": {},
     "output_type": "execute_result"
    }
   ],
   "source": [
    "agg_years = [(1965, 1999), (2000, 2024), (1926, 2024)]\n",
    "def calc_analytics_by_year(data, agg_years):\n",
    "    res = []\n",
    "    for y in agg_years:\n",
    "        sub = data.loc[str(y[0]):str(y[1])]\n",
    "        res.append({'mean': sub.mean() * 12, 'vol': sub.std() * np.sqrt(12)})\n",
    "    return pd.DataFrame(res, index = [f'{i[0]} - {i[1]}' for i in agg_years]).stack()\n",
    "\n",
    "sum_stats = returns.apply(calc_analytics_by_year, agg_years = agg_years).T\n",
    "log_sum_stats = np.log(1 + returns).apply(calc_analytics_by_year, agg_years = agg_years).T\n",
    "\n",
    "returns_stats = pd.concat([sum_stats, log_sum_stats])\n",
    "returns_stats.index = pd.MultiIndex.from_product([['linear_returns','log_returns'], sum_stats.index.to_list()])\n",
    "returns_stats.style.format('{:,.2%}')"
   ]
  },
  {
   "cell_type": "markdown",
   "metadata": {},
   "source": [
    "#### (b) Comment on how the full-sample return stats compare to the sub-sample stats. Comment on how the level stats compare to the log stats.\n",
    "\n",
    "<span style=\"color:red\">__*Answer 4.1 - (b)*__</span>\n"
   ]
  },
  {
   "cell_type": "markdown",
   "metadata": {},
   "source": [
    "\n",
    "### 2. Recall the following...\n",
    "\n",
    "- If $x \\sim \\mathcal{N}(\\mu_x, \\sigma_x^2)$, then\n",
    "\n",
    "$$\n",
    "\\Pr[x < \\ell] = \\Phi_N(L)\n",
    "$$\n",
    "\n",
    "where\n",
    "\n",
    "$$\n",
    "L = \\frac{c - \\mu_x}{\\sigma_x}\n",
    "$$\n",
    "\n",
    "with $\\Phi_N$ denoting the standard normal cumulative distribution function (cdf).\n",
    "\n",
    "- Remember that cumulative log returns are simply the sum of the single-period log returns:\n",
    "\n",
    "$$\n",
    "r_{t,t+h}^m \\equiv \\sum_{i=1}^{h} r_{t+i}^m\n",
    "$$\n",
    "\n",
    "- It will be convenient to use and denote sample averages. We use the following notation for an $h$-period average ending at time $t + h$:\n",
    "\n",
    "$$\n",
    "\\bar{r}_{t,t+h}^m = \\frac{1}{h} \\sum_{i=1}^{h} r_{t+i}^m\n",
    "$$\n",
    "\n",
    "Calculate the probability that the cumulative market return will fall short of the cumulative risk-free return:\n",
    "\n",
    "$$\n",
    "\\Pr \\left[ R_{t,t+h}^m < R_{t,t+h}^f \\right] \\tag{2}\n",
    "$$\n",
    "\n",
    "To analyze this analytically, convert the probability statement above to a probability statement about mean log returns.\n",
    "\n",
    "#### (a) Calculate (2) using the subsample 1965-1999. Report the precise probability for $h = 15$ and $h = 30$ years. Plot the probability as a function of the investment horizon, $h$, for $0 < h \\leq 30$ years.\n",
    "\n",
    "<span style=\"color:red\">__*Answer 4.2*__</span>"
   ]
  },
  {
   "cell_type": "code",
   "execution_count": 14,
   "metadata": {},
   "outputs": [
    {
     "name": "stdout",
     "output_type": "stream",
     "text": [
      "SPX underperforming RF in the next 15 years after 1999: 7.16%\n",
      "SPX underperforming RF in the next 30 years after 1999: 1.92%\n"
     ]
    },
    {
     "data": {
      "image/png": "[encoded data removed]",
      "text/plain": [
       "<Figure size 640x480 with 1 Axes>"
      ]
     },
     "metadata": {},
     "output_type": "display_data"
    }
   ],
   "source": [
    "from scipy.stats import norm\n",
    "def prob_shortfall(mu_return, sigma_return, h):\n",
    "    threshold_h = 0 - h*mu_return\n",
    "    sigma_h = np.sqrt(h) * sigma_return\n",
    "    return norm.cdf(threshold_h/sigma_h)\n",
    "\n",
    "mu_excess, sigma_excess = returns_stats['1965 - 1999'].loc[('log_returns', 'SPX_excess')] # SPX excess returns distribution (assuming normality)\n",
    "\n",
    "\n",
    "print(f'SPX underperforming RF in the next 15 years after 1999: {prob_shortfall(mu_return=mu_excess, sigma_return=sigma_excess, h=15):,.2%}')\n",
    "\n",
    "print(f'SPX underperforming RF in the next 30 years after 1999: {prob_shortfall(mu_return=mu_excess, sigma_return=sigma_excess, h=30):,.2%}')\n",
    "\n",
    "h = np.arange(30) + 1\n",
    "probs = pd.DataFrame([prob_shortfall(mu_excess, sigma_excess, x) for x in h], columns=['Probability of Underperformance'], index = h)\n",
    "probs.plot(title = 'Sample from 1965 to 1999', ylabel = 'Probability', xlabel = 'h periods', grid=True)\n",
    "plt.show()"
   ]
  },
  {
   "cell_type": "markdown",
   "metadata": {},
   "source": [
    "### 3.\n",
    "\n",
    "#### Use the sample 1965-2024 to reconsider the 30-year probability. As of the end of 2024, calculate the probability of the stock return underperforming the risk-free rate over the next 30 years. That is, $R_{t,t+h}^m$ underperforming $R_{t,t+h}^f$ for $0 < h \\leq 30$.\n",
    "\n",
    "<span style=\"color:red\">__*Answer 4.3*__</span>"
   ]
  },
  {
   "cell_type": "code",
   "execution_count": 15,
   "metadata": {},
   "outputs": [
    {
     "name": "stdout",
     "output_type": "stream",
     "text": [
      "SPX underperforming RF in the next 30 years after 2024: 1.94%\n"
     ]
    },
    {
     "data": {
      "image/png": "[encoded data removed]",
      "text/plain": [
       "<Figure size 640x480 with 1 Axes>"
      ]
     },
     "metadata": {},
     "output_type": "display_data"
    }
   ],
   "source": [
    "mu_excess = np.log(1+returns.loc['1965':'2024', 'SPX_excess']).mean() * 12\n",
    "sigma_excess = np.log(1+returns.loc['1965':'2024', 'SPX_excess']).std() * np.sqrt(12)\n",
    "\n",
    "print(f'SPX underperforming RF in the next 30 years after 2024: {prob_shortfall(mu_return=mu_excess, sigma_return=sigma_excess, h=30):,.2%}')\n",
    "\n",
    "h = np.arange(30) + 1\n",
    "\n",
    "probs_shortall = pd.DataFrame([prob_shortfall(mu_excess, sigma_excess, x) for x in h], columns=['Probability of Underperformance'], index = h)\n",
    "probs_shortall.plot(title = 'Sample from 1965 to 2024', ylabel = 'Probability', xlabel = 'h periods', grid=True)\n",
    "plt.show()\n"
   ]
  },
  {
   "cell_type": "markdown",
   "metadata": {},
   "source": [
    "#### 4.\n",
    "\n",
    "#### Let’s consider how things turned out relative to Barnstable’s 1999 expectations. What was the probability (based on the 1999 estimate of $\\mu$), that the 25-year market return, $R_{t,t+25}^m$, would be smaller than that realized in 2000-2024? Note that we are asking about the market return, not the excess market return. Continue using the 1965-1999 sample standard deviation for $\\sigma$.\n",
    "\n",
    "<span style=\"color:red\">__*Answer 4.4*__</span>"
   ]
  },
  {
   "cell_type": "code",
   "execution_count": 16,
   "metadata": {},
   "outputs": [
    {
     "data": {
      "text/plain": [
       "0.1176000182700086"
      ]
     },
     "execution_count": 16,
     "metadata": {},
     "output_type": "execute_result"
    }
   ],
   "source": [
    "returns_stats[('1965 - 1999', 'mean')].loc[('log_returns', 'SPX')]"
   ]
  },
  {
   "cell_type": "code",
   "execution_count": 17,
   "metadata": {},
   "outputs": [
    {
     "name": "stdout",
     "output_type": "stream",
     "text": [
      "Expected SPX return in 2000-2024: 11.76%\n",
      "Realized SPX return in 2000-2024: 7.53%\n",
      "\n",
      "Probability of underperformance in 2000-2024: 7.85%\n"
     ]
    }
   ],
   "source": [
    "mu_excess = returns_stats[('1965 - 1999', 'mean')].loc[('log_returns', 'SPX')] - returns_stats[('2000 - 2024', 'mean')].loc[('log_returns', 'SPX')]\n",
    "sigma = returns_stats[('1965 - 1999', 'vol')].loc[('log_returns', 'SPX')]\n",
    "\n",
    "print(f\"Expected SPX return in 2000-2024: {returns_stats[('1965 - 1999', 'mean')].loc[('log_returns', 'SPX')]:.2%}\")\n",
    "print(f\"Realized SPX return in 2000-2024: {returns_stats[('2000 - 2024', 'mean')].loc[('log_returns', 'SPX')]:.2%}\")\n",
    "\n",
    "print(f\"\\nProbability of underperformance in 2000-2024: {prob_shortfall(mu_excess, sigma, 25):,.2%}\")"
   ]
  },
  {
   "cell_type": "code",
   "execution_count": null,
   "metadata": {},
   "outputs": [],
   "source": []
  }
 ],
 "metadata": {
  "kernelspec": {
   "display_name": "uchicago",
   "language": "python",
   "name": "python3"
  },
  "language_info": {
   "codemirror_mode": {
    "name": "ipython",
    "version": 3
   },
   "file_extension": ".py",
   "mimetype": "text/x-python",
   "name": "python",
   "nbconvert_exporter": "python",
   "pygments_lexer": "ipython3",
   "version": "3.12.4"
  }
 },
 "nbformat": 4,
 "nbformat_minor": 2
}
