{
 "cells": [
  {
   "cell_type": "markdown",
   "id": "dc6dd1a7",
   "metadata": {},
   "source": [
    "# Portfolio & Risk Management I (2024)"
   ]
  },
  {
   "cell_type": "markdown",
   "id": "30b1d4aa",
   "metadata": {},
   "source": [
    "## Homework #7: Estimating The Equity Risk Premium (GMO)"
   ]
  },
  {
   "cell_type": "markdown",
   "id": "72f15f77",
   "metadata": {},
   "source": [
    "### Solutions ###"
   ]
  },
  {
   "cell_type": "markdown",
   "id": "de611524",
   "metadata": {},
   "source": [
    "__Brief Takeaways:__\n",
    "- Key outputs of GMO's forecast were: the estimate of the equity risk premium in the long term and the expected return on stocks over the intermediate term\n",
    "- GMO thought that equities deserved a risk premium as they \"lose money at bad times\"\n",
    "- GMO was interested in the expected return in the *intermediate* term because market prices can significantly differ from fundamental value, which leads to the intermediate term return possibly being different from the long-run required return\n",
    "- 7 year forecast is very important to GMO's allocation decisions\n",
    "- GMO decomposed the required return into the dividend yield, the multiple expansion/contraction, the change in profit margin, and the growth in sales per share.\n",
    "- GMO would expect multiples and profit margins to revert to long-run (steady state) levels, and would forecast sales growth according to the business cycle (and as such it could vary from its long term growth rate)\n",
    "- GMO thought that a 7-year horizon was long enough for the convergence of multiples and profit margins to their steady state levels\n",
    "- GMO's view of things reverting to the mean and its belief of others' cognitive biases led them to act as somewhat of a 'contrarian', although it would take modest positions unless it had strong confidence, in which case it would be very aggressive\n",
    "- In fact, GMO would hold some forms of cash simply waiting for attractive opportunities to arrive\n",
    "\n",
    "- GMO thought that behavior of investors was often driven by concerns for short-term career risks as opposed to long-term investment performance"
   ]
  },
  {
   "cell_type": "markdown",
   "id": "137c4710",
   "metadata": {},
   "source": [
    "## Section 1: GMO"
   ]
  },
  {
   "cell_type": "markdown",
   "id": "74f582c7",
   "metadata": {},
   "source": [
    "### 1.1\n",
    "\n",
    "__*(a)*__ GMO believes that there exists a long-run 'steady state' level to which asset's returns should converge over long time horizons. This belief is founded in a belief in the economics underlying the markets, in which the markets operate in a more efficient manner. In the short run, GMO is aware of the noise that clouds markets and market participants. GMO believes that although things will eventually revert towards the 'steady state', the biases, career considerations, and shocks cause significant noise that make it difficult to predict short-run performance.\n",
    "\n",
    "__*(b)*__ GMO uses the dividend yield, the P/E multiple expansion/contraction, the change in the profit margin, and sales growth as its predicting variables. Specifically, it believes that the profit margin and the P/E multiple have long-term steady values, and that in the long-term returns are driven by sales growth and the *required* dividend yield. This does seem to fit with the goal of long-run forecasts, which are meant to focus on the fundamental drivers of assets, not the market noise.\n",
    "\n",
    "__*(c)*__ GMO typically expects the P/E and profit margin to revert to their long-run mean, and adjusts its expectations for dividend yield and sales growth according to their belief in the future of the business cycle. As such, when markets have elevated multiples or profit margins, GMO expects them to contract and thus takes an underweight position.\n",
    "\n",
    "__*(d)*__ The first risk, business risk, is a result of a fund needing to secure capital long enough to see its thesis become realized. As a contrarian with a long term perspective, GMO is likely to suffer from severe underperformance while it waits for its thesis to play out. Many investors are not patient enough and may withrdraw their money, leaving GMO with no ability to function at all. Secondly, there is career risk. The risk here is that many investment professionals are driven by their concern for their position, which is largely determined by short(er) term performance. One may be reluctant to stand out if the risk of them, and them alone, being wrong leads to them being fired."
   ]
  },
  {
   "cell_type": "markdown",
   "id": "db9ac387",
   "metadata": {},
   "source": [
    "### 1.2\n",
    "\n",
    "__*(a)*__ Firstly, we have developed significant infrastructure, theory, and general understanding over the past 50 years. As the process of searching and transacting changes, it is likely that the costs (as reflected in returns) will change as well. In addition, our development of risk-theory is likely to alter the premiums of different assets. From a more foundational perspective, one can not even be sure that the underlying economics functions similarly as it has before. New technology, whether it be the internet or blockchain have proven their ability to alter the intersection of economics and markets (or at least our perspective of such as market participants). Consider GMO's use of profit margins, for example, and how fundamentally different the business models of tech is from prior businesses.\n",
    "\n",
    "__*(b)*__ As of 2007, the market's P/E sat at 19.5 and it's profit margin at 7.9%. These were both above GMO's steady-state levels. Also, GMO forecasted a 2.4% growth in sales as opposed to its 3.2% steady-state level, which seems to indicate that GMO anticipated an economic contraction.\n",
    "\n",
    "__*(c)*__ GMO expects both sales growth and dividend yield to increase from 2011 levels, and expects profit margins to decrease. It has also revised its steady state P/E from 16 down to 15."
   ]
  },
  {
   "cell_type": "markdown",
   "id": "5b185e9d",
   "metadata": {},
   "source": [
    "### 1.3\n",
    "\n",
    "__*(a)*__ GMO expected US equities to have a negative return.\n",
    "\n",
    "__*(b)*__ Foreign government bonds substantially outperformed GMO's forecast.\n",
    "\n",
    "__*(c)*__ US Treasuries and US REITS."
   ]
  },
  {
   "cell_type": "markdown",
   "id": "9705794a",
   "metadata": {},
   "source": [
    "### 1.4\n",
    "\n",
    "__*(a)*__ GMWAX was most heavily positioned in US Fixed Income.\n",
    "\n",
    "__*(b)*__ GMWAX seems to have performed fairly well in comparison. Most notably, it seemed to have less tail risk on the downside."
   ]
  },
  {
   "cell_type": "markdown",
   "id": "e81640d3",
   "metadata": {},
   "source": [
    "## Section 2: Analyzing GMO"
   ]
  },
  {
   "cell_type": "code",
   "execution_count": 1,
   "id": "9d8a8c0e",
   "metadata": {},
   "outputs": [],
   "source": [
    "import pandas as pd\n",
    "import numpy as np\n",
    "import matplotlib.pyplot as plt\n",
    "import statsmodels.api as sm\n",
    "from statsmodels.regression.rolling import RollingOLS\n",
    "\n",
    "import warnings\n",
    "warnings.filterwarnings(\"ignore\")\n",
    "import os\n",
    "\n",
    "parent_path = os.path.dirname(os.getcwd()) # Get parent path (if using .ipynb file)\n",
    "# parent_path = os.path.dirname(os.path.dirname(os.path.abspath(__file__))) # Get parent path (if using .py file)\n",
    "os.chdir(parent_path) # Set parent path as working directory (for reading and writing files)"
   ]
  },
  {
   "cell_type": "code",
   "execution_count": 2,
   "id": "85f80b7b",
   "metadata": {},
   "outputs": [],
   "source": [
    "rets = pd.read_excel('data/gmo_data.xlsx',sheet_name='total returns',index_col='date')\n",
    "rfr = pd.read_excel('data/gmo_data.xlsx',sheet_name='risk-free rate',index_col='date') / 12\n",
    "retsx = rets.subtract(rfr['TBill 3M'],axis=0)"
   ]
  },
  {
   "cell_type": "code",
   "execution_count": 3,
   "id": "0f7baa42",
   "metadata": {},
   "outputs": [],
   "source": [
    "# Create function to retrieve common statistics\n",
    "def stats_mean_vol_sharpe(data,portfolio = None,portfolio_name = 'Portfolio',annualize = 12):\n",
    "    \n",
    "    if portfolio is None:\n",
    "        returns = data\n",
    "    else:\n",
    "        returns = data @ portfolio\n",
    "    \n",
    "    output = returns.agg(['mean','std'])\n",
    "    output.loc['sharpe'] = output.loc['mean'] / output.loc['std']\n",
    "    \n",
    "    output.loc['mean'] *= annualize\n",
    "    output.loc['std'] *= np.sqrt(annualize)\n",
    "    output.loc['sharpe'] *= np.sqrt(annualize)\n",
    "    \n",
    "    if portfolio is None:\n",
    "        pass\n",
    "    else:\n",
    "        output.columns = [portfolio_name]\n",
    "    \n",
    "    return output\n",
    "\n",
    "# Create function to calculate stats over certain periods, using any stat function\n",
    "def stats_over_samples(data, samples, statfunc, **kwargs):\n",
    "    '''enter (start,end) in samples as a list of tuples'''\n",
    "    dfs = []\n",
    "    output = pd.DataFrame()\n",
    "    \n",
    "    for start, end in samples:\n",
    "        \n",
    "        if start == 'start':\n",
    "            \n",
    "            if end == 'end':\n",
    "                data_subsample = data\n",
    "            else:\n",
    "                data_subsample = data.loc[:end]\n",
    "        else:\n",
    "            \n",
    "            if end == 'end':\n",
    "                data_subsample = data.loc[start:]\n",
    "            else:\n",
    "                data_subsample = data.loc[start:end]\n",
    "        \n",
    "        stats = statfunc(data_subsample,**kwargs)\n",
    "        dfs.append(stats)\n",
    "        \n",
    "    output = pd.concat(dfs,keys = [f'{start} - {end}' for start,end in samples])\n",
    "    \n",
    "    return output\n",
    "\n",
    "\n",
    "# Create function to retrieve tail risk statistics\n",
    "# Note this uses a simple historic definition of VaR and CVaR\n",
    "def stats_tail_risk(data, portfolio = None, portfolio_name = 'Portfolio', VaR = 0.05):\n",
    "    \n",
    "    if portfolio is None:\n",
    "        returns = data\n",
    "    else:\n",
    "        returns = data @ portfolio\n",
    "    \n",
    "    output = returns.agg(['skew',\n",
    "                          'kurt'])\n",
    "    output.loc['VaR'] = returns.quantile(q = 0.05)\n",
    "    output.loc['CVaR'] = returns[returns <= output.loc['VaR']].mean()\n",
    "    ### ^^^ THIS STEP ONLY NECESSARY IF LOOKING FOR MAX DRAWDOWN AS WELL\n",
    "    if portfolio is None:\n",
    "        pass\n",
    "    else:\n",
    "        output.columns = portfolio_name\n",
    "    \n",
    "    return output\n",
    "\n",
    "\n",
    "# Create function to calculate max drawdown and associated dates\n",
    "def max_drawdown(data, portfolio = None, portfolio_name = 'Portfolio'):\n",
    "    \n",
    "    if portfolio is None:\n",
    "        returns = data\n",
    "        output = pd.DataFrame(columns=returns.columns)\n",
    "    else:\n",
    "        returns = data @ portfolio\n",
    "        output = pd.DataFrame(columns=[portfolio_name])\n",
    "    \n",
    "    cumulative = (returns + 1).cumprod()\n",
    "    maximum = cumulative.expanding().max()\n",
    "    drawdown = cumulative / maximum - 1\n",
    "    \n",
    "    for col in output.columns:\n",
    "        \n",
    "        output.loc['MDD',col] = drawdown[col].min()\n",
    "        output.loc['Max Date',col] = cumulative[cumulative.index < drawdown[col].idxmin()][col]\\\n",
    "                                             .idxmax()\\\n",
    "                                             .date()\n",
    "        output.loc['Min Date',col] = drawdown[col].idxmin().date()\n",
    "        recovery_date = drawdown.loc[drawdown[col].idxmin():,col]\\\n",
    "                                             .apply(lambda x: 0 if x == 0 else np.nan)\\\n",
    "                                             .idxmax()\n",
    "        \n",
    "        if recovery_date is np.nan:\n",
    "            output.loc['Recovery Date',col] = recovery_date\n",
    "            output.loc['Recovery Period',col] = np.nan\n",
    "        else:\n",
    "            output.loc['Recovery Date',col] = recovery_date.date()\n",
    "            output.loc['Recovery Period',col] = (output.loc['Recovery Date',col]\\\n",
    "                                             - output.loc['Min Date',col])\\\n",
    "                                             .days\n",
    "        \n",
    "    return output"
   ]
  },
  {
   "cell_type": "markdown",
   "id": "16337d61",
   "metadata": {},
   "source": [
    "### 2.1"
   ]
  },
  {
   "cell_type": "code",
   "execution_count": 4,
   "id": "ac6f12be",
   "metadata": {},
   "outputs": [
    {
     "data": {
      "text/plain": [
       "date\n",
       "1996-12-31   -0.026403\n",
       "1997-01-31    0.010446\n",
       "1997-02-28    0.017915\n",
       "1997-03-31   -0.019587\n",
       "1997-04-30   -0.011092\n",
       "                ...   \n",
       "2024-06-28   -0.011654\n",
       "2024-07-31    0.025997\n",
       "2024-08-30    0.010434\n",
       "2024-09-30    0.008589\n",
       "2024-10-31   -0.040693\n",
       "Name: GMWAX, Length: 335, dtype: float64"
      ]
     },
     "execution_count": 4,
     "metadata": {},
     "output_type": "execute_result"
    }
   ],
   "source": [
    "retsx['GMWAX']"
   ]
  },
  {
   "cell_type": "code",
   "execution_count": 5,
   "id": "fe300554",
   "metadata": {},
   "outputs": [
    {
     "data": {
      "text/html": [
       "<div>\n",
       "<style scoped>\n",
       "    .dataframe tbody tr th:only-of-type {\n",
       "        vertical-align: middle;\n",
       "    }\n",
       "\n",
       "    .dataframe tbody tr th {\n",
       "        vertical-align: top;\n",
       "    }\n",
       "\n",
       "    .dataframe thead th {\n",
       "        text-align: right;\n",
       "    }\n",
       "</style>\n",
       "<table border=\"1\" class=\"dataframe\">\n",
       "  <thead>\n",
       "    <tr style=\"text-align: right;\">\n",
       "      <th></th>\n",
       "      <th></th>\n",
       "      <th>SPY</th>\n",
       "      <th>GMWAX</th>\n",
       "      <th>GMGEX</th>\n",
       "    </tr>\n",
       "  </thead>\n",
       "  <tbody>\n",
       "    <tr>\n",
       "      <th rowspan=\"3\" valign=\"top\">start - 2011</th>\n",
       "      <th>mean</th>\n",
       "      <td>0.036</td>\n",
       "      <td>0.046</td>\n",
       "      <td>-0.004</td>\n",
       "    </tr>\n",
       "    <tr>\n",
       "      <th>std</th>\n",
       "      <td>0.164</td>\n",
       "      <td>0.110</td>\n",
       "      <td>0.147</td>\n",
       "    </tr>\n",
       "    <tr>\n",
       "      <th>sharpe</th>\n",
       "      <td>0.218</td>\n",
       "      <td>0.420</td>\n",
       "      <td>-0.026</td>\n",
       "    </tr>\n",
       "    <tr>\n",
       "      <th rowspan=\"3\" valign=\"top\">2012 - end</th>\n",
       "      <th>mean</th>\n",
       "      <td>0.133</td>\n",
       "      <td>0.043</td>\n",
       "      <td>0.001</td>\n",
       "    </tr>\n",
       "    <tr>\n",
       "      <th>std</th>\n",
       "      <td>0.141</td>\n",
       "      <td>0.095</td>\n",
       "      <td>0.236</td>\n",
       "    </tr>\n",
       "    <tr>\n",
       "      <th>sharpe</th>\n",
       "      <td>0.942</td>\n",
       "      <td>0.457</td>\n",
       "      <td>0.006</td>\n",
       "    </tr>\n",
       "    <tr>\n",
       "      <th rowspan=\"3\" valign=\"top\">start - end</th>\n",
       "      <th>mean</th>\n",
       "      <td>0.080</td>\n",
       "      <td>0.045</td>\n",
       "      <td>-0.001</td>\n",
       "    </tr>\n",
       "    <tr>\n",
       "      <th>std</th>\n",
       "      <td>0.154</td>\n",
       "      <td>0.103</td>\n",
       "      <td>0.193</td>\n",
       "    </tr>\n",
       "    <tr>\n",
       "      <th>sharpe</th>\n",
       "      <td>0.521</td>\n",
       "      <td>0.435</td>\n",
       "      <td>-0.008</td>\n",
       "    </tr>\n",
       "  </tbody>\n",
       "</table>\n",
       "</div>"
      ],
      "text/plain": [
       "                       SPY  GMWAX  GMGEX\n",
       "start - 2011 mean    0.036  0.046 -0.004\n",
       "             std     0.164  0.110  0.147\n",
       "             sharpe  0.218  0.420 -0.026\n",
       "2012 - end   mean    0.133  0.043  0.001\n",
       "             std     0.141  0.095  0.236\n",
       "             sharpe  0.942  0.457  0.006\n",
       "start - end  mean    0.080  0.045 -0.001\n",
       "             std     0.154  0.103  0.193\n",
       "             sharpe  0.521  0.435 -0.008"
      ]
     },
     "execution_count": 5,
     "metadata": {},
     "output_type": "execute_result"
    }
   ],
   "source": [
    "samples = [('start','2011'),('2012','end'),('start','end')]\n",
    "\n",
    "_ = stats_over_samples(retsx,samples,stats_mean_vol_sharpe)\n",
    "\n",
    "_.round(3)"
   ]
  },
  {
   "cell_type": "markdown",
   "id": "f1d24d40",
   "metadata": {},
   "source": [
    "Since this case, we have seen SPY's mean return and Sharpe ratio expand tremendously. GMWAX has had far less of a change."
   ]
  },
  {
   "cell_type": "markdown",
   "id": "acace0d6",
   "metadata": {},
   "source": [
    "### 2.2"
   ]
  },
  {
   "cell_type": "code",
   "execution_count": 6,
   "id": "de7a1c59",
   "metadata": {},
   "outputs": [
    {
     "data": {
      "text/html": [
       "<div>\n",
       "<style scoped>\n",
       "    .dataframe tbody tr th:only-of-type {\n",
       "        vertical-align: middle;\n",
       "    }\n",
       "\n",
       "    .dataframe tbody tr th {\n",
       "        vertical-align: top;\n",
       "    }\n",
       "\n",
       "    .dataframe thead th {\n",
       "        text-align: right;\n",
       "    }\n",
       "</style>\n",
       "<table border=\"1\" class=\"dataframe\">\n",
       "  <thead>\n",
       "    <tr style=\"text-align: right;\">\n",
       "      <th></th>\n",
       "      <th></th>\n",
       "      <th>SPY</th>\n",
       "      <th>GMWAX</th>\n",
       "      <th>GMGEX</th>\n",
       "    </tr>\n",
       "  </thead>\n",
       "  <tbody>\n",
       "    <tr>\n",
       "      <th rowspan=\"4\" valign=\"top\">start - 2011</th>\n",
       "      <th>skew</th>\n",
       "      <td>-0.514</td>\n",
       "      <td>-0.892</td>\n",
       "      <td>-0.510</td>\n",
       "    </tr>\n",
       "    <tr>\n",
       "      <th>kurt</th>\n",
       "      <td>0.583</td>\n",
       "      <td>3.058</td>\n",
       "      <td>0.673</td>\n",
       "    </tr>\n",
       "    <tr>\n",
       "      <th>VaR</th>\n",
       "      <td>-0.080</td>\n",
       "      <td>-0.044</td>\n",
       "      <td>-0.082</td>\n",
       "    </tr>\n",
       "    <tr>\n",
       "      <th>CVaR</th>\n",
       "      <td>-0.105</td>\n",
       "      <td>-0.074</td>\n",
       "      <td>-0.099</td>\n",
       "    </tr>\n",
       "    <tr>\n",
       "      <th rowspan=\"4\" valign=\"top\">2012 - end</th>\n",
       "      <th>skew</th>\n",
       "      <td>-0.498</td>\n",
       "      <td>-0.507</td>\n",
       "      <td>-6.028</td>\n",
       "    </tr>\n",
       "    <tr>\n",
       "      <th>kurt</th>\n",
       "      <td>0.910</td>\n",
       "      <td>1.946</td>\n",
       "      <td>57.473</td>\n",
       "    </tr>\n",
       "    <tr>\n",
       "      <th>VaR</th>\n",
       "      <td>-0.063</td>\n",
       "      <td>-0.041</td>\n",
       "      <td>-0.068</td>\n",
       "    </tr>\n",
       "    <tr>\n",
       "      <th>CVaR</th>\n",
       "      <td>-0.087</td>\n",
       "      <td>-0.059</td>\n",
       "      <td>-0.163</td>\n",
       "    </tr>\n",
       "    <tr>\n",
       "      <th rowspan=\"4\" valign=\"top\">start - end</th>\n",
       "      <th>skew</th>\n",
       "      <td>-0.544</td>\n",
       "      <td>-0.758</td>\n",
       "      <td>-5.131</td>\n",
       "    </tr>\n",
       "    <tr>\n",
       "      <th>kurt</th>\n",
       "      <td>0.770</td>\n",
       "      <td>2.771</td>\n",
       "      <td>58.273</td>\n",
       "    </tr>\n",
       "    <tr>\n",
       "      <th>VaR</th>\n",
       "      <td>-0.080</td>\n",
       "      <td>-0.041</td>\n",
       "      <td>-0.076</td>\n",
       "    </tr>\n",
       "    <tr>\n",
       "      <th>CVaR</th>\n",
       "      <td>-0.100</td>\n",
       "      <td>-0.069</td>\n",
       "      <td>-0.131</td>\n",
       "    </tr>\n",
       "  </tbody>\n",
       "</table>\n",
       "</div>"
      ],
      "text/plain": [
       "                     SPY  GMWAX   GMGEX\n",
       "start - 2011 skew -0.514 -0.892  -0.510\n",
       "             kurt  0.583  3.058   0.673\n",
       "             VaR  -0.080 -0.044  -0.082\n",
       "             CVaR -0.105 -0.074  -0.099\n",
       "2012 - end   skew -0.498 -0.507  -6.028\n",
       "             kurt  0.910  1.946  57.473\n",
       "             VaR  -0.063 -0.041  -0.068\n",
       "             CVaR -0.087 -0.059  -0.163\n",
       "start - end  skew -0.544 -0.758  -5.131\n",
       "             kurt  0.770  2.771  58.273\n",
       "             VaR  -0.080 -0.041  -0.076\n",
       "             CVaR -0.100 -0.069  -0.131"
      ]
     },
     "execution_count": 6,
     "metadata": {},
     "output_type": "execute_result"
    }
   ],
   "source": [
    "# Stats using excess returns\n",
    "_ = stats_over_samples(retsx,samples,stats_tail_risk)\n",
    "\n",
    "_.round(3)"
   ]
  },
  {
   "cell_type": "code",
   "execution_count": 7,
   "id": "3ff5fe6d",
   "metadata": {},
   "outputs": [
    {
     "data": {
      "text/html": [
       "<div>\n",
       "<style scoped>\n",
       "    .dataframe tbody tr th:only-of-type {\n",
       "        vertical-align: middle;\n",
       "    }\n",
       "\n",
       "    .dataframe tbody tr th {\n",
       "        vertical-align: top;\n",
       "    }\n",
       "\n",
       "    .dataframe thead th {\n",
       "        text-align: right;\n",
       "    }\n",
       "</style>\n",
       "<table border=\"1\" class=\"dataframe\">\n",
       "  <thead>\n",
       "    <tr style=\"text-align: right;\">\n",
       "      <th></th>\n",
       "      <th></th>\n",
       "      <th>SPY</th>\n",
       "      <th>GMWAX</th>\n",
       "      <th>GMGEX</th>\n",
       "    </tr>\n",
       "  </thead>\n",
       "  <tbody>\n",
       "    <tr>\n",
       "      <th rowspan=\"4\" valign=\"top\">start - 2011</th>\n",
       "      <th>skew</th>\n",
       "      <td>-0.536</td>\n",
       "      <td>-0.884</td>\n",
       "      <td>-0.550</td>\n",
       "    </tr>\n",
       "    <tr>\n",
       "      <th>kurt</th>\n",
       "      <td>0.603</td>\n",
       "      <td>3.016</td>\n",
       "      <td>0.712</td>\n",
       "    </tr>\n",
       "    <tr>\n",
       "      <th>VaR</th>\n",
       "      <td>-0.079</td>\n",
       "      <td>-0.044</td>\n",
       "      <td>-0.080</td>\n",
       "    </tr>\n",
       "    <tr>\n",
       "      <th>CVaR</th>\n",
       "      <td>-0.104</td>\n",
       "      <td>-0.072</td>\n",
       "      <td>-0.097</td>\n",
       "    </tr>\n",
       "    <tr>\n",
       "      <th rowspan=\"4\" valign=\"top\">2012 - end</th>\n",
       "      <th>skew</th>\n",
       "      <td>-0.488</td>\n",
       "      <td>-0.471</td>\n",
       "      <td>-6.024</td>\n",
       "    </tr>\n",
       "    <tr>\n",
       "      <th>kurt</th>\n",
       "      <td>0.897</td>\n",
       "      <td>2.035</td>\n",
       "      <td>57.447</td>\n",
       "    </tr>\n",
       "    <tr>\n",
       "      <th>VaR</th>\n",
       "      <td>-0.062</td>\n",
       "      <td>-0.038</td>\n",
       "      <td>-0.068</td>\n",
       "    </tr>\n",
       "    <tr>\n",
       "      <th>CVaR</th>\n",
       "      <td>-0.086</td>\n",
       "      <td>-0.058</td>\n",
       "      <td>-0.162</td>\n",
       "    </tr>\n",
       "    <tr>\n",
       "      <th rowspan=\"4\" valign=\"top\">start - end</th>\n",
       "      <th>skew</th>\n",
       "      <td>-0.550</td>\n",
       "      <td>-0.730</td>\n",
       "      <td>-5.164</td>\n",
       "    </tr>\n",
       "    <tr>\n",
       "      <th>kurt</th>\n",
       "      <td>0.783</td>\n",
       "      <td>2.731</td>\n",
       "      <td>58.687</td>\n",
       "    </tr>\n",
       "    <tr>\n",
       "      <th>VaR</th>\n",
       "      <td>-0.076</td>\n",
       "      <td>-0.041</td>\n",
       "      <td>-0.076</td>\n",
       "    </tr>\n",
       "    <tr>\n",
       "      <th>CVaR</th>\n",
       "      <td>-0.098</td>\n",
       "      <td>-0.067</td>\n",
       "      <td>-0.129</td>\n",
       "    </tr>\n",
       "  </tbody>\n",
       "</table>\n",
       "</div>"
      ],
      "text/plain": [
       "                     SPY  GMWAX   GMGEX\n",
       "start - 2011 skew -0.536 -0.884  -0.550\n",
       "             kurt  0.603  3.016   0.712\n",
       "             VaR  -0.079 -0.044  -0.080\n",
       "             CVaR -0.104 -0.072  -0.097\n",
       "2012 - end   skew -0.488 -0.471  -6.024\n",
       "             kurt  0.897  2.035  57.447\n",
       "             VaR  -0.062 -0.038  -0.068\n",
       "             CVaR -0.086 -0.058  -0.162\n",
       "start - end  skew -0.550 -0.730  -5.164\n",
       "             kurt  0.783  2.731  58.687\n",
       "             VaR  -0.076 -0.041  -0.076\n",
       "             CVaR -0.098 -0.067  -0.129"
      ]
     },
     "execution_count": 7,
     "metadata": {},
     "output_type": "execute_result"
    }
   ],
   "source": [
    "# Stats using total returns\n",
    "_ = stats_over_samples(rets,samples,stats_tail_risk)\n",
    "\n",
    "_.round(3)"
   ]
  },
  {
   "cell_type": "markdown",
   "id": "0c9630d4",
   "metadata": {},
   "source": [
    "__*(a)*__ It is interesting to note that, while being less volatile than SPY, GMWAX has a more negative skewness in all three subsamples. This seems to indicate that GMO tends to have small consistent profits and occasionally large losses. GMWAX has a notably more positive kurtosis, which is consistent with the idea that GMWAX has a higher tail risk relative to SPY. GMWAX also has smaller VaR and CVaR, however it is important to remember that it is less volatile and thus we must compare these statistics relative to that volatility. \n",
    "\n",
    "The plots below demonstrates this. We can see that GMO seems to have more concentrated returns but a greater tail risk. This is more easily seen in the second figure, which shows the vol-scaled histogram."
   ]
  },
  {
   "cell_type": "code",
   "execution_count": 8,
   "id": "3fdd8786",
   "metadata": {},
   "outputs": [
    {
     "data": {
      "image/png": "[encoded data removed]",
      "text/plain": [
       "<Figure size 1200x800 with 1 Axes>"
      ]
     },
     "metadata": {},
     "output_type": "display_data"
    }
   ],
   "source": [
    "retsx[['SPY', 'GMWAX']].plot(kind='hist',bins=50,figsize=(12,8),alpha=0.75)\n",
    "plt.title('Monthly Returns')\n",
    "plt.show()"
   ]
  },
  {
   "cell_type": "code",
   "execution_count": 9,
   "id": "0ff8bc79",
   "metadata": {},
   "outputs": [
    {
     "data": {
      "image/png": "[encoded data removed]",
      "text/plain": [
       "<Figure size 1200x800 with 1 Axes>"
      ]
     },
     "metadata": {},
     "output_type": "display_data"
    }
   ],
   "source": [
    "(retsx[['SPY', 'GMWAX']] / retsx[['SPY', 'GMWAX']].std()).plot(kind='hist',bins=50,figsize=(12,8),alpha=0.75)\n",
    "plt.title('Monthly Returns (Volatility Scaled)')\n",
    "plt.show()"
   ]
  },
  {
   "cell_type": "markdown",
   "id": "b8f41533",
   "metadata": {},
   "source": [
    "__*(b)*__ Yes, it does. In the period through 2011, GMWAX had more extreme measures of tail risk, including a more negative skew, a higher kurtosis, more negative VaR, and greater MDD."
   ]
  },
  {
   "cell_type": "markdown",
   "id": "1cbf798f",
   "metadata": {},
   "source": [
    "### 2.3"
   ]
  },
  {
   "cell_type": "markdown",
   "id": "c507e703",
   "metadata": {},
   "source": [
    "__*(a)*__"
   ]
  },
  {
   "cell_type": "code",
   "execution_count": 10,
   "id": "2b01aeb6",
   "metadata": {},
   "outputs": [
    {
     "data": {
      "text/html": [
       "<div>\n",
       "<style scoped>\n",
       "    .dataframe tbody tr th:only-of-type {\n",
       "        vertical-align: middle;\n",
       "    }\n",
       "\n",
       "    .dataframe tbody tr th {\n",
       "        vertical-align: top;\n",
       "    }\n",
       "\n",
       "    .dataframe thead th {\n",
       "        text-align: right;\n",
       "    }\n",
       "</style>\n",
       "<table border=\"1\" class=\"dataframe\">\n",
       "  <thead>\n",
       "    <tr style=\"text-align: right;\">\n",
       "      <th></th>\n",
       "      <th>const</th>\n",
       "      <th>SPY</th>\n",
       "      <th>r-squared</th>\n",
       "    </tr>\n",
       "  </thead>\n",
       "  <tbody>\n",
       "    <tr>\n",
       "      <th>start - 2011</th>\n",
       "      <td>0.0270</td>\n",
       "      <td>0.5421</td>\n",
       "      <td>0.6487</td>\n",
       "    </tr>\n",
       "    <tr>\n",
       "      <th>2012 - end</th>\n",
       "      <td>-0.0340</td>\n",
       "      <td>0.5818</td>\n",
       "      <td>0.7487</td>\n",
       "    </tr>\n",
       "    <tr>\n",
       "      <th>start - end</th>\n",
       "      <td>0.0006</td>\n",
       "      <td>0.5526</td>\n",
       "      <td>0.6802</td>\n",
       "    </tr>\n",
       "  </tbody>\n",
       "</table>\n",
       "</div>"
      ],
      "text/plain": [
       "               const     SPY  r-squared\n",
       "start - 2011  0.0270  0.5421     0.6487\n",
       "2012 - end   -0.0340  0.5818     0.7487\n",
       "start - end   0.0006  0.5526     0.6802"
      ]
     },
     "execution_count": 10,
     "metadata": {},
     "output_type": "execute_result"
    }
   ],
   "source": [
    "dfs = []\n",
    "\n",
    "for start, end in samples:\n",
    "        \n",
    "    if start == 'start':\n",
    "            \n",
    "        if end == 'end':\n",
    "            data_subsample = retsx\n",
    "        else:\n",
    "            data_subsample = retsx.loc[:end]\n",
    "    else:\n",
    "            \n",
    "        if end == 'end':\n",
    "            data_subsample = retsx.loc[start:]\n",
    "        else:\n",
    "            data_subsample = retsx.loc[start:end]\n",
    "    \n",
    "    y = data_subsample['GMWAX']\n",
    "    x = sm.add_constant(data_subsample['SPY'])\n",
    "\n",
    "    model = sm.OLS(y,x,missing='drop').fit()\n",
    "    df = model.params\n",
    "    df.loc['r-squared'] = model.rsquared\n",
    "    \n",
    "    dfs.append(df)\n",
    "\n",
    "_ = pd.concat(objs = dfs,axis=1,keys = [f'{start} - {end}' for start,end in samples])\n",
    "_.loc['const',:] *= 12\n",
    "_.transpose().round(4)\n"
   ]
  },
  {
   "cell_type": "markdown",
   "id": "00b79120",
   "metadata": {},
   "source": [
    "__*(b)*__ GMWAX has a beta of ~0.5 throughout the periods, and this has stayed relatively consistent throught this time. Given the context of the case and the strategy, this is a low beta.\n",
    "\n",
    "__*(c)*__ In the first subsample, yes, but we can see that it has a negative alpha since the case (shown by the second subsample). The annualized data is below."
   ]
  },
  {
   "cell_type": "code",
   "execution_count": 11,
   "id": "26f7fc35",
   "metadata": {},
   "outputs": [
    {
     "data": {
      "text/html": [
       "<div>\n",
       "<style scoped>\n",
       "    .dataframe tbody tr th:only-of-type {\n",
       "        vertical-align: middle;\n",
       "    }\n",
       "\n",
       "    .dataframe tbody tr th {\n",
       "        vertical-align: top;\n",
       "    }\n",
       "\n",
       "    .dataframe thead th {\n",
       "        text-align: right;\n",
       "    }\n",
       "</style>\n",
       "<table border=\"1\" class=\"dataframe\">\n",
       "  <thead>\n",
       "    <tr style=\"text-align: right;\">\n",
       "      <th></th>\n",
       "      <th>start - 2011</th>\n",
       "      <th>2012 - end</th>\n",
       "      <th>start - end</th>\n",
       "    </tr>\n",
       "  </thead>\n",
       "  <tbody>\n",
       "    <tr>\n",
       "      <th>const</th>\n",
       "      <td>0.324005</td>\n",
       "      <td>-0.407519</td>\n",
       "      <td>0.006702</td>\n",
       "    </tr>\n",
       "  </tbody>\n",
       "</table>\n",
       "</div>"
      ],
      "text/plain": [
       "       start - 2011  2012 - end  start - end\n",
       "const      0.324005   -0.407519     0.006702"
      ]
     },
     "execution_count": 11,
     "metadata": {},
     "output_type": "execute_result"
    }
   ],
   "source": [
    "_.loc[['const']] * 12"
   ]
  },
  {
   "cell_type": "markdown",
   "id": "e774da6c",
   "metadata": {},
   "source": [
    "All in all, we find that GMWAX has had mediocre *relative* performance, particularly since 2012. With a beta close to 0.5 with SPY but a lower Sharpe and a negative skew, it seems that GMWAX is not quite attractive. This is demonstrated further by the negative alpha since 2012. It is important to note that this does not solidify the case against GMWAX. For one, it could be capturing a different risk measure, or have exposure to a different risk measure than market risk. If the premium of such a measure turned negative since 2012, one may actually find GMWAX's alpha to be positive.\n",
    "\n",
    "Lastly, and reflective of GMO's strategy, GMWAX tends to have its returns come from a few large return months (positve, or negative), which is consistent with the large excess kurtosis statistic found before. This is also consistent with the beliefs behind GMO's strategy, which often leads to \"contrarian\" positions aimed at price bubbles that can move precipitously."
   ]
  },
  {
   "cell_type": "markdown",
   "id": "feca6d42",
   "metadata": {},
   "source": [
    "## Section 3: Forecast Regressions\n",
    "\n",
    "__Note:__ For this section, there is some ambiguity as to whether we should use excess or total returns. Here, I will use excess returns because this is most pertinent to forecasting. If I feel confident that I can predict the risk free rate, then we should strip this out and focus on modelling the less-predictable excess returns on their own."
   ]
  },
  {
   "cell_type": "code",
   "execution_count": 12,
   "id": "c20259cb",
   "metadata": {},
   "outputs": [],
   "source": [
    "signals = pd.read_excel('data/gmo_data.xlsx',sheet_name='signals',index_col='date')"
   ]
  },
  {
   "cell_type": "markdown",
   "id": "bf212aa0",
   "metadata": {},
   "source": [
    "### 3.1"
   ]
  },
  {
   "cell_type": "markdown",
   "id": "41a0b664",
   "metadata": {},
   "source": [
    "Dividend-Price Ratio (Dividend Yield):"
   ]
  },
  {
   "cell_type": "code",
   "execution_count": 13,
   "id": "a9697ab3",
   "metadata": {},
   "outputs": [
    {
     "name": "stdout",
     "output_type": "stream",
     "text": [
      "                            OLS Regression Results                            \n",
      "==============================================================================\n",
      "Dep. Variable:                    SPY   R-squared:                       0.014\n",
      "Model:                            OLS   Adj. R-squared:                  0.011\n",
      "Method:                 Least Squares   F-statistic:                     4.727\n",
      "Date:                Mon, 09 Dec 2024   Prob (F-statistic):             0.0304\n",
      "Time:                        11:07:43   Log-Likelihood:                 567.58\n",
      "No. Observations:                 334   AIC:                            -1131.\n",
      "Df Residuals:                     332   BIC:                            -1124.\n",
      "Df Model:                           1                                         \n",
      "Covariance Type:            nonrobust                                         \n",
      "===============================================================================\n",
      "                  coef    std err          t      P>|t|      [0.025      0.975]\n",
      "-------------------------------------------------------------------------------\n",
      "const          -0.0171      0.011     -1.519      0.130      -0.039       0.005\n",
      "SPX DVD YLD     0.0132      0.006      2.174      0.030       0.001       0.025\n",
      "==============================================================================\n",
      "Omnibus:                       27.416   Durbin-Watson:                   1.957\n",
      "Prob(Omnibus):                  0.000   Jarque-Bera (JB):               35.086\n",
      "Skew:                          -0.627   Prob(JB):                     2.40e-08\n",
      "Kurtosis:                       3.975   Cond. No.                         11.0\n",
      "==============================================================================\n",
      "\n",
      "Notes:\n",
      "[1] Standard Errors assume that the covariance matrix of the errors is correctly specified.\n"
     ]
    }
   ],
   "source": [
    "y = retsx['SPY']\n",
    "x = sm.add_constant(signals['SPX DVD YLD']).shift()\n",
    "\n",
    "model_dp = sm.OLS(y,x,missing='drop').fit()\n",
    "\n",
    "print(model_dp.summary())"
   ]
  },
  {
   "cell_type": "markdown",
   "id": "a243aa59",
   "metadata": {},
   "source": [
    "Earnings-Price Ratio (P/E):"
   ]
  },
  {
   "cell_type": "code",
   "execution_count": 14,
   "id": "7abd908b",
   "metadata": {},
   "outputs": [
    {
     "name": "stdout",
     "output_type": "stream",
     "text": [
      "                            OLS Regression Results                            \n",
      "==============================================================================\n",
      "Dep. Variable:                    SPY   R-squared:                       0.006\n",
      "Model:                            OLS   Adj. R-squared:                  0.003\n",
      "Method:                 Least Squares   F-statistic:                     2.011\n",
      "Date:                Mon, 09 Dec 2024   Prob (F-statistic):              0.157\n",
      "Time:                        11:07:43   Log-Likelihood:                 566.23\n",
      "No. Observations:                 334   AIC:                            -1128.\n",
      "Df Residuals:                     332   BIC:                            -1121.\n",
      "Df Model:                           1                                         \n",
      "Covariance Type:            nonrobust                                         \n",
      "==============================================================================\n",
      "                 coef    std err          t      P>|t|      [0.025      0.975]\n",
      "------------------------------------------------------------------------------\n",
      "const          0.0227      0.011      1.981      0.048       0.000       0.045\n",
      "SPX P/E       -0.0008      0.001     -1.418      0.157      -0.002       0.000\n",
      "==============================================================================\n",
      "Omnibus:                       22.545   Durbin-Watson:                   1.959\n",
      "Prob(Omnibus):                  0.000   Jarque-Bera (JB):               27.043\n",
      "Skew:                          -0.568   Prob(JB):                     1.34e-06\n",
      "Kurtosis:                       3.809   Cond. No.                         95.3\n",
      "==============================================================================\n",
      "\n",
      "Notes:\n",
      "[1] Standard Errors assume that the covariance matrix of the errors is correctly specified.\n"
     ]
    }
   ],
   "source": [
    "y = retsx['SPY']\n",
    "x = sm.add_constant(signals['SPX P/E']).shift()\n",
    "\n",
    "model_ep = sm.OLS(y,x,missing='drop').fit()\n",
    "\n",
    "print(model_ep.summary())"
   ]
  },
  {
   "cell_type": "markdown",
   "id": "2de3c243",
   "metadata": {},
   "source": [
    "DP, EP, and 10-year yield:"
   ]
  },
  {
   "cell_type": "code",
   "execution_count": 15,
   "id": "b7b0d9da",
   "metadata": {},
   "outputs": [
    {
     "name": "stdout",
     "output_type": "stream",
     "text": [
      "                            OLS Regression Results                            \n",
      "==============================================================================\n",
      "Dep. Variable:                    SPY   R-squared:                       0.016\n",
      "Model:                            OLS   Adj. R-squared:                  0.008\n",
      "Method:                 Least Squares   F-statistic:                     1.841\n",
      "Date:                Mon, 09 Dec 2024   Prob (F-statistic):              0.140\n",
      "Time:                        11:07:43   Log-Likelihood:                 567.99\n",
      "No. Observations:                 334   AIC:                            -1128.\n",
      "Df Residuals:                     330   BIC:                            -1113.\n",
      "Df Model:                           3                                         \n",
      "Covariance Type:            nonrobust                                         \n",
      "===============================================================================\n",
      "                  coef    std err          t      P>|t|      [0.025      0.975]\n",
      "-------------------------------------------------------------------------------\n",
      "const          -0.0155      0.036     -0.429      0.668      -0.087       0.056\n",
      "SPX DVD YLD     0.0126      0.010      1.233      0.218      -0.008       0.033\n",
      "SPX P/E         0.0002      0.001      0.271      0.786      -0.002       0.002\n",
      "TNote 10YR     -0.0015      0.002     -0.819      0.413      -0.005       0.002\n",
      "==============================================================================\n",
      "Omnibus:                       26.448   Durbin-Watson:                   1.971\n",
      "Prob(Omnibus):                  0.000   Jarque-Bera (JB):               33.317\n",
      "Skew:                          -0.617   Prob(JB):                     5.82e-08\n",
      "Kurtosis:                       3.934   Cond. No.                         318.\n",
      "==============================================================================\n",
      "\n",
      "Notes:\n",
      "[1] Standard Errors assume that the covariance matrix of the errors is correctly specified.\n"
     ]
    }
   ],
   "source": [
    "y = retsx['SPY']\n",
    "x = sm.add_constant(signals).shift()\n",
    "\n",
    "model_all = sm.OLS(y,x,missing='drop').fit()\n",
    "\n",
    "print(model_all.summary())"
   ]
  },
  {
   "cell_type": "markdown",
   "id": "36fd59f9",
   "metadata": {},
   "source": [
    "### 3.2"
   ]
  },
  {
   "cell_type": "code",
   "execution_count": 16,
   "id": "be5cbdb8",
   "metadata": {},
   "outputs": [],
   "source": [
    "# Build the return predictions, and align them with the right period\n",
    "all_prediction = model_all.predict(sm.add_constant(signals)).shift()\n",
    "dp_prediction = model_dp.predict(sm.add_constant(signals['SPX DVD YLD'])).shift()\n",
    "ep_prediction = model_ep.predict(sm.add_constant(signals['SPX P/E'])).shift()\n",
    "\n",
    "# Build the strategy weighting in SPY\n",
    "all_weight = 100 * all_prediction\n",
    "dp_weight = 100 * dp_prediction\n",
    "ep_weight = 100 * ep_prediction\n",
    "\n",
    "# Compute the strategy returns\n",
    "all_strat = all_weight * retsx['SPY']\n",
    "dp_strat = dp_weight * retsx['SPY']\n",
    "ep_strat = ep_weight * retsx['SPY']"
   ]
  },
  {
   "cell_type": "code",
   "execution_count": 17,
   "id": "09a76c24",
   "metadata": {},
   "outputs": [
    {
     "data": {
      "text/html": [
       "<div>\n",
       "<style scoped>\n",
       "    .dataframe tbody tr th:only-of-type {\n",
       "        vertical-align: middle;\n",
       "    }\n",
       "\n",
       "    .dataframe tbody tr th {\n",
       "        vertical-align: top;\n",
       "    }\n",
       "\n",
       "    .dataframe thead th {\n",
       "        text-align: right;\n",
       "    }\n",
       "</style>\n",
       "<table border=\"1\" class=\"dataframe\">\n",
       "  <thead>\n",
       "    <tr style=\"text-align: right;\">\n",
       "      <th></th>\n",
       "      <th>All</th>\n",
       "      <th>SPX DVD YLD</th>\n",
       "      <th>SPX P/E</th>\n",
       "    </tr>\n",
       "  </thead>\n",
       "  <tbody>\n",
       "    <tr>\n",
       "      <th>mean</th>\n",
       "      <td>0.094858</td>\n",
       "      <td>0.089093</td>\n",
       "      <td>0.070008</td>\n",
       "    </tr>\n",
       "    <tr>\n",
       "      <th>std</th>\n",
       "      <td>0.165277</td>\n",
       "      <td>0.165365</td>\n",
       "      <td>0.123267</td>\n",
       "    </tr>\n",
       "    <tr>\n",
       "      <th>sharpe</th>\n",
       "      <td>0.573933</td>\n",
       "      <td>0.538765</td>\n",
       "      <td>0.567939</td>\n",
       "    </tr>\n",
       "  </tbody>\n",
       "</table>\n",
       "</div>"
      ],
      "text/plain": [
       "             All  SPX DVD YLD   SPX P/E\n",
       "mean    0.094858     0.089093  0.070008\n",
       "std     0.165277     0.165365  0.123267\n",
       "sharpe  0.573933     0.538765  0.567939"
      ]
     },
     "execution_count": 17,
     "metadata": {},
     "output_type": "execute_result"
    }
   ],
   "source": [
    "_ = pd.concat([all_strat,dp_strat,ep_strat],axis=1,keys = ['All','SPX DVD YLD','SPX P/E'])\n",
    "stats_mean_vol_sharpe(_)"
   ]
  },
  {
   "cell_type": "code",
   "execution_count": 18,
   "id": "cff8bdbf",
   "metadata": {},
   "outputs": [
    {
     "data": {
      "text/html": [
       "<div>\n",
       "<style scoped>\n",
       "    .dataframe tbody tr th:only-of-type {\n",
       "        vertical-align: middle;\n",
       "    }\n",
       "\n",
       "    .dataframe tbody tr th {\n",
       "        vertical-align: top;\n",
       "    }\n",
       "\n",
       "    .dataframe thead th {\n",
       "        text-align: right;\n",
       "    }\n",
       "</style>\n",
       "<table border=\"1\" class=\"dataframe\">\n",
       "  <thead>\n",
       "    <tr style=\"text-align: right;\">\n",
       "      <th></th>\n",
       "      <th>All</th>\n",
       "      <th>SPX DVD YLD</th>\n",
       "      <th>SPX P/E</th>\n",
       "    </tr>\n",
       "  </thead>\n",
       "  <tbody>\n",
       "    <tr>\n",
       "      <th>skew</th>\n",
       "      <td>0.112820</td>\n",
       "      <td>-0.103132</td>\n",
       "      <td>-0.449678</td>\n",
       "    </tr>\n",
       "    <tr>\n",
       "      <th>kurt</th>\n",
       "      <td>12.485581</td>\n",
       "      <td>15.821042</td>\n",
       "      <td>4.295560</td>\n",
       "    </tr>\n",
       "    <tr>\n",
       "      <th>VaR</th>\n",
       "      <td>-0.047548</td>\n",
       "      <td>-0.049193</td>\n",
       "      <td>-0.049371</td>\n",
       "    </tr>\n",
       "    <tr>\n",
       "      <th>CVaR</th>\n",
       "      <td>-0.106298</td>\n",
       "      <td>-0.107035</td>\n",
       "      <td>-0.084034</td>\n",
       "    </tr>\n",
       "  </tbody>\n",
       "</table>\n",
       "</div>"
      ],
      "text/plain": [
       "            All  SPX DVD YLD   SPX P/E\n",
       "skew   0.112820    -0.103132 -0.449678\n",
       "kurt  12.485581    15.821042  4.295560\n",
       "VaR   -0.047548    -0.049193 -0.049371\n",
       "CVaR  -0.106298    -0.107035 -0.084034"
      ]
     },
     "execution_count": 18,
     "metadata": {},
     "output_type": "execute_result"
    }
   ],
   "source": [
    "stats_tail_risk(_)"
   ]
  },
  {
   "cell_type": "code",
   "execution_count": 19,
   "id": "ddb222f7",
   "metadata": {},
   "outputs": [],
   "source": [
    "# Redefine the above function\n",
    "def LFPM_TS(assets, factors, annualize = 12, name = 'asset', treynor = False, mkt_name = 'MKT'):\n",
    "    '''Alpha, IR, Treynor are annualized (only the stats output)'''\n",
    "\n",
    "    if isinstance(assets,pd.Series):\n",
    "        assets = pd.DataFrame(assets)\n",
    "        assets.columns = [name]\n",
    "    \n",
    "    if isinstance(factors,pd.Series):\n",
    "        factors = pd.DataFrame(factors)\n",
    "    \n",
    "    model_output = pd.DataFrame()\n",
    "    stats_output = pd.DataFrame()\n",
    "    residuals_output = pd.DataFrame()\n",
    "    \n",
    "    x = sm.add_constant(factors)\n",
    "    \n",
    "    for asset in assets.columns:\n",
    "        \n",
    "        # Create the model\n",
    "        y = assets[asset]\n",
    "        model = sm.OLS(y,x,missing='drop').fit()\n",
    "        \n",
    "        # Create the parameters dataframe\n",
    "        model_output[asset] = model.params\n",
    "        \n",
    "        # Create the statistics dataframe\n",
    "        mu = y.mean() * annualize\n",
    "        alpha = model.params[0] * annualize\n",
    "        sig_ep = model.resid.std() * np.sqrt(annualize)\n",
    "        IR = alpha / sig_ep\n",
    "        r_squared = model.rsquared\n",
    "        \n",
    "        stats_output[asset] = pd.Series(data = [alpha,IR,r_squared],index = ['Alpha','IR','$R^{2}$'])\n",
    "        \n",
    "        if treynor:\n",
    "            mkt = model.params[mkt_name]\n",
    "            TR = mu / mkt\n",
    "            \n",
    "            stats_output.loc['Treynor',asset] = TR\n",
    "        \n",
    "        # Create the residuals dataframe\n",
    "        residuals_output[asset] = model.resid\n",
    "        \n",
    "    return model_output, stats_output, residuals_output"
   ]
  },
  {
   "cell_type": "code",
   "execution_count": 20,
   "id": "ce3404ef",
   "metadata": {},
   "outputs": [
    {
     "data": {
      "text/html": [
       "<div>\n",
       "<style scoped>\n",
       "    .dataframe tbody tr th:only-of-type {\n",
       "        vertical-align: middle;\n",
       "    }\n",
       "\n",
       "    .dataframe tbody tr th {\n",
       "        vertical-align: top;\n",
       "    }\n",
       "\n",
       "    .dataframe thead th {\n",
       "        text-align: right;\n",
       "    }\n",
       "</style>\n",
       "<table border=\"1\" class=\"dataframe\">\n",
       "  <thead>\n",
       "    <tr style=\"text-align: right;\">\n",
       "      <th></th>\n",
       "      <th>All</th>\n",
       "      <th>SPX DVD YLD</th>\n",
       "      <th>SPX P/E</th>\n",
       "    </tr>\n",
       "  </thead>\n",
       "  <tbody>\n",
       "    <tr>\n",
       "      <th>Alpha</th>\n",
       "      <td>0.031548</td>\n",
       "      <td>0.024719</td>\n",
       "      <td>0.012190</td>\n",
       "    </tr>\n",
       "    <tr>\n",
       "      <th>IR</th>\n",
       "      <td>0.276848</td>\n",
       "      <td>0.220838</td>\n",
       "      <td>0.214076</td>\n",
       "    </tr>\n",
       "    <tr>\n",
       "      <th>$R^{2}$</th>\n",
       "      <td>0.524612</td>\n",
       "      <td>0.541815</td>\n",
       "      <td>0.786605</td>\n",
       "    </tr>\n",
       "  </tbody>\n",
       "</table>\n",
       "</div>"
      ],
      "text/plain": [
       "              All  SPX DVD YLD   SPX P/E\n",
       "Alpha    0.031548     0.024719  0.012190\n",
       "IR       0.276848     0.220838  0.214076\n",
       "$R^{2}$  0.524612     0.541815  0.786605"
      ]
     },
     "execution_count": 20,
     "metadata": {},
     "output_type": "execute_result"
    }
   ],
   "source": [
    "LFPM_TS(_,retsx['SPY'])[1]"
   ]
  },
  {
   "cell_type": "markdown",
   "id": "d9b8f62b",
   "metadata": {},
   "source": [
    "As we expect, the strategies are correlated to SPY, but less than one might expect. This seems to indicate a solid strategy."
   ]
  },
  {
   "cell_type": "markdown",
   "id": "851e658c",
   "metadata": {},
   "source": [
    "### 3.3"
   ]
  },
  {
   "cell_type": "markdown",
   "id": "05ac8e2c",
   "metadata": {},
   "source": [
    "__*(a)*__"
   ]
  },
  {
   "cell_type": "code",
   "execution_count": 21,
   "id": "ad8e845f",
   "metadata": {},
   "outputs": [
    {
     "data": {
      "text/plain": [
       "All           -0.047548\n",
       "SPX DVD YLD   -0.049193\n",
       "SPX P/E       -0.049371\n",
       "SPY           -0.079673\n",
       "GMWAX         -0.041368\n",
       "GMGEX         -0.076213\n",
       "Name: 0.05, dtype: float64"
      ]
     },
     "execution_count": 21,
     "metadata": {},
     "output_type": "execute_result"
    }
   ],
   "source": [
    "strats_df = pd.concat([_,retsx],axis = 1)\n",
    "\n",
    "strats_df.quantile(0.05)"
   ]
  },
  {
   "cell_type": "markdown",
   "id": "aa5f3b09",
   "metadata": {},
   "source": [
    "__*(b)*__"
   ]
  },
  {
   "cell_type": "code",
   "execution_count": 22,
   "id": "1df26ac3",
   "metadata": {},
   "outputs": [
    {
     "data": {
      "image/png": "[encoded data removed]",
      "text/plain": [
       "<Figure size 1200x800 with 1 Axes>"
      ]
     },
     "metadata": {},
     "output_type": "display_data"
    }
   ],
   "source": [
    "(strats_df.loc['2000':'2011'] + 1).cumprod().plot(figsize=(12,8))\n",
    "plt.axhline(1,c ='black',alpha=0.75,ls = '--')\n",
    "plt.show()"
   ]
  },
  {
   "cell_type": "markdown",
   "id": "1768fb26",
   "metadata": {},
   "source": [
    "We see that all but SPY (and GMGEX) outperform the risk-free rate during this time."
   ]
  },
  {
   "cell_type": "markdown",
   "id": "9a2e3722",
   "metadata": {},
   "source": [
    "__*(c)*__"
   ]
  },
  {
   "cell_type": "code",
   "execution_count": 23,
   "id": "ed4f61a6",
   "metadata": {},
   "outputs": [
    {
     "data": {
      "text/plain": [
       "0.10179640718562874"
      ]
     },
     "execution_count": 23,
     "metadata": {},
     "output_type": "execute_result"
    }
   ],
   "source": [
    "# All signals\n",
    "(dp_prediction.dropna() < 0).sum() / len(dp_prediction.dropna())"
   ]
  },
  {
   "cell_type": "code",
   "execution_count": 24,
   "id": "d953eb07",
   "metadata": {},
   "outputs": [
    {
     "data": {
      "text/plain": [
       "0.05688622754491018"
      ]
     },
     "execution_count": 24,
     "metadata": {},
     "output_type": "execute_result"
    }
   ],
   "source": [
    "# All signals\n",
    "(ep_prediction.dropna() < 0).sum() / len(ep_prediction.dropna())"
   ]
  },
  {
   "cell_type": "code",
   "execution_count": 25,
   "id": "fd07e349",
   "metadata": {},
   "outputs": [
    {
     "data": {
      "text/plain": [
       "0.11377245508982035"
      ]
     },
     "execution_count": 25,
     "metadata": {},
     "output_type": "execute_result"
    }
   ],
   "source": [
    "# All signals\n",
    "(all_prediction.dropna() < 0).sum() / len(all_prediction.dropna())"
   ]
  },
  {
   "cell_type": "markdown",
   "id": "be279a54",
   "metadata": {},
   "source": [
    "For all three models we find that we rarely have a negative risk premium for SPY."
   ]
  },
  {
   "cell_type": "markdown",
   "id": "4c123012",
   "metadata": {},
   "source": [
    "__*(d)*__ Statistics such as CVAR, MDD, and kurtosis all point to the dynamic strategies taking on a new form of risk relative to SPY. Even though the dynamic strategies have similar volatilies as SPY and positive alpha, they clearly have a substantially different return distribution than that of SPY."
   ]
  },
  {
   "cell_type": "markdown",
   "id": "03e0cd0b",
   "metadata": {},
   "source": [
    "## Section 4: Out-of-Sample Forecasting"
   ]
  },
  {
   "cell_type": "code",
   "execution_count": 26,
   "id": "9f3068f5",
   "metadata": {},
   "outputs": [],
   "source": [
    "def oos_forecast(signals, asset, t = 60, rolling = False, roll_exp = False, intercept = True):\n",
    "    \n",
    "    '''\n",
    "    Computes an out-of-sample forecast based on expanding regression periods\n",
    "    \n",
    "    signals: DataFrame containing the signals (regressors) to be used in each regression\n",
    "    asset: DataFrame containing the values (returns) of the asset being predicted\n",
    "    t: The minimum number of periods\n",
    "    rolling: False if expanding, else enter an integer window\n",
    "    roll_exp: If using rolling, indicate whether to use expanding up to the minimum periods \n",
    "    intercept: Boolean indicating the inclusion of an intercept in the regressions\n",
    "    '''\n",
    "    \n",
    "    n = len(signals)\n",
    "    \n",
    "    if intercept:\n",
    "        signals = sm.add_constant(signals)\n",
    "    \n",
    "    if t > n:\n",
    "        \n",
    "        raise ValueError('Min. periods (t) greater than number of data points')\n",
    "    \n",
    "    output = pd.DataFrame(index = signals.index, columns = ['Actual','Predicted','Null'])\n",
    "    \n",
    "    # If expanding\n",
    "    if not rolling:\n",
    "        \n",
    "        for i in range(t,n):\n",
    "\n",
    "            y = asset.iloc[:i]\n",
    "            x = signals.iloc[:i].shift()\n",
    "\n",
    "            if intercept:\n",
    "                null_pred = y.mean()\n",
    "\n",
    "            else:\n",
    "                null_pred = 0\n",
    "\n",
    "            model = sm.OLS(y,x,missing='drop').fit()\n",
    "\n",
    "            pred_x = signals.iloc[[i - 1]]\n",
    "            pred = model.predict(pred_x)[0]\n",
    "            output.iloc[i]['Actual'] = asset.iloc[i]\n",
    "            output.iloc[i]['Predicted'] = pred\n",
    "            output.iloc[i]['Null'] = null_pred\n",
    "    \n",
    "    # If rolling\n",
    "    else:\n",
    "        \n",
    "        if rolling > n:\n",
    "            \n",
    "            raise ValueError('Rolling window greater than number of data points')\n",
    "        \n",
    "        y = asset\n",
    "        x = signals.shift()\n",
    "        \n",
    "        if intercept:\n",
    "            \n",
    "            if roll_exp:\n",
    "                null_pred = y.rolling(window = rolling, min_periods = 0).mean().shift()\n",
    "            else:\n",
    "                null_pred = y.rolling(window = rolling).mean().shift()\n",
    "\n",
    "        else:\n",
    "            null_pred = 0\n",
    "        \n",
    "        # When expanding == True, there is a minimum number of observations\n",
    "        # Keep ^ in mind\n",
    "        model = RollingOLS(y,x,window = rolling, expanding = roll_exp).fit()\n",
    "\n",
    "        output['Actual'] = asset\n",
    "        output['Predicted'] = (model.params * signals).dropna().sum(axis=1).shift()\n",
    "        output['Null'] = null_pred\n",
    "        \n",
    "        \n",
    "    return output\n",
    "\n",
    "\n",
    "def oos_r_squared(data):\n",
    "    \n",
    "    '''\n",
    "    Computes the out-of-sample r squared\n",
    "    data: DataFrame containing actual, model-predicted, and null-predicted values\n",
    "    '''\n",
    "    \n",
    "    model_error = data['Actual'] - data['Predicted']\n",
    "    null_error = data['Actual'] - data['Null']\n",
    "    \n",
    "    r2_oos = 1 - (model_error ** 2).sum() / (null_error ** 2).sum()\n",
    "    \n",
    "    return r2_oos\n",
    "\n",
    "\n",
    "# Create a trading returns func that takes in a trading implementation func"
   ]
  },
  {
   "cell_type": "code",
   "execution_count": 27,
   "id": "449a6dcb",
   "metadata": {},
   "outputs": [
    {
     "data": {
      "text/plain": [
       "-0.057691580402814635"
      ]
     },
     "execution_count": 27,
     "metadata": {},
     "output_type": "execute_result"
    }
   ],
   "source": [
    "oos_ep_dp = oos_forecast(signals[['SPX DVD YLD', 'SPX P/E']], retsx['SPY'])\n",
    "\n",
    "oos_r_squared(oos_ep_dp)"
   ]
  },
  {
   "cell_type": "markdown",
   "id": "5c2c2190",
   "metadata": {},
   "source": [
    "No, this strategy id not produce a positive OOS r-squared. It performed worse than the simple expanding mean."
   ]
  },
  {
   "cell_type": "code",
   "execution_count": 28,
   "id": "ebecdf2f",
   "metadata": {},
   "outputs": [
    {
     "data": {
      "image/png": "[encoded data removed]",
      "text/plain": [
       "<Figure size 1200x800 with 1 Axes>"
      ]
     },
     "metadata": {},
     "output_type": "display_data"
    }
   ],
   "source": [
    "oos_ep_dp.dropna().plot(figsize=(12,8))\n",
    "plt.show()"
   ]
  },
  {
   "cell_type": "markdown",
   "id": "878aaecb",
   "metadata": {},
   "source": [
    "### 4.2"
   ]
  },
  {
   "cell_type": "code",
   "execution_count": 29,
   "id": "888a53ab",
   "metadata": {},
   "outputs": [],
   "source": [
    "ep_dp_oos_weight = 100 * oos_ep_dp['Predicted']\n",
    "\n",
    "ep_dp_oos_strat = (ep_dp_oos_weight * oos_ep_dp['Actual']).astype(float)"
   ]
  },
  {
   "cell_type": "code",
   "execution_count": null,
   "id": "c4456ec9",
   "metadata": {},
   "outputs": [
    {
     "data": {
      "image/png": "[encoded data removed]",
      "text/plain": [
       "<Figure size 864x576 with 1 Axes>"
      ]
     },
     "metadata": {
      "needs_background": "light"
     },
     "output_type": "display_data"
    }
   ],
   "source": [
    "(1 + ep_dp_oos_strat).cumprod().plot(figsize=(12,8))\n",
    "plt.show()"
   ]
  },
  {
   "cell_type": "markdown",
   "id": "6ec87fda",
   "metadata": {},
   "source": [
    "The two plots above both show that the predictions around 2009 drastically reduce the performance of the OOS model, both from an $R^2$ perspective as well as a cumulative returns perspective."
   ]
  },
  {
   "cell_type": "code",
   "execution_count": null,
   "id": "dca3870a",
   "metadata": {},
   "outputs": [
    {
     "data": {
      "text/plain": [
       "mean      0.046676\n",
       "std       0.214650\n",
       "sharpe    0.217453\n",
       "dtype: float64"
      ]
     },
     "execution_count": 87,
     "metadata": {},
     "output_type": "execute_result"
    }
   ],
   "source": [
    "stats_mean_vol_sharpe(ep_dp_oos_strat)"
   ]
  },
  {
   "cell_type": "code",
   "execution_count": null,
   "id": "623f0b32",
   "metadata": {},
   "outputs": [
    {
     "data": {
      "text/html": [
       "<div>\n",
       "<style scoped>\n",
       "    .dataframe tbody tr th:only-of-type {\n",
       "        vertical-align: middle;\n",
       "    }\n",
       "\n",
       "    .dataframe tbody tr th {\n",
       "        vertical-align: top;\n",
       "    }\n",
       "\n",
       "    .dataframe thead th {\n",
       "        text-align: right;\n",
       "    }\n",
       "</style>\n",
       "<table border=\"1\" class=\"dataframe\">\n",
       "  <thead>\n",
       "    <tr style=\"text-align: right;\">\n",
       "      <th></th>\n",
       "      <th>EP DP OOS</th>\n",
       "    </tr>\n",
       "  </thead>\n",
       "  <tbody>\n",
       "    <tr>\n",
       "      <th>skew</th>\n",
       "      <td>-2.256126</td>\n",
       "    </tr>\n",
       "    <tr>\n",
       "      <th>kurt</th>\n",
       "      <td>28.14692</td>\n",
       "    </tr>\n",
       "    <tr>\n",
       "      <th>VaR</th>\n",
       "      <td>-0.06051</td>\n",
       "    </tr>\n",
       "    <tr>\n",
       "      <th>CVaR</th>\n",
       "      <td>-0.161214</td>\n",
       "    </tr>\n",
       "    <tr>\n",
       "      <th>MDD</th>\n",
       "      <td>-0.716296</td>\n",
       "    </tr>\n",
       "    <tr>\n",
       "      <th>Max Date</th>\n",
       "      <td>2007-10-31</td>\n",
       "    </tr>\n",
       "    <tr>\n",
       "      <th>Min Date</th>\n",
       "      <td>2009-06-30</td>\n",
       "    </tr>\n",
       "    <tr>\n",
       "      <th>Recovery Date</th>\n",
       "      <td>NaN</td>\n",
       "    </tr>\n",
       "    <tr>\n",
       "      <th>Recovery Period</th>\n",
       "      <td>NaN</td>\n",
       "    </tr>\n",
       "  </tbody>\n",
       "</table>\n",
       "</div>"
      ],
      "text/plain": [
       "                  EP DP OOS\n",
       "skew              -2.256126\n",
       "kurt               28.14692\n",
       "VaR                -0.06051\n",
       "CVaR              -0.161214\n",
       "MDD               -0.716296\n",
       "Max Date         2007-10-31\n",
       "Min Date         2009-06-30\n",
       "Recovery Date           NaN\n",
       "Recovery Period         NaN"
      ]
     },
     "execution_count": 88,
     "metadata": {},
     "output_type": "execute_result"
    }
   ],
   "source": [
    "stats_tail_risk(ep_dp_oos_strat.rename('EP DP OOS').to_frame())"
   ]
  },
  {
   "cell_type": "code",
   "execution_count": null,
   "id": "3c71a136",
   "metadata": {},
   "outputs": [
    {
     "data": {
      "text/html": [
       "<div>\n",
       "<style scoped>\n",
       "    .dataframe tbody tr th:only-of-type {\n",
       "        vertical-align: middle;\n",
       "    }\n",
       "\n",
       "    .dataframe tbody tr th {\n",
       "        vertical-align: top;\n",
       "    }\n",
       "\n",
       "    .dataframe thead th {\n",
       "        text-align: right;\n",
       "    }\n",
       "</style>\n",
       "<table border=\"1\" class=\"dataframe\">\n",
       "  <thead>\n",
       "    <tr style=\"text-align: right;\">\n",
       "      <th></th>\n",
       "      <th>asset</th>\n",
       "    </tr>\n",
       "  </thead>\n",
       "  <tbody>\n",
       "    <tr>\n",
       "      <th>Alpha</th>\n",
       "      <td>0.001153</td>\n",
       "    </tr>\n",
       "    <tr>\n",
       "      <th>IR</th>\n",
       "      <td>0.005792</td>\n",
       "    </tr>\n",
       "    <tr>\n",
       "      <th>$R^{2}$</th>\n",
       "      <td>0.139622</td>\n",
       "    </tr>\n",
       "  </tbody>\n",
       "</table>\n",
       "</div>"
      ],
      "text/plain": [
       "            asset\n",
       "Alpha    0.001153\n",
       "IR       0.005792\n",
       "$R^{2}$  0.139622"
      ]
     },
     "execution_count": 89,
     "metadata": {},
     "output_type": "execute_result"
    }
   ],
   "source": [
    "LFPM_TS(ep_dp_oos_strat,retsx['SPY'])[1]"
   ]
  },
  {
   "cell_type": "markdown",
   "id": "a091a9d3",
   "metadata": {},
   "source": [
    "### 4.3\n",
    "\n",
    "__*(a)*__"
   ]
  },
  {
   "cell_type": "code",
   "execution_count": null,
   "id": "223e9396",
   "metadata": {},
   "outputs": [
    {
     "data": {
      "text/plain": [
       "-0.06051014396735028"
      ]
     },
     "execution_count": 91,
     "metadata": {},
     "output_type": "execute_result"
    }
   ],
   "source": [
    "ep_dp_oos_strat.quantile(0.05)"
   ]
  },
  {
   "cell_type": "markdown",
   "id": "f3c6c618",
   "metadata": {},
   "source": [
    "The 5% VaR of the strategy is notably worse than the in-sample version, but still more positive than that of SPY."
   ]
  },
  {
   "cell_type": "markdown",
   "id": "6966edc2",
   "metadata": {},
   "source": [
    "__*(b)*__ Yes, from the cumulative returns chart above it is clear that the out of sample strategy struggled significantly in the market crash."
   ]
  },
  {
   "cell_type": "markdown",
   "id": "b17a6ded",
   "metadata": {},
   "source": [
    "__*(c)*__"
   ]
  },
  {
   "cell_type": "code",
   "execution_count": null,
   "id": "720913b3",
   "metadata": {},
   "outputs": [
    {
     "data": {
      "text/plain": [
       "0.02909090909090909"
      ]
     },
     "execution_count": 92,
     "metadata": {},
     "output_type": "execute_result"
    }
   ],
   "source": [
    "# OOS DP and EP signals\n",
    "(oos_ep_dp['Predicted'].dropna() < 0).sum() / len(oos_ep_dp['Predicted'].dropna())"
   ]
  },
  {
   "cell_type": "markdown",
   "id": "42af1941",
   "metadata": {},
   "source": [
    "The out of sample model has a negative risk premium even less frequently, occurring only 3% of the time."
   ]
  },
  {
   "cell_type": "markdown",
   "id": "2a866e84",
   "metadata": {},
   "source": [
    "__*(d)*__ Yes, for the reasons outlined above."
   ]
  },
  {
   "cell_type": "markdown",
   "id": "dc5c6c52",
   "metadata": {},
   "source": [
    "## Section 5: CART and NN"
   ]
  },
  {
   "cell_type": "code",
   "execution_count": null,
   "id": "bb3d2c7f",
   "metadata": {},
   "outputs": [],
   "source": [
    "from sklearn.ensemble import RandomForestRegressor\n",
    "from sklearn.neural_network import MLPRegressor\n",
    "from sklearn.linear_model import LinearRegression"
   ]
  },
  {
   "cell_type": "markdown",
   "id": "be5a7234",
   "metadata": {},
   "source": [
    "### In Sample ###"
   ]
  },
  {
   "cell_type": "code",
   "execution_count": null,
   "id": "66bbb135",
   "metadata": {},
   "outputs": [],
   "source": [
    "def ml_model_predictions(model_cols, returns, signals, return_col, plots = False):\n",
    "    \n",
    "    forecasts_ML = returns.loc[:,[return_col]].expanding().mean().shift(1).dropna() \n",
    "    forecasts_ML.columns = ['Expanding Mean']\n",
    "\n",
    "    score_ML = pd.DataFrame(columns=['Expanding Mean'],index=['score'],data=0)\n",
    "\n",
    "    methods = ['OLS', 'Tree', 'NN']\n",
    "    est = dict()\n",
    "\n",
    "    y = returns.loc[:,[return_col]].iloc[1:].squeeze('columns').ravel()\n",
    "    X = signals.loc[:,model_cols].shift(1).dropna()\n",
    "\n",
    "    for method in methods:\n",
    "\n",
    "        if method == 'OLS':\n",
    "            est[method] = LinearRegression()\n",
    "        elif method == 'Tree':\n",
    "            est[method] = RandomForestRegressor(max_depth=3,random_state=1)\n",
    "        elif method == 'NN':\n",
    "            est[method] = MLPRegressor(hidden_layer_sizes=500,random_state=1)\n",
    "\n",
    "        est[method].fit(X,y)\n",
    "        forecasts_ML[method] = est[method].predict(X)\n",
    "        score_ML[method] = est[method].score(X,y)    \n",
    "\n",
    "    forecasts_ML.dropna(inplace=True)\n",
    "    wts_ML = 100 * forecasts_ML\n",
    "\n",
    "    spy_ML, _ = returns.loc[:,[return_col]].iloc[1:].align(forecasts_ML, join='right', axis=0)\n",
    "\n",
    "    fund_returns_ML = wts_ML * spy_ML.values\n",
    "    fund_returns_ML.insert(0,'Passive', spy_ML)\n",
    "    \n",
    "    if plots:\n",
    "        fn = X.columns\n",
    "        fig, axes = plt.subplots(nrows = 1,ncols=1, dpi=500);\n",
    "        tree.plot_tree(est['Tree'].estimators_[0],feature_names = fn, filled=True)\n",
    "        if len(model_cols) > 1:\n",
    "            title_name = '-'.join(str(v) for v in model_cols)\n",
    "        else:\n",
    "            title_name = model_cols[0]\n",
    "        plt.title('Signal - '+title_name, fontsize = 20)\n",
    "\n",
    "    return fund_returns_ML"
   ]
  },
  {
   "cell_type": "code",
   "execution_count": null,
   "id": "a12fd425",
   "metadata": {},
   "outputs": [],
   "source": [
    "ML_forecast_DP = ml_model_predictions(['SPX DVD YLD'], retsx, signals, 'SPY')\n",
    "ML_forecast_EP = ml_model_predictions(['SPX P/E'], retsx, signals, 'SPY')\n",
    "ML_forecast_All = ml_model_predictions(['SPX DVD YLD','SPX P/E','TNote 10YR'], retsx, signals, 'SPY')"
   ]
  },
  {
   "cell_type": "markdown",
   "id": "7d2cc552",
   "metadata": {},
   "source": [
    "__Dividend Yield:__"
   ]
  },
  {
   "cell_type": "code",
   "execution_count": null,
   "id": "5d95b7c1",
   "metadata": {},
   "outputs": [
    {
     "data": {
      "text/html": [
       "<div>\n",
       "<style scoped>\n",
       "    .dataframe tbody tr th:only-of-type {\n",
       "        vertical-align: middle;\n",
       "    }\n",
       "\n",
       "    .dataframe tbody tr th {\n",
       "        vertical-align: top;\n",
       "    }\n",
       "\n",
       "    .dataframe thead th {\n",
       "        text-align: right;\n",
       "    }\n",
       "</style>\n",
       "<table border=\"1\" class=\"dataframe\">\n",
       "  <thead>\n",
       "    <tr style=\"text-align: right;\">\n",
       "      <th></th>\n",
       "      <th>Passive</th>\n",
       "      <th>Expanding Mean</th>\n",
       "      <th>OLS</th>\n",
       "      <th>Tree</th>\n",
       "      <th>NN</th>\n",
       "    </tr>\n",
       "  </thead>\n",
       "  <tbody>\n",
       "    <tr>\n",
       "      <th>mean</th>\n",
       "      <td>0.081732</td>\n",
       "      <td>0.034274</td>\n",
       "      <td>0.089093</td>\n",
       "      <td>0.232886</td>\n",
       "      <td>0.291874</td>\n",
       "    </tr>\n",
       "    <tr>\n",
       "      <th>std</th>\n",
       "      <td>0.154545</td>\n",
       "      <td>0.124289</td>\n",
       "      <td>0.165365</td>\n",
       "      <td>0.229680</td>\n",
       "      <td>0.478885</td>\n",
       "    </tr>\n",
       "    <tr>\n",
       "      <th>sharpe</th>\n",
       "      <td>0.528857</td>\n",
       "      <td>0.275759</td>\n",
       "      <td>0.538765</td>\n",
       "      <td>1.013958</td>\n",
       "      <td>0.609487</td>\n",
       "    </tr>\n",
       "  </tbody>\n",
       "</table>\n",
       "</div>"
      ],
      "text/plain": [
       "         Passive  Expanding Mean       OLS      Tree        NN\n",
       "mean    0.081732        0.034274  0.089093  0.232886  0.291874\n",
       "std     0.154545        0.124289  0.165365  0.229680  0.478885\n",
       "sharpe  0.528857        0.275759  0.538765  1.013958  0.609487"
      ]
     },
     "execution_count": 105,
     "metadata": {},
     "output_type": "execute_result"
    }
   ],
   "source": [
    "stats_mean_vol_sharpe(ML_forecast_DP)"
   ]
  },
  {
   "cell_type": "code",
   "execution_count": null,
   "id": "e14827e5",
   "metadata": {},
   "outputs": [
    {
     "data": {
      "text/html": [
       "<div>\n",
       "<style scoped>\n",
       "    .dataframe tbody tr th:only-of-type {\n",
       "        vertical-align: middle;\n",
       "    }\n",
       "\n",
       "    .dataframe tbody tr th {\n",
       "        vertical-align: top;\n",
       "    }\n",
       "\n",
       "    .dataframe thead th {\n",
       "        text-align: right;\n",
       "    }\n",
       "</style>\n",
       "<table border=\"1\" class=\"dataframe\">\n",
       "  <thead>\n",
       "    <tr style=\"text-align: right;\">\n",
       "      <th></th>\n",
       "      <th>Passive</th>\n",
       "      <th>Expanding Mean</th>\n",
       "      <th>OLS</th>\n",
       "      <th>Tree</th>\n",
       "      <th>NN</th>\n",
       "    </tr>\n",
       "  </thead>\n",
       "  <tbody>\n",
       "    <tr>\n",
       "      <th>skew</th>\n",
       "      <td>-0.550278</td>\n",
       "      <td>-1.148924</td>\n",
       "      <td>-0.103132</td>\n",
       "      <td>3.92741</td>\n",
       "      <td>-0.447338</td>\n",
       "    </tr>\n",
       "    <tr>\n",
       "      <th>kurt</th>\n",
       "      <td>0.775821</td>\n",
       "      <td>10.498586</td>\n",
       "      <td>15.821042</td>\n",
       "      <td>22.478481</td>\n",
       "      <td>5.437229</td>\n",
       "    </tr>\n",
       "    <tr>\n",
       "      <th>VaR</th>\n",
       "      <td>-0.079683</td>\n",
       "      <td>-0.050512</td>\n",
       "      <td>-0.049193</td>\n",
       "      <td>-0.046519</td>\n",
       "      <td>-0.192516</td>\n",
       "    </tr>\n",
       "    <tr>\n",
       "      <th>CVaR</th>\n",
       "      <td>-0.09954</td>\n",
       "      <td>-0.089454</td>\n",
       "      <td>-0.107035</td>\n",
       "      <td>-0.069937</td>\n",
       "      <td>-0.320223</td>\n",
       "    </tr>\n",
       "    <tr>\n",
       "      <th>MDD</th>\n",
       "      <td>-0.559175</td>\n",
       "      <td>-0.391577</td>\n",
       "      <td>-0.724389</td>\n",
       "      <td>-0.254825</td>\n",
       "      <td>-0.985431</td>\n",
       "    </tr>\n",
       "    <tr>\n",
       "      <th>Max Date</th>\n",
       "      <td>2000-03-31</td>\n",
       "      <td>1999-12-31</td>\n",
       "      <td>2007-10-31</td>\n",
       "      <td>2007-10-31</td>\n",
       "      <td>2007-10-31</td>\n",
       "    </tr>\n",
       "    <tr>\n",
       "      <th>Min Date</th>\n",
       "      <td>2009-02-27</td>\n",
       "      <td>2009-04-30</td>\n",
       "      <td>2009-02-27</td>\n",
       "      <td>2008-09-30</td>\n",
       "      <td>2009-02-27</td>\n",
       "    </tr>\n",
       "    <tr>\n",
       "      <th>Recovery Date</th>\n",
       "      <td>2013-03-29</td>\n",
       "      <td>2019-04-30</td>\n",
       "      <td>2012-02-29</td>\n",
       "      <td>2008-10-31</td>\n",
       "      <td>2014-11-28</td>\n",
       "    </tr>\n",
       "    <tr>\n",
       "      <th>Recovery Period</th>\n",
       "      <td>1491</td>\n",
       "      <td>3652</td>\n",
       "      <td>1097</td>\n",
       "      <td>31</td>\n",
       "      <td>2100</td>\n",
       "    </tr>\n",
       "  </tbody>\n",
       "</table>\n",
       "</div>"
      ],
      "text/plain": [
       "                    Passive Expanding Mean         OLS        Tree          NN\n",
       "skew              -0.550278      -1.148924   -0.103132     3.92741   -0.447338\n",
       "kurt               0.775821      10.498586   15.821042   22.478481    5.437229\n",
       "VaR               -0.079683      -0.050512   -0.049193   -0.046519   -0.192516\n",
       "CVaR               -0.09954      -0.089454   -0.107035   -0.069937   -0.320223\n",
       "MDD               -0.559175      -0.391577   -0.724389   -0.254825   -0.985431\n",
       "Max Date         2000-03-31     1999-12-31  2007-10-31  2007-10-31  2007-10-31\n",
       "Min Date         2009-02-27     2009-04-30  2009-02-27  2008-09-30  2009-02-27\n",
       "Recovery Date    2013-03-29     2019-04-30  2012-02-29  2008-10-31  2014-11-28\n",
       "Recovery Period        1491           3652        1097          31        2100"
      ]
     },
     "execution_count": 106,
     "metadata": {},
     "output_type": "execute_result"
    }
   ],
   "source": [
    "stats_tail_risk(ML_forecast_DP)"
   ]
  },
  {
   "cell_type": "markdown",
   "id": "fa932d85",
   "metadata": {},
   "source": [
    "__P/E:__"
   ]
  },
  {
   "cell_type": "code",
   "execution_count": null,
   "id": "5a89fb36",
   "metadata": {},
   "outputs": [
    {
     "data": {
      "text/html": [
       "<div>\n",
       "<style scoped>\n",
       "    .dataframe tbody tr th:only-of-type {\n",
       "        vertical-align: middle;\n",
       "    }\n",
       "\n",
       "    .dataframe tbody tr th {\n",
       "        vertical-align: top;\n",
       "    }\n",
       "\n",
       "    .dataframe thead th {\n",
       "        text-align: right;\n",
       "    }\n",
       "</style>\n",
       "<table border=\"1\" class=\"dataframe\">\n",
       "  <thead>\n",
       "    <tr style=\"text-align: right;\">\n",
       "      <th></th>\n",
       "      <th>Passive</th>\n",
       "      <th>Expanding Mean</th>\n",
       "      <th>OLS</th>\n",
       "      <th>Tree</th>\n",
       "      <th>NN</th>\n",
       "    </tr>\n",
       "  </thead>\n",
       "  <tbody>\n",
       "    <tr>\n",
       "      <th>mean</th>\n",
       "      <td>0.081732</td>\n",
       "      <td>0.034274</td>\n",
       "      <td>0.070008</td>\n",
       "      <td>0.198416</td>\n",
       "      <td>-0.070599</td>\n",
       "    </tr>\n",
       "    <tr>\n",
       "      <th>std</th>\n",
       "      <td>0.154545</td>\n",
       "      <td>0.124289</td>\n",
       "      <td>0.123267</td>\n",
       "      <td>0.193195</td>\n",
       "      <td>0.148110</td>\n",
       "    </tr>\n",
       "    <tr>\n",
       "      <th>sharpe</th>\n",
       "      <td>0.528857</td>\n",
       "      <td>0.275759</td>\n",
       "      <td>0.567939</td>\n",
       "      <td>1.027028</td>\n",
       "      <td>-0.476663</td>\n",
       "    </tr>\n",
       "  </tbody>\n",
       "</table>\n",
       "</div>"
      ],
      "text/plain": [
       "         Passive  Expanding Mean       OLS      Tree        NN\n",
       "mean    0.081732        0.034274  0.070008  0.198416 -0.070599\n",
       "std     0.154545        0.124289  0.123267  0.193195  0.148110\n",
       "sharpe  0.528857        0.275759  0.567939  1.027028 -0.476663"
      ]
     },
     "execution_count": 107,
     "metadata": {},
     "output_type": "execute_result"
    }
   ],
   "source": [
    "stats_mean_vol_sharpe(ML_forecast_EP)"
   ]
  },
  {
   "cell_type": "code",
   "execution_count": null,
   "id": "79392520",
   "metadata": {},
   "outputs": [
    {
     "data": {
      "text/html": [
       "<div>\n",
       "<style scoped>\n",
       "    .dataframe tbody tr th:only-of-type {\n",
       "        vertical-align: middle;\n",
       "    }\n",
       "\n",
       "    .dataframe tbody tr th {\n",
       "        vertical-align: top;\n",
       "    }\n",
       "\n",
       "    .dataframe thead th {\n",
       "        text-align: right;\n",
       "    }\n",
       "</style>\n",
       "<table border=\"1\" class=\"dataframe\">\n",
       "  <thead>\n",
       "    <tr style=\"text-align: right;\">\n",
       "      <th></th>\n",
       "      <th>Passive</th>\n",
       "      <th>Expanding Mean</th>\n",
       "      <th>OLS</th>\n",
       "      <th>Tree</th>\n",
       "      <th>NN</th>\n",
       "    </tr>\n",
       "  </thead>\n",
       "  <tbody>\n",
       "    <tr>\n",
       "      <th>skew</th>\n",
       "      <td>-0.550278</td>\n",
       "      <td>-1.148924</td>\n",
       "      <td>-0.449678</td>\n",
       "      <td>4.499686</td>\n",
       "      <td>0.564013</td>\n",
       "    </tr>\n",
       "    <tr>\n",
       "      <th>kurt</th>\n",
       "      <td>0.775821</td>\n",
       "      <td>10.498586</td>\n",
       "      <td>4.29556</td>\n",
       "      <td>35.05859</td>\n",
       "      <td>0.863287</td>\n",
       "    </tr>\n",
       "    <tr>\n",
       "      <th>VaR</th>\n",
       "      <td>-0.079683</td>\n",
       "      <td>-0.050512</td>\n",
       "      <td>-0.049371</td>\n",
       "      <td>-0.038227</td>\n",
       "      <td>-0.069103</td>\n",
       "    </tr>\n",
       "    <tr>\n",
       "      <th>CVaR</th>\n",
       "      <td>-0.09954</td>\n",
       "      <td>-0.089454</td>\n",
       "      <td>-0.084034</td>\n",
       "      <td>-0.061659</td>\n",
       "      <td>-0.083246</td>\n",
       "    </tr>\n",
       "    <tr>\n",
       "      <th>MDD</th>\n",
       "      <td>-0.559175</td>\n",
       "      <td>-0.391577</td>\n",
       "      <td>-0.559044</td>\n",
       "      <td>-0.410928</td>\n",
       "      <td>-0.897502</td>\n",
       "    </tr>\n",
       "    <tr>\n",
       "      <th>Max Date</th>\n",
       "      <td>2000-03-31</td>\n",
       "      <td>1999-12-31</td>\n",
       "      <td>2007-10-31</td>\n",
       "      <td>2007-10-31</td>\n",
       "      <td>1997-03-31</td>\n",
       "    </tr>\n",
       "    <tr>\n",
       "      <th>Min Date</th>\n",
       "      <td>2009-02-27</td>\n",
       "      <td>2009-04-30</td>\n",
       "      <td>2009-02-27</td>\n",
       "      <td>2009-01-30</td>\n",
       "      <td>2024-09-30</td>\n",
       "    </tr>\n",
       "    <tr>\n",
       "      <th>Recovery Date</th>\n",
       "      <td>2013-03-29</td>\n",
       "      <td>2019-04-30</td>\n",
       "      <td>2012-03-30</td>\n",
       "      <td>2009-04-30</td>\n",
       "      <td>NaN</td>\n",
       "    </tr>\n",
       "    <tr>\n",
       "      <th>Recovery Period</th>\n",
       "      <td>1491</td>\n",
       "      <td>3652</td>\n",
       "      <td>1127</td>\n",
       "      <td>90</td>\n",
       "      <td>NaN</td>\n",
       "    </tr>\n",
       "  </tbody>\n",
       "</table>\n",
       "</div>"
      ],
      "text/plain": [
       "                    Passive Expanding Mean         OLS        Tree          NN\n",
       "skew              -0.550278      -1.148924   -0.449678    4.499686    0.564013\n",
       "kurt               0.775821      10.498586     4.29556    35.05859    0.863287\n",
       "VaR               -0.079683      -0.050512   -0.049371   -0.038227   -0.069103\n",
       "CVaR               -0.09954      -0.089454   -0.084034   -0.061659   -0.083246\n",
       "MDD               -0.559175      -0.391577   -0.559044   -0.410928   -0.897502\n",
       "Max Date         2000-03-31     1999-12-31  2007-10-31  2007-10-31  1997-03-31\n",
       "Min Date         2009-02-27     2009-04-30  2009-02-27  2009-01-30  2024-09-30\n",
       "Recovery Date    2013-03-29     2019-04-30  2012-03-30  2009-04-30         NaN\n",
       "Recovery Period        1491           3652        1127          90         NaN"
      ]
     },
     "execution_count": 108,
     "metadata": {},
     "output_type": "execute_result"
    }
   ],
   "source": [
    "stats_tail_risk(ML_forecast_EP)"
   ]
  },
  {
   "cell_type": "markdown",
   "id": "5f114882",
   "metadata": {},
   "source": [
    "__All:__"
   ]
  },
  {
   "cell_type": "code",
   "execution_count": null,
   "id": "8b758ccb",
   "metadata": {},
   "outputs": [
    {
     "data": {
      "text/html": [
       "<div>\n",
       "<style scoped>\n",
       "    .dataframe tbody tr th:only-of-type {\n",
       "        vertical-align: middle;\n",
       "    }\n",
       "\n",
       "    .dataframe tbody tr th {\n",
       "        vertical-align: top;\n",
       "    }\n",
       "\n",
       "    .dataframe thead th {\n",
       "        text-align: right;\n",
       "    }\n",
       "</style>\n",
       "<table border=\"1\" class=\"dataframe\">\n",
       "  <thead>\n",
       "    <tr style=\"text-align: right;\">\n",
       "      <th></th>\n",
       "      <th>Passive</th>\n",
       "      <th>Expanding Mean</th>\n",
       "      <th>OLS</th>\n",
       "      <th>Tree</th>\n",
       "      <th>NN</th>\n",
       "    </tr>\n",
       "  </thead>\n",
       "  <tbody>\n",
       "    <tr>\n",
       "      <th>mean</th>\n",
       "      <td>0.081732</td>\n",
       "      <td>0.034274</td>\n",
       "      <td>0.094858</td>\n",
       "      <td>0.268768</td>\n",
       "      <td>0.188177</td>\n",
       "    </tr>\n",
       "    <tr>\n",
       "      <th>std</th>\n",
       "      <td>0.154545</td>\n",
       "      <td>0.124289</td>\n",
       "      <td>0.165277</td>\n",
       "      <td>0.239805</td>\n",
       "      <td>0.373257</td>\n",
       "    </tr>\n",
       "    <tr>\n",
       "      <th>sharpe</th>\n",
       "      <td>0.528857</td>\n",
       "      <td>0.275759</td>\n",
       "      <td>0.573933</td>\n",
       "      <td>1.120780</td>\n",
       "      <td>0.504149</td>\n",
       "    </tr>\n",
       "  </tbody>\n",
       "</table>\n",
       "</div>"
      ],
      "text/plain": [
       "         Passive  Expanding Mean       OLS      Tree        NN\n",
       "mean    0.081732        0.034274  0.094858  0.268768  0.188177\n",
       "std     0.154545        0.124289  0.165277  0.239805  0.373257\n",
       "sharpe  0.528857        0.275759  0.573933  1.120780  0.504149"
      ]
     },
     "execution_count": 110,
     "metadata": {},
     "output_type": "execute_result"
    }
   ],
   "source": [
    "stats_mean_vol_sharpe(ML_forecast_All)"
   ]
  },
  {
   "cell_type": "code",
   "execution_count": null,
   "id": "dfd58b1e",
   "metadata": {},
   "outputs": [
    {
     "data": {
      "text/html": [
       "<div>\n",
       "<style scoped>\n",
       "    .dataframe tbody tr th:only-of-type {\n",
       "        vertical-align: middle;\n",
       "    }\n",
       "\n",
       "    .dataframe tbody tr th {\n",
       "        vertical-align: top;\n",
       "    }\n",
       "\n",
       "    .dataframe thead th {\n",
       "        text-align: right;\n",
       "    }\n",
       "</style>\n",
       "<table border=\"1\" class=\"dataframe\">\n",
       "  <thead>\n",
       "    <tr style=\"text-align: right;\">\n",
       "      <th></th>\n",
       "      <th>Passive</th>\n",
       "      <th>Expanding Mean</th>\n",
       "      <th>OLS</th>\n",
       "      <th>Tree</th>\n",
       "      <th>NN</th>\n",
       "    </tr>\n",
       "  </thead>\n",
       "  <tbody>\n",
       "    <tr>\n",
       "      <th>skew</th>\n",
       "      <td>-0.550278</td>\n",
       "      <td>-1.148924</td>\n",
       "      <td>0.11282</td>\n",
       "      <td>5.194662</td>\n",
       "      <td>0.066443</td>\n",
       "    </tr>\n",
       "    <tr>\n",
       "      <th>kurt</th>\n",
       "      <td>0.775821</td>\n",
       "      <td>10.498586</td>\n",
       "      <td>12.485581</td>\n",
       "      <td>43.535999</td>\n",
       "      <td>3.140086</td>\n",
       "    </tr>\n",
       "    <tr>\n",
       "      <th>VaR</th>\n",
       "      <td>-0.079683</td>\n",
       "      <td>-0.050512</td>\n",
       "      <td>-0.047548</td>\n",
       "      <td>-0.042227</td>\n",
       "      <td>-0.17383</td>\n",
       "    </tr>\n",
       "    <tr>\n",
       "      <th>CVaR</th>\n",
       "      <td>-0.09954</td>\n",
       "      <td>-0.089454</td>\n",
       "      <td>-0.106298</td>\n",
       "      <td>-0.053381</td>\n",
       "      <td>-0.24974</td>\n",
       "    </tr>\n",
       "    <tr>\n",
       "      <th>MDD</th>\n",
       "      <td>-0.559175</td>\n",
       "      <td>-0.391577</td>\n",
       "      <td>-0.678516</td>\n",
       "      <td>-0.161011</td>\n",
       "      <td>-0.728197</td>\n",
       "    </tr>\n",
       "    <tr>\n",
       "      <th>Max Date</th>\n",
       "      <td>2000-03-31</td>\n",
       "      <td>1999-12-31</td>\n",
       "      <td>2007-10-31</td>\n",
       "      <td>2007-10-31</td>\n",
       "      <td>2020-11-30</td>\n",
       "    </tr>\n",
       "    <tr>\n",
       "      <th>Min Date</th>\n",
       "      <td>2009-02-27</td>\n",
       "      <td>2009-04-30</td>\n",
       "      <td>2009-02-27</td>\n",
       "      <td>2008-09-30</td>\n",
       "      <td>2022-09-30</td>\n",
       "    </tr>\n",
       "    <tr>\n",
       "      <th>Recovery Date</th>\n",
       "      <td>2013-03-29</td>\n",
       "      <td>2019-04-30</td>\n",
       "      <td>2011-01-31</td>\n",
       "      <td>2008-10-31</td>\n",
       "      <td>NaN</td>\n",
       "    </tr>\n",
       "    <tr>\n",
       "      <th>Recovery Period</th>\n",
       "      <td>1491</td>\n",
       "      <td>3652</td>\n",
       "      <td>703</td>\n",
       "      <td>31</td>\n",
       "      <td>NaN</td>\n",
       "    </tr>\n",
       "  </tbody>\n",
       "</table>\n",
       "</div>"
      ],
      "text/plain": [
       "                    Passive Expanding Mean         OLS        Tree          NN\n",
       "skew              -0.550278      -1.148924     0.11282    5.194662    0.066443\n",
       "kurt               0.775821      10.498586   12.485581   43.535999    3.140086\n",
       "VaR               -0.079683      -0.050512   -0.047548   -0.042227    -0.17383\n",
       "CVaR               -0.09954      -0.089454   -0.106298   -0.053381    -0.24974\n",
       "MDD               -0.559175      -0.391577   -0.678516   -0.161011   -0.728197\n",
       "Max Date         2000-03-31     1999-12-31  2007-10-31  2007-10-31  2020-11-30\n",
       "Min Date         2009-02-27     2009-04-30  2009-02-27  2008-09-30  2022-09-30\n",
       "Recovery Date    2013-03-29     2019-04-30  2011-01-31  2008-10-31         NaN\n",
       "Recovery Period        1491           3652         703          31         NaN"
      ]
     },
     "execution_count": 111,
     "metadata": {},
     "output_type": "execute_result"
    }
   ],
   "source": [
    "stats_tail_risk(ML_forecast_All)"
   ]
  },
  {
   "cell_type": "markdown",
   "id": "2ff47fdf",
   "metadata": {},
   "source": [
    "### Out of Sample ###"
   ]
  },
  {
   "cell_type": "code",
   "execution_count": null,
   "id": "0b019b28",
   "metadata": {},
   "outputs": [],
   "source": [
    "def oos_ml_model_predictions(model_cols, returns, signals, return_col, window = 60):\n",
    "\n",
    "\n",
    "    methods = ['OLS', 'Tree', 'NN']\n",
    "    est = dict()\n",
    "\n",
    "    forecasts_MLOOS = pd.DataFrame(columns=methods,index=returns.iloc[1:].index,dtype='float64')\n",
    "\n",
    "\n",
    "    y = returns.loc[:,[return_col]].iloc[1:].squeeze('columns').ravel()\n",
    "    Xlag = signals.loc[:,model_cols].shift(1).dropna()\n",
    "    X = signals.loc[:,model_cols]\n",
    "\n",
    "    for method in methods:\n",
    "\n",
    "        for t in returns.iloc[1:].index[window-1:]:\n",
    "            yt = returns.loc[:,[return_col]].iloc[1:].loc[:t].values.ravel()\n",
    "            Xlag_t = Xlag.loc[:t,:].values\n",
    "            x_t = X.loc[t,:].values.reshape(1,-1)\n",
    "\n",
    "            if method == 'OLS':\n",
    "                est = LinearRegression()\n",
    "            elif method == 'Tree':\n",
    "                est = RandomForestRegressor(max_depth=3,random_state=1)\n",
    "            elif method == 'NN':\n",
    "                est = MLPRegressor(hidden_layer_sizes=500,random_state=1)\n",
    "\n",
    "            est.fit(Xlag_t,yt);\n",
    "            predval = est.predict(x_t)[0]\n",
    "            forecasts_MLOOS.loc[t,method] = predval\n",
    "\n",
    "    forecasts_MLOOS.insert(0,'Mean', returns.loc[:,[return_col]].expanding().mean().shift(1).dropna())\n",
    "\n",
    "    # prefer to date forecast by date of forecasted value, not date it was calculated\n",
    "    forecasts_MLOOS = forecasts_MLOOS.shift(1).dropna()\n",
    "\n",
    "\n",
    "    wts_MLOOS = 100 * forecasts_MLOOS\n",
    "\n",
    "    spy_MLOOS, _ = returns.loc[:,[return_col]].iloc[1:].align(forecasts_MLOOS, join='right', axis=0)\n",
    "\n",
    "    fund_returns_MLOOS = wts_MLOOS * spy_MLOOS.values\n",
    "    fund_returns_MLOOS.insert(0,'Passive', spy_MLOOS)\n",
    "\n",
    "    sigma_t = fund_returns_MLOOS.rolling(24).std()\n",
    "    relative_vols = pd.DataFrame(sigma_t[['Passive']].to_numpy() / sigma_t.drop(columns=['Passive']).to_numpy(),columns=sigma_t.drop(columns=['Passive']).columns, index=sigma_t.index)\n",
    "    wts_t = relative_vols * wts_MLOOS\n",
    "    fund_returns_MLOOS = wts_t * spy_MLOOS.values\n",
    "    fund_returns_MLOOS.insert(0,'Passive', spy_MLOOS)\n",
    "\n",
    "    fund_returns_MLOOS.dropna(inplace=True)\n",
    "\n",
    "    null = returns.loc[:,[return_col]].expanding(window+1).mean().shift(1).dropna() \n",
    "    actual = returns.loc[:,[return_col]].iloc[window+1:]\n",
    "\n",
    "    forecast_err = pd.DataFrame()\n",
    "    null_err = pd.DataFrame()\n",
    "    for col in forecasts_MLOOS.columns:\n",
    "        forecast_err[col] = forecasts_MLOOS[col] - actual[return_col]\n",
    "        null_err[col] = null[return_col] - actual[return_col]\n",
    "        \n",
    "    oos_r2 = 1-(((forecast_err**2).sum())/(null_err**2).sum()).to_frame('OOS R-Squared')\n",
    "\n",
    "\n",
    "    return (fund_returns_MLOOS,oos_r2)"
   ]
  },
  {
   "cell_type": "code",
   "execution_count": null,
   "id": "29fc8de6",
   "metadata": {},
   "outputs": [],
   "source": [
    "ML_oos_forecast_DP = oos_ml_model_predictions(['SPX DVD YLD'], retsx, signals, 'SPY')\n",
    "ML_oos_forecast_EP = oos_ml_model_predictions(['SPX P/E'], retsx, signals, 'SPY')\n",
    "ML_oos_forecast_All = oos_ml_model_predictions(['SPX DVD YLD','SPX P/E','TNote 10YR'], retsx, signals, 'SPY')"
   ]
  },
  {
   "cell_type": "markdown",
   "id": "3c73cfec",
   "metadata": {},
   "source": [
    "__Dividend Yield:__"
   ]
  },
  {
   "cell_type": "code",
   "execution_count": null,
   "id": "6566882e",
   "metadata": {},
   "outputs": [
    {
     "data": {
      "text/html": [
       "<div>\n",
       "<style scoped>\n",
       "    .dataframe tbody tr th:only-of-type {\n",
       "        vertical-align: middle;\n",
       "    }\n",
       "\n",
       "    .dataframe tbody tr th {\n",
       "        vertical-align: top;\n",
       "    }\n",
       "\n",
       "    .dataframe thead th {\n",
       "        text-align: right;\n",
       "    }\n",
       "</style>\n",
       "<table border=\"1\" class=\"dataframe\">\n",
       "  <thead>\n",
       "    <tr style=\"text-align: right;\">\n",
       "      <th></th>\n",
       "      <th>OOS R-Squared</th>\n",
       "    </tr>\n",
       "  </thead>\n",
       "  <tbody>\n",
       "    <tr>\n",
       "      <th>Mean</th>\n",
       "      <td>-0.000959</td>\n",
       "    </tr>\n",
       "    <tr>\n",
       "      <th>OLS</th>\n",
       "      <td>-0.039607</td>\n",
       "    </tr>\n",
       "    <tr>\n",
       "      <th>Tree</th>\n",
       "      <td>-0.125754</td>\n",
       "    </tr>\n",
       "    <tr>\n",
       "      <th>NN</th>\n",
       "      <td>-0.894291</td>\n",
       "    </tr>\n",
       "  </tbody>\n",
       "</table>\n",
       "</div>"
      ],
      "text/plain": [
       "      OOS R-Squared\n",
       "Mean      -0.000959\n",
       "OLS       -0.039607\n",
       "Tree      -0.125754\n",
       "NN        -0.894291"
      ]
     },
     "execution_count": 117,
     "metadata": {},
     "output_type": "execute_result"
    }
   ],
   "source": [
    "ML_oos_forecast_DP[1]"
   ]
  },
  {
   "cell_type": "code",
   "execution_count": null,
   "id": "2c60cb6d",
   "metadata": {},
   "outputs": [
    {
     "data": {
      "text/html": [
       "<div>\n",
       "<style scoped>\n",
       "    .dataframe tbody tr th:only-of-type {\n",
       "        vertical-align: middle;\n",
       "    }\n",
       "\n",
       "    .dataframe tbody tr th {\n",
       "        vertical-align: top;\n",
       "    }\n",
       "\n",
       "    .dataframe thead th {\n",
       "        text-align: right;\n",
       "    }\n",
       "</style>\n",
       "<table border=\"1\" class=\"dataframe\">\n",
       "  <thead>\n",
       "    <tr style=\"text-align: right;\">\n",
       "      <th></th>\n",
       "      <th>Passive</th>\n",
       "      <th>Mean</th>\n",
       "      <th>OLS</th>\n",
       "      <th>Tree</th>\n",
       "      <th>NN</th>\n",
       "    </tr>\n",
       "  </thead>\n",
       "  <tbody>\n",
       "    <tr>\n",
       "      <th>mean</th>\n",
       "      <td>0.094606</td>\n",
       "      <td>0.095056</td>\n",
       "      <td>0.075882</td>\n",
       "      <td>0.061510</td>\n",
       "      <td>0.012208</td>\n",
       "    </tr>\n",
       "    <tr>\n",
       "      <th>std</th>\n",
       "      <td>0.147048</td>\n",
       "      <td>0.148225</td>\n",
       "      <td>0.143328</td>\n",
       "      <td>0.148841</td>\n",
       "      <td>0.137714</td>\n",
       "    </tr>\n",
       "    <tr>\n",
       "      <th>sharpe</th>\n",
       "      <td>0.643370</td>\n",
       "      <td>0.641292</td>\n",
       "      <td>0.529427</td>\n",
       "      <td>0.413256</td>\n",
       "      <td>0.088649</td>\n",
       "    </tr>\n",
       "  </tbody>\n",
       "</table>\n",
       "</div>"
      ],
      "text/plain": [
       "         Passive      Mean       OLS      Tree        NN\n",
       "mean    0.094606  0.095056  0.075882  0.061510  0.012208\n",
       "std     0.147048  0.148225  0.143328  0.148841  0.137714\n",
       "sharpe  0.643370  0.641292  0.529427  0.413256  0.088649"
      ]
     },
     "execution_count": 118,
     "metadata": {},
     "output_type": "execute_result"
    }
   ],
   "source": [
    "stats_mean_vol_sharpe(ML_oos_forecast_DP[0])"
   ]
  },
  {
   "cell_type": "code",
   "execution_count": null,
   "id": "658749f0",
   "metadata": {},
   "outputs": [
    {
     "data": {
      "text/html": [
       "<div>\n",
       "<style scoped>\n",
       "    .dataframe tbody tr th:only-of-type {\n",
       "        vertical-align: middle;\n",
       "    }\n",
       "\n",
       "    .dataframe tbody tr th {\n",
       "        vertical-align: top;\n",
       "    }\n",
       "\n",
       "    .dataframe thead th {\n",
       "        text-align: right;\n",
       "    }\n",
       "</style>\n",
       "<table border=\"1\" class=\"dataframe\">\n",
       "  <thead>\n",
       "    <tr style=\"text-align: right;\">\n",
       "      <th></th>\n",
       "      <th>Passive</th>\n",
       "      <th>Mean</th>\n",
       "      <th>OLS</th>\n",
       "      <th>Tree</th>\n",
       "      <th>NN</th>\n",
       "    </tr>\n",
       "  </thead>\n",
       "  <tbody>\n",
       "    <tr>\n",
       "      <th>skew</th>\n",
       "      <td>-0.579703</td>\n",
       "      <td>-0.443946</td>\n",
       "      <td>-0.282729</td>\n",
       "      <td>0.517494</td>\n",
       "      <td>-0.41608</td>\n",
       "    </tr>\n",
       "    <tr>\n",
       "      <th>kurt</th>\n",
       "      <td>1.320162</td>\n",
       "      <td>0.816442</td>\n",
       "      <td>4.104667</td>\n",
       "      <td>6.495519</td>\n",
       "      <td>3.099928</td>\n",
       "    </tr>\n",
       "    <tr>\n",
       "      <th>VaR</th>\n",
       "      <td>-0.070341</td>\n",
       "      <td>-0.073612</td>\n",
       "      <td>-0.063767</td>\n",
       "      <td>-0.07156</td>\n",
       "      <td>-0.064721</td>\n",
       "    </tr>\n",
       "    <tr>\n",
       "      <th>CVaR</th>\n",
       "      <td>-0.096034</td>\n",
       "      <td>-0.092567</td>\n",
       "      <td>-0.099314</td>\n",
       "      <td>-0.097053</td>\n",
       "      <td>-0.099867</td>\n",
       "    </tr>\n",
       "    <tr>\n",
       "      <th>MDD</th>\n",
       "      <td>-0.517254</td>\n",
       "      <td>-0.416292</td>\n",
       "      <td>-0.491233</td>\n",
       "      <td>-0.469207</td>\n",
       "      <td>-0.674647</td>\n",
       "    </tr>\n",
       "    <tr>\n",
       "      <th>Max Date</th>\n",
       "      <td>2007-05-31</td>\n",
       "      <td>2007-05-31</td>\n",
       "      <td>2007-10-31</td>\n",
       "      <td>2009-02-27</td>\n",
       "      <td>2007-10-31</td>\n",
       "    </tr>\n",
       "    <tr>\n",
       "      <th>Min Date</th>\n",
       "      <td>2009-02-27</td>\n",
       "      <td>2009-06-30</td>\n",
       "      <td>2009-04-30</td>\n",
       "      <td>2011-09-30</td>\n",
       "      <td>2013-09-30</td>\n",
       "    </tr>\n",
       "    <tr>\n",
       "      <th>Recovery Date</th>\n",
       "      <td>2012-09-28</td>\n",
       "      <td>2013-03-29</td>\n",
       "      <td>2014-02-28</td>\n",
       "      <td>2014-11-28</td>\n",
       "      <td>NaN</td>\n",
       "    </tr>\n",
       "    <tr>\n",
       "      <th>Recovery Period</th>\n",
       "      <td>1309</td>\n",
       "      <td>1368</td>\n",
       "      <td>1765</td>\n",
       "      <td>1155</td>\n",
       "      <td>NaN</td>\n",
       "    </tr>\n",
       "  </tbody>\n",
       "</table>\n",
       "</div>"
      ],
      "text/plain": [
       "                    Passive        Mean         OLS        Tree          NN\n",
       "skew              -0.579703   -0.443946   -0.282729    0.517494    -0.41608\n",
       "kurt               1.320162    0.816442    4.104667    6.495519    3.099928\n",
       "VaR               -0.070341   -0.073612   -0.063767    -0.07156   -0.064721\n",
       "CVaR              -0.096034   -0.092567   -0.099314   -0.097053   -0.099867\n",
       "MDD               -0.517254   -0.416292   -0.491233   -0.469207   -0.674647\n",
       "Max Date         2007-05-31  2007-05-31  2007-10-31  2009-02-27  2007-10-31\n",
       "Min Date         2009-02-27  2009-06-30  2009-04-30  2011-09-30  2013-09-30\n",
       "Recovery Date    2012-09-28  2013-03-29  2014-02-28  2014-11-28         NaN\n",
       "Recovery Period        1309        1368        1765        1155         NaN"
      ]
     },
     "execution_count": 119,
     "metadata": {},
     "output_type": "execute_result"
    }
   ],
   "source": [
    "stats_tail_risk(ML_oos_forecast_DP[0])"
   ]
  },
  {
   "cell_type": "markdown",
   "id": "f4003c65",
   "metadata": {},
   "source": [
    "__P/E:__"
   ]
  },
  {
   "cell_type": "code",
   "execution_count": null,
   "id": "4dbd761e",
   "metadata": {},
   "outputs": [
    {
     "data": {
      "text/html": [
       "<div>\n",
       "<style scoped>\n",
       "    .dataframe tbody tr th:only-of-type {\n",
       "        vertical-align: middle;\n",
       "    }\n",
       "\n",
       "    .dataframe tbody tr th {\n",
       "        vertical-align: top;\n",
       "    }\n",
       "\n",
       "    .dataframe thead th {\n",
       "        text-align: right;\n",
       "    }\n",
       "</style>\n",
       "<table border=\"1\" class=\"dataframe\">\n",
       "  <thead>\n",
       "    <tr style=\"text-align: right;\">\n",
       "      <th></th>\n",
       "      <th>OOS R-Squared</th>\n",
       "    </tr>\n",
       "  </thead>\n",
       "  <tbody>\n",
       "    <tr>\n",
       "      <th>Mean</th>\n",
       "      <td>-0.000959</td>\n",
       "    </tr>\n",
       "    <tr>\n",
       "      <th>OLS</th>\n",
       "      <td>-0.011352</td>\n",
       "    </tr>\n",
       "    <tr>\n",
       "      <th>Tree</th>\n",
       "      <td>-0.132596</td>\n",
       "    </tr>\n",
       "    <tr>\n",
       "      <th>NN</th>\n",
       "      <td>-1.819016</td>\n",
       "    </tr>\n",
       "  </tbody>\n",
       "</table>\n",
       "</div>"
      ],
      "text/plain": [
       "      OOS R-Squared\n",
       "Mean      -0.000959\n",
       "OLS       -0.011352\n",
       "Tree      -0.132596\n",
       "NN        -1.819016"
      ]
     },
     "execution_count": 120,
     "metadata": {},
     "output_type": "execute_result"
    }
   ],
   "source": [
    "ML_oos_forecast_EP[1]"
   ]
  },
  {
   "cell_type": "code",
   "execution_count": null,
   "id": "a2220e17",
   "metadata": {},
   "outputs": [
    {
     "data": {
      "text/html": [
       "<div>\n",
       "<style scoped>\n",
       "    .dataframe tbody tr th:only-of-type {\n",
       "        vertical-align: middle;\n",
       "    }\n",
       "\n",
       "    .dataframe tbody tr th {\n",
       "        vertical-align: top;\n",
       "    }\n",
       "\n",
       "    .dataframe thead th {\n",
       "        text-align: right;\n",
       "    }\n",
       "</style>\n",
       "<table border=\"1\" class=\"dataframe\">\n",
       "  <thead>\n",
       "    <tr style=\"text-align: right;\">\n",
       "      <th></th>\n",
       "      <th>Passive</th>\n",
       "      <th>Mean</th>\n",
       "      <th>OLS</th>\n",
       "      <th>Tree</th>\n",
       "      <th>NN</th>\n",
       "    </tr>\n",
       "  </thead>\n",
       "  <tbody>\n",
       "    <tr>\n",
       "      <th>mean</th>\n",
       "      <td>0.094606</td>\n",
       "      <td>0.095056</td>\n",
       "      <td>0.065810</td>\n",
       "      <td>0.027060</td>\n",
       "      <td>-0.040649</td>\n",
       "    </tr>\n",
       "    <tr>\n",
       "      <th>std</th>\n",
       "      <td>0.147048</td>\n",
       "      <td>0.148225</td>\n",
       "      <td>0.147019</td>\n",
       "      <td>0.140589</td>\n",
       "      <td>0.139299</td>\n",
       "    </tr>\n",
       "    <tr>\n",
       "      <th>sharpe</th>\n",
       "      <td>0.643370</td>\n",
       "      <td>0.641292</td>\n",
       "      <td>0.447631</td>\n",
       "      <td>0.192476</td>\n",
       "      <td>-0.291811</td>\n",
       "    </tr>\n",
       "  </tbody>\n",
       "</table>\n",
       "</div>"
      ],
      "text/plain": [
       "         Passive      Mean       OLS      Tree        NN\n",
       "mean    0.094606  0.095056  0.065810  0.027060 -0.040649\n",
       "std     0.147048  0.148225  0.147019  0.140589  0.139299\n",
       "sharpe  0.643370  0.641292  0.447631  0.192476 -0.291811"
      ]
     },
     "execution_count": 121,
     "metadata": {},
     "output_type": "execute_result"
    }
   ],
   "source": [
    "stats_mean_vol_sharpe(ML_oos_forecast_EP[0])"
   ]
  },
  {
   "cell_type": "code",
   "execution_count": null,
   "id": "0066adfa",
   "metadata": {},
   "outputs": [
    {
     "data": {
      "text/html": [
       "<div>\n",
       "<style scoped>\n",
       "    .dataframe tbody tr th:only-of-type {\n",
       "        vertical-align: middle;\n",
       "    }\n",
       "\n",
       "    .dataframe tbody tr th {\n",
       "        vertical-align: top;\n",
       "    }\n",
       "\n",
       "    .dataframe thead th {\n",
       "        text-align: right;\n",
       "    }\n",
       "</style>\n",
       "<table border=\"1\" class=\"dataframe\">\n",
       "  <thead>\n",
       "    <tr style=\"text-align: right;\">\n",
       "      <th></th>\n",
       "      <th>Passive</th>\n",
       "      <th>Mean</th>\n",
       "      <th>OLS</th>\n",
       "      <th>Tree</th>\n",
       "      <th>NN</th>\n",
       "    </tr>\n",
       "  </thead>\n",
       "  <tbody>\n",
       "    <tr>\n",
       "      <th>skew</th>\n",
       "      <td>-0.579703</td>\n",
       "      <td>-0.443946</td>\n",
       "      <td>-0.229344</td>\n",
       "      <td>-1.69007</td>\n",
       "      <td>0.13608</td>\n",
       "    </tr>\n",
       "    <tr>\n",
       "      <th>kurt</th>\n",
       "      <td>1.320162</td>\n",
       "      <td>0.816442</td>\n",
       "      <td>3.058677</td>\n",
       "      <td>6.587509</td>\n",
       "      <td>3.130827</td>\n",
       "    </tr>\n",
       "    <tr>\n",
       "      <th>VaR</th>\n",
       "      <td>-0.070341</td>\n",
       "      <td>-0.073612</td>\n",
       "      <td>-0.066292</td>\n",
       "      <td>-0.067183</td>\n",
       "      <td>-0.067188</td>\n",
       "    </tr>\n",
       "    <tr>\n",
       "      <th>CVaR</th>\n",
       "      <td>-0.096034</td>\n",
       "      <td>-0.092567</td>\n",
       "      <td>-0.101534</td>\n",
       "      <td>-0.117869</td>\n",
       "      <td>-0.094331</td>\n",
       "    </tr>\n",
       "    <tr>\n",
       "      <th>MDD</th>\n",
       "      <td>-0.517254</td>\n",
       "      <td>-0.416292</td>\n",
       "      <td>-0.411339</td>\n",
       "      <td>-0.539329</td>\n",
       "      <td>-0.805187</td>\n",
       "    </tr>\n",
       "    <tr>\n",
       "      <th>Max Date</th>\n",
       "      <td>2007-05-31</td>\n",
       "      <td>2007-05-31</td>\n",
       "      <td>2007-10-31</td>\n",
       "      <td>2007-05-31</td>\n",
       "      <td>2009-02-27</td>\n",
       "    </tr>\n",
       "    <tr>\n",
       "      <th>Min Date</th>\n",
       "      <td>2009-02-27</td>\n",
       "      <td>2009-06-30</td>\n",
       "      <td>2009-03-31</td>\n",
       "      <td>2011-09-30</td>\n",
       "      <td>2021-08-31</td>\n",
       "    </tr>\n",
       "    <tr>\n",
       "      <th>Recovery Date</th>\n",
       "      <td>2012-09-28</td>\n",
       "      <td>2013-03-29</td>\n",
       "      <td>2012-03-30</td>\n",
       "      <td>2018-02-28</td>\n",
       "      <td>NaN</td>\n",
       "    </tr>\n",
       "    <tr>\n",
       "      <th>Recovery Period</th>\n",
       "      <td>1309</td>\n",
       "      <td>1368</td>\n",
       "      <td>1095</td>\n",
       "      <td>2343</td>\n",
       "      <td>NaN</td>\n",
       "    </tr>\n",
       "  </tbody>\n",
       "</table>\n",
       "</div>"
      ],
      "text/plain": [
       "                    Passive        Mean         OLS        Tree          NN\n",
       "skew              -0.579703   -0.443946   -0.229344    -1.69007     0.13608\n",
       "kurt               1.320162    0.816442    3.058677    6.587509    3.130827\n",
       "VaR               -0.070341   -0.073612   -0.066292   -0.067183   -0.067188\n",
       "CVaR              -0.096034   -0.092567   -0.101534   -0.117869   -0.094331\n",
       "MDD               -0.517254   -0.416292   -0.411339   -0.539329   -0.805187\n",
       "Max Date         2007-05-31  2007-05-31  2007-10-31  2007-05-31  2009-02-27\n",
       "Min Date         2009-02-27  2009-06-30  2009-03-31  2011-09-30  2021-08-31\n",
       "Recovery Date    2012-09-28  2013-03-29  2012-03-30  2018-02-28         NaN\n",
       "Recovery Period        1309        1368        1095        2343         NaN"
      ]
     },
     "execution_count": 122,
     "metadata": {},
     "output_type": "execute_result"
    }
   ],
   "source": [
    "stats_tail_risk(ML_oos_forecast_EP[0])"
   ]
  },
  {
   "cell_type": "markdown",
   "id": "29697f69",
   "metadata": {},
   "source": [
    "__All:__"
   ]
  },
  {
   "cell_type": "code",
   "execution_count": null,
   "id": "65338138",
   "metadata": {},
   "outputs": [
    {
     "data": {
      "text/html": [
       "<div>\n",
       "<style scoped>\n",
       "    .dataframe tbody tr th:only-of-type {\n",
       "        vertical-align: middle;\n",
       "    }\n",
       "\n",
       "    .dataframe tbody tr th {\n",
       "        vertical-align: top;\n",
       "    }\n",
       "\n",
       "    .dataframe thead th {\n",
       "        text-align: right;\n",
       "    }\n",
       "</style>\n",
       "<table border=\"1\" class=\"dataframe\">\n",
       "  <thead>\n",
       "    <tr style=\"text-align: right;\">\n",
       "      <th></th>\n",
       "      <th>OOS R-Squared</th>\n",
       "    </tr>\n",
       "  </thead>\n",
       "  <tbody>\n",
       "    <tr>\n",
       "      <th>Mean</th>\n",
       "      <td>-0.000959</td>\n",
       "    </tr>\n",
       "    <tr>\n",
       "      <th>OLS</th>\n",
       "      <td>-0.072594</td>\n",
       "    </tr>\n",
       "    <tr>\n",
       "      <th>Tree</th>\n",
       "      <td>-0.171640</td>\n",
       "    </tr>\n",
       "    <tr>\n",
       "      <th>NN</th>\n",
       "      <td>-10.007845</td>\n",
       "    </tr>\n",
       "  </tbody>\n",
       "</table>\n",
       "</div>"
      ],
      "text/plain": [
       "      OOS R-Squared\n",
       "Mean      -0.000959\n",
       "OLS       -0.072594\n",
       "Tree      -0.171640\n",
       "NN       -10.007845"
      ]
     },
     "execution_count": 123,
     "metadata": {},
     "output_type": "execute_result"
    }
   ],
   "source": [
    "ML_oos_forecast_All[1]"
   ]
  },
  {
   "cell_type": "code",
   "execution_count": null,
   "id": "2560ff38",
   "metadata": {},
   "outputs": [
    {
     "data": {
      "text/html": [
       "<div>\n",
       "<style scoped>\n",
       "    .dataframe tbody tr th:only-of-type {\n",
       "        vertical-align: middle;\n",
       "    }\n",
       "\n",
       "    .dataframe tbody tr th {\n",
       "        vertical-align: top;\n",
       "    }\n",
       "\n",
       "    .dataframe thead th {\n",
       "        text-align: right;\n",
       "    }\n",
       "</style>\n",
       "<table border=\"1\" class=\"dataframe\">\n",
       "  <thead>\n",
       "    <tr style=\"text-align: right;\">\n",
       "      <th></th>\n",
       "      <th>Passive</th>\n",
       "      <th>Mean</th>\n",
       "      <th>OLS</th>\n",
       "      <th>Tree</th>\n",
       "      <th>NN</th>\n",
       "    </tr>\n",
       "  </thead>\n",
       "  <tbody>\n",
       "    <tr>\n",
       "      <th>mean</th>\n",
       "      <td>0.094606</td>\n",
       "      <td>0.095056</td>\n",
       "      <td>0.070469</td>\n",
       "      <td>0.005286</td>\n",
       "      <td>-0.038273</td>\n",
       "    </tr>\n",
       "    <tr>\n",
       "      <th>std</th>\n",
       "      <td>0.147048</td>\n",
       "      <td>0.148225</td>\n",
       "      <td>0.147943</td>\n",
       "      <td>0.145831</td>\n",
       "      <td>0.155140</td>\n",
       "    </tr>\n",
       "    <tr>\n",
       "      <th>sharpe</th>\n",
       "      <td>0.643370</td>\n",
       "      <td>0.641292</td>\n",
       "      <td>0.476328</td>\n",
       "      <td>0.036245</td>\n",
       "      <td>-0.246700</td>\n",
       "    </tr>\n",
       "  </tbody>\n",
       "</table>\n",
       "</div>"
      ],
      "text/plain": [
       "         Passive      Mean       OLS      Tree        NN\n",
       "mean    0.094606  0.095056  0.070469  0.005286 -0.038273\n",
       "std     0.147048  0.148225  0.147943  0.145831  0.155140\n",
       "sharpe  0.643370  0.641292  0.476328  0.036245 -0.246700"
      ]
     },
     "execution_count": 124,
     "metadata": {},
     "output_type": "execute_result"
    }
   ],
   "source": [
    "stats_mean_vol_sharpe(ML_oos_forecast_All[0])"
   ]
  },
  {
   "cell_type": "code",
   "execution_count": null,
   "id": "a48d549c",
   "metadata": {},
   "outputs": [
    {
     "data": {
      "text/html": [
       "<div>\n",
       "<style scoped>\n",
       "    .dataframe tbody tr th:only-of-type {\n",
       "        vertical-align: middle;\n",
       "    }\n",
       "\n",
       "    .dataframe tbody tr th {\n",
       "        vertical-align: top;\n",
       "    }\n",
       "\n",
       "    .dataframe thead th {\n",
       "        text-align: right;\n",
       "    }\n",
       "</style>\n",
       "<table border=\"1\" class=\"dataframe\">\n",
       "  <thead>\n",
       "    <tr style=\"text-align: right;\">\n",
       "      <th></th>\n",
       "      <th>Passive</th>\n",
       "      <th>Mean</th>\n",
       "      <th>OLS</th>\n",
       "      <th>Tree</th>\n",
       "      <th>NN</th>\n",
       "    </tr>\n",
       "  </thead>\n",
       "  <tbody>\n",
       "    <tr>\n",
       "      <th>skew</th>\n",
       "      <td>-0.579703</td>\n",
       "      <td>-0.443946</td>\n",
       "      <td>-0.356195</td>\n",
       "      <td>-0.845323</td>\n",
       "      <td>-0.445736</td>\n",
       "    </tr>\n",
       "    <tr>\n",
       "      <th>kurt</th>\n",
       "      <td>1.320162</td>\n",
       "      <td>0.816442</td>\n",
       "      <td>4.249333</td>\n",
       "      <td>9.309396</td>\n",
       "      <td>3.414373</td>\n",
       "    </tr>\n",
       "    <tr>\n",
       "      <th>VaR</th>\n",
       "      <td>-0.070341</td>\n",
       "      <td>-0.073612</td>\n",
       "      <td>-0.068146</td>\n",
       "      <td>-0.072431</td>\n",
       "      <td>-0.081</td>\n",
       "    </tr>\n",
       "    <tr>\n",
       "      <th>CVaR</th>\n",
       "      <td>-0.096034</td>\n",
       "      <td>-0.092567</td>\n",
       "      <td>-0.101765</td>\n",
       "      <td>-0.113906</td>\n",
       "      <td>-0.117662</td>\n",
       "    </tr>\n",
       "    <tr>\n",
       "      <th>MDD</th>\n",
       "      <td>-0.517254</td>\n",
       "      <td>-0.416292</td>\n",
       "      <td>-0.458918</td>\n",
       "      <td>-0.523849</td>\n",
       "      <td>-0.689944</td>\n",
       "    </tr>\n",
       "    <tr>\n",
       "      <th>Max Date</th>\n",
       "      <td>2007-05-31</td>\n",
       "      <td>2007-05-31</td>\n",
       "      <td>2007-10-31</td>\n",
       "      <td>2019-12-31</td>\n",
       "      <td>2004-04-30</td>\n",
       "    </tr>\n",
       "    <tr>\n",
       "      <th>Min Date</th>\n",
       "      <td>2009-02-27</td>\n",
       "      <td>2009-06-30</td>\n",
       "      <td>2011-09-30</td>\n",
       "      <td>2022-09-30</td>\n",
       "      <td>2022-09-30</td>\n",
       "    </tr>\n",
       "    <tr>\n",
       "      <th>Recovery Date</th>\n",
       "      <td>2012-09-28</td>\n",
       "      <td>2013-03-29</td>\n",
       "      <td>2013-12-31</td>\n",
       "      <td>NaN</td>\n",
       "      <td>NaN</td>\n",
       "    </tr>\n",
       "    <tr>\n",
       "      <th>Recovery Period</th>\n",
       "      <td>1309</td>\n",
       "      <td>1368</td>\n",
       "      <td>823</td>\n",
       "      <td>NaN</td>\n",
       "      <td>NaN</td>\n",
       "    </tr>\n",
       "  </tbody>\n",
       "</table>\n",
       "</div>"
      ],
      "text/plain": [
       "                    Passive        Mean         OLS        Tree          NN\n",
       "skew              -0.579703   -0.443946   -0.356195   -0.845323   -0.445736\n",
       "kurt               1.320162    0.816442    4.249333    9.309396    3.414373\n",
       "VaR               -0.070341   -0.073612   -0.068146   -0.072431      -0.081\n",
       "CVaR              -0.096034   -0.092567   -0.101765   -0.113906   -0.117662\n",
       "MDD               -0.517254   -0.416292   -0.458918   -0.523849   -0.689944\n",
       "Max Date         2007-05-31  2007-05-31  2007-10-31  2019-12-31  2004-04-30\n",
       "Min Date         2009-02-27  2009-06-30  2011-09-30  2022-09-30  2022-09-30\n",
       "Recovery Date    2012-09-28  2013-03-29  2013-12-31         NaN         NaN\n",
       "Recovery Period        1309        1368         823         NaN         NaN"
      ]
     },
     "execution_count": 125,
     "metadata": {},
     "output_type": "execute_result"
    }
   ],
   "source": [
    "stats_tail_risk(ML_oos_forecast_All[0])"
   ]
  }
 ],
 "metadata": {
  "kernelspec": {
   "display_name": "data_ml",
   "language": "python",
   "name": "python3"
  },
  "language_info": {
   "codemirror_mode": {
    "name": "ipython",
    "version": 3
   },
   "file_extension": ".py",
   "mimetype": "text/x-python",
   "name": "python",
   "nbconvert_exporter": "python",
   "pygments_lexer": "ipython3",
   "version": "3.12.7"
  }
 },
 "nbformat": 4,
 "nbformat_minor": 5
}
