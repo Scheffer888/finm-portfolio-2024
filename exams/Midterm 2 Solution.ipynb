{
 "cells": [
  {
   "cell_type": "markdown",
   "id": "559895d2",
   "metadata": {},
   "source": [
    "# Midterm 2\n",
    "\n",
    "## FINM 36700 - 2024\n",
    "\n",
    "### UChicago Financial Mathematics\n",
    "\n",
    "* Mark Hendricks\n",
    "* hendricks@uchicago.edu"
   ]
  },
  {
   "cell_type": "markdown",
   "id": "01cde8d3",
   "metadata": {},
   "source": [
    "# Instructions"
   ]
  },
  {
   "cell_type": "markdown",
   "id": "cc273c1a",
   "metadata": {},
   "source": [
    "## Please note the following:\n",
    "\n",
    "Points\n",
    "* The exam is 100 points.\n",
    "* You have 120 minutes to complete the exam.\n",
    "* For every minute late you submit the exam, you will lose one point.\n",
    "\n",
    "\n",
    "Submission\n",
    "* You will upload your solution to the `Midterm 2` assignment on Canvas, where you downloaded this. \n",
    "* Be sure to **submit** on Canvas, not just **save** on Canvas.\n",
    "* Your submission should be readable, (the graders can understand your answers.)\n",
    "* Your submission should **include all code used in your analysis in a file format that the code can be executed.** \n",
    "\n",
    "Rules\n",
    "* The exam is open-material, closed-communication.\n",
    "* You do not need to cite material from the course github repo - you are welcome to use the code posted there without citation.\n",
    "\n",
    "Advice\n",
    "* If you find any question to be unclear, state your interpretation and proceed. We will only answer questions of interpretation if there is a typo, error, etc.\n",
    "* The exam will be graded for partial credit."
   ]
  },
  {
   "cell_type": "markdown",
   "id": "624f27b1",
   "metadata": {},
   "source": [
    "## Data\n",
    "\n",
    "**All data files are found in the class github repo, in the `data` folder.**\n",
    "\n",
    "This exam makes use of the following data files:\n",
    "* `midterm_2_data.xlsx`\n",
    "\n",
    "This file contains the following sheets:\n",
    "- for Section 2:\n",
    "    * `sector stocks excess returns` - MONTHLY excess returns for 49 sector stocks\n",
    "    * `factors excess returns` - MONTHLY excess returns of AQR factor model from Homework 5\n",
    "- for Section 3:\n",
    "    * `factors excess returns` - MONTHLY excess returns of AQR factor model from Homework 5"
   ]
  },
  {
   "cell_type": "markdown",
   "id": "ebf6e066",
   "metadata": {},
   "source": [
    "## Scoring\n",
    "\n",
    "| Problem | Points |\n",
    "|---------|--------|\n",
    "| 1       | 25     |\n",
    "| 2       | 40     |\n",
    "| 3       | 35     |"
   ]
  },
  {
   "cell_type": "markdown",
   "id": "7fb2fc26",
   "metadata": {},
   "source": [
    "### Each numbered question is worth 5 points unless otherwise specified."
   ]
  },
  {
   "cell_type": "markdown",
   "id": "81156e8f",
   "metadata": {},
   "source": [
    "# 1. Short Answer"
   ]
  },
  {
   "cell_type": "markdown",
   "id": "b2cf4bc8",
   "metadata": {},
   "source": [
    "#### No Data Needed\n",
    "\n",
    "These problems do not require any data file. Rather, analyze them conceptually. "
   ]
  },
  {
   "cell_type": "markdown",
   "id": "4ed2ec27",
   "metadata": {},
   "source": [
    "### 1.1.\n",
    "\n",
    "Historically, which pricing factor among the ones we studied has shown a considerable decrease in importance?\n",
    "\n",
    "<span style='color: red;'>\n",
    "\n",
    "The size factor (SMB) from the Fama-French factor model has shown a relevant decrease in performance.\n",
    "\n",
    "Traditionally, smaller firms were thought to generate higher returs as compensation for higher risk. The shift probably happened due to larger access to information of smaller firms. When the factor still had positive premium, information for smaller firms was not readily available and not trustworthy. As a consequence, investor were risk averse to them.\n",
    "As information for smaller firms become more easily available to the overall market, the size factor lost importance.\n",
    "\n",
    "</span>"
   ]
  },
  {
   "cell_type": "markdown",
   "id": "c65c8109",
   "metadata": {
    "vscode": {
     "languageId": "plaintext"
    }
   },
   "source": [
    "### 1.2.\n",
    "\n",
    "True or False: For a given factor model and a set of test assets, the addition of one more factor to that model will surely decrease the cross-sectional MAE. \n",
    "\n",
    "True or False: For a given factor model and a set of test assets, the addition of one more factor to that model will surely decrease the time-series MAE. \n",
    "\n",
    "Along with stating T/F, explain your reasoning for the two statements.\n",
    "\n",
    "<span style='color: red;'>\n",
    "\n",
    "True: the cross-sectional MAE is the average absolute error of the cross-sectional regression. Thus, by adding another factor to the regression, one should expect an increase in $R^2$ and decrease in MAE. In our exercises, we saw that the cross-sectional MAE is biggest for the CAPM and smallest for the FF5F.\n",
    "\n",
    "False: the time-series MAE is the average absolute $\\alpha$ of all time-series regressions. Increasing the number of factors does not necessarily lead to lower $\\alpha$. In our exercises, we saw that the CAPM has the smallest time-series MAE and the FF5F has the biggest.\n",
    "\n",
    "</span>"
   ]
  },
  {
   "cell_type": "markdown",
   "id": "24c00026",
   "metadata": {},
   "source": [
    "### 1.3.\n",
    "\n",
    "Consider the scenario in which you are helping two people with investments.\n",
    "\n",
    "* The young person has a 50 year investment horizon.\n",
    "* The elderly person has a 10 year investment horizon.\n",
    "* Both individuals have the same portfolio holdings.\n",
    "\n",
    "State who has the more certain cumulative return and explain your reasoning.\n",
    "\n",
    "<span style='color: red;'>\n",
    "\n",
    "We are more certain about the cumulative return of the elderly person.\n",
    "\n",
    "This is the case because the level of certainty about a given statistics is a consequence of the standard deviation of the statistic.\n",
    "\n",
    "As stated in lecture, for returns with no auto-correlation, variance scales linearly with time. Thus,\n",
    "\n",
    "$$\n",
    "\\sigma_{\\text{year}} = \\sqrt{12} \\times \\sigma_{\\text{month}}\n",
    "$$\n",
    "\n",
    "Meaning that\n",
    "\n",
    "$$\n",
    "\\sigma_{\\text{50 years}} = \\sqrt{12 \\times 50} \\times \\sigma_{\\text{month}}\n",
    "$$\n",
    "\n",
    "$$\n",
    "\\sigma_{\\text{10 years}} = \\sqrt{12 \\times 10} \\times \\sigma_{\\text{month}}\n",
    "$$\n",
    "\n",
    "Thus, the volatility (and variance) of 10-year cummulative return is lower than the volatility (and variance) of 50-year cummulative return.\n",
    "\n",
    "It is worth to mention that, on the other hand, we are more certain about the average return for the longer horizon, given the bigger sample size (nonetheless, the question is about cummulative returns).\n",
    "\n",
    "</span>"
   ]
  },
  {
   "cell_type": "markdown",
   "id": "460d4d72",
   "metadata": {},
   "source": [
    "### 1.4.\n",
    "\n",
    "Suppose we find that the 10-year bond yield works well as a new pricing factor, along with `MKT`.\n",
    "\n",
    "Consider two ways of building this new factor.\n",
    "1. Directly use the index of 10-year yields, `YLD`\n",
    "1. Construct a Fama-French style portfolio of equities, `FFYLD`. (Rank all the stocks by their correlation to bond yield changes, and go long the highest ranked and shor tthe lowest ranked.)\n",
    "\n",
    "Could you test the model with `YLD` and the model with `FFYLD` in the exact same ways? Explain.\n",
    "\n",
    "<span style='color: red;'>\n",
    "\n",
    "No. You can only test the model including `YLD` with the cross-sectional test. You can test the model with `FFYLD` with either the cross-sectional test or the time-series test.\n",
    "\n",
    "The first model is not testable with the time-series test because the index of 10-year yield is not a tradable asset. The situation is similar to the CCAPM (Consumption CAPM), in which we use level of consumption as a factor in the model.\n",
    "\n",
    "</span>"
   ]
  },
  {
   "cell_type": "markdown",
   "id": "edf2d238",
   "metadata": {},
   "source": [
    "### 1.5.\n",
    "\n",
    "Suppose we implement a momentum strategy on cryptocurrencies rather than US stocks.\n",
    "\n",
    "Conceptually speaking, but specific to the context of our course discussion, how would the risk profile differ from the momentum strategy of US equities?\n",
    "\n",
    "<span style='color: red;'>\n",
    "\n",
    "Using a momentum strategy with cryptocurrencies instead of US stocks would lead to:\n",
    "- Higher idyosincratic risk: there are more US stocks than cryptoassets. Therefore, going long on the 10% biggest returns and short on the 10% smaller returns would lead to a smaller number of holdings in a cryptocurrency strategy than in a stock strategy.\n",
    "- Higher volatility: cryptocurrencies are more volatile than US stocks. Thus, we should expect a momentum strategy with those to also be more volatile.\n",
    "- Higher liquidity risk: some cryptocurrencies have low liquidity. As a consequence, it becomes challenging to execute large trades without significantly impacting the market price.\n",
    "- Higher momentum: the lower liquidity of some cryptocurrencies can lead to less market makers, possibly allowing for higher autocorrelation in the returns. If that is the case, momentum strategies in the market should perform better when compared to the US stock momentum strategy.\n",
    "</span>"
   ]
  },
  {
   "cell_type": "markdown",
   "id": "632ce7d4",
   "metadata": {},
   "source": [
    "***"
   ]
  },
  {
   "cell_type": "markdown",
   "id": "f7a8a354",
   "metadata": {
    "vscode": {
     "languageId": "plaintext"
    }
   },
   "source": [
    "# 2. Pricing and Tangency Portfolio\n",
    "\n",
    "You work in a hedge fund that believes that the AQR 4-Factor Model (present in Homework 5) is the perfect pricing model for stocks.\n",
    "\n",
    "$$\n",
    "\\mathbb{E} \\left[ \\tilde{r}^i \\right] = \\beta^{i,\\text{MKT}} \\mathbb{E} \\left[ \\tilde{f}_{\\text{MKT}} \\right] + \\beta^{i,\\text{HML}} \\mathbb{E} \\left[ \\tilde{f}_{\\text{HML}} \\right] + \\beta^{i,\\text{RMW}} \\mathbb{E} \\left[ \\tilde{f}_{\\text{RMW}} \\right] + \\beta^{i,\\text{UMD}} \\mathbb{E} \\left[ \\tilde{f}_{\\text{UMD}} \\right]\n",
    "$$\n",
    "\n",
    "The factors are available in the sheet `factors excess returns`.\n",
    "\n",
    "The hedge fund invests in sector-tracking ETFs available in the sheet `sectors excess returns`. You are to allocate into these sectors according to a mean-variance optimization with...\n",
    "\n",
    "* regularization: elements outside the diagonal covariance matrix divided by 2.\n",
    "* modeled risk premia: expected excess returns given by the factor model rather than just using the historic sample averages.\n",
    "\n",
    "You are to train the portfolio and test out-of-sample. The timeframes should be:\n",
    "* Training timeframe: Jan-2018 to Dec-2022.\n",
    "* Testing timeframe: Jan-2023 to most recent observation."
   ]
  },
  {
   "cell_type": "code",
   "execution_count": 1,
   "id": "25dd0fd5",
   "metadata": {},
   "outputs": [],
   "source": [
    "import os\n",
    "import sys\n",
    "\n",
    "parent_path = os.path.dirname(os.getcwd()) # Get parent path (if using .ipynb file)\n",
    "# parent_path = os.path.dirname(os.path.dirname(os.path.abspath(__file__))) # Get parent path (if using .py file)\n",
    "os.chdir(parent_path) # Set parent path as working directory (for reading and writing files)\n",
    "sys.path.insert(0, parent_path) # Add parent path to system path (for importing modules)\n",
    "\n",
    "import cmds.portfolio_management_helper as pmh\n",
    "\n",
    "import pandas as pd\n",
    "import numpy as np\n",
    "import os\n",
    "import matplotlib.pyplot as plt\n",
    "import re\n",
    "\n",
    "\n",
    "FILEIN = \"data/midterm_2_data.xlsx\"\n",
    "STOCKS_SHEET = \"sector excess returns\"\n",
    "FACTORS_SHEET = \"factors excess returns\"\n",
    "\n",
    "stocks_excess_returns = pmh.read_excel_default(FILEIN, sheet_name=STOCKS_SHEET)\n",
    "factors_excess_returns = pmh.read_excel_default(FILEIN, sheet_name=FACTORS_SHEET)\n",
    "\n",
    "AQR_FACTORS = ['MKT', 'RMW', 'HML', 'UMD']\n",
    "\n",
    "COV_MATRIX = 1/2\n",
    "TESTING_FACTOR_PREMIA = False\n",
    "\n",
    "USE_INTERCEPT = False\n",
    "TRAINING_START = \"2018\"\n",
    "TRAINING_END = \"2022\"\n",
    "TESTING_START = \"2023\"\n",
    "TESTING_END = \"2024\"\n",
    "\n",
    "SAMPLE_ETFS = ['Agric', 'Food', 'Soda']\n",
    "\n",
    "aqr_factors_excess_returns = factors_excess_returns[AQR_FACTORS]"
   ]
  },
  {
   "cell_type": "markdown",
   "id": "db465bc9",
   "metadata": {
    "vscode": {
     "languageId": "plaintext"
    }
   },
   "source": [
    "### 2.1.\n",
    "(8pts)\n",
    "\n",
    "Calculate the model-implied expected excess returns of every asset.\n",
    "\n",
    "The time-series estimations should...\n",
    "* NOT include an intercept. (You assume the model holds perfectly.)\n",
    "* use data from the `training` timeframe.\n",
    "\n",
    "With the time-series estimates, use the `training` timeframe's sample average of the factors as the factor premia. Together, this will give you the model-implied risk premia, which we label as\n",
    "$$\n",
    "\\lambda_i := \\mathbb{E}[\\tilde{r}_i]\n",
    "$$\n",
    "\n",
    "* Store $\\lambda_i$ and $\\boldsymbol{\\beta}^i$ for each asset.\n",
    "* Print $\\lambda_i$ for `Agric`, `Food`, `Soda`"
   ]
  },
  {
   "cell_type": "code",
   "execution_count": 2,
   "id": "299bc639",
   "metadata": {},
   "outputs": [
    {
     "data": {
      "text/html": [
       "<div>\n",
       "<style scoped>\n",
       "    .dataframe tbody tr th:only-of-type {\n",
       "        vertical-align: middle;\n",
       "    }\n",
       "\n",
       "    .dataframe tbody tr th {\n",
       "        vertical-align: top;\n",
       "    }\n",
       "\n",
       "    .dataframe thead th {\n",
       "        text-align: right;\n",
       "    }\n",
       "</style>\n",
       "<table border=\"1\" class=\"dataframe\">\n",
       "  <thead>\n",
       "    <tr style=\"text-align: right;\">\n",
       "      <th></th>\n",
       "      <th>Expected Return</th>\n",
       "      <th>Annualized Expected Return</th>\n",
       "    </tr>\n",
       "  </thead>\n",
       "  <tbody>\n",
       "    <tr>\n",
       "      <th>Agric</th>\n",
       "      <td>0.0037</td>\n",
       "      <td>0.0439</td>\n",
       "    </tr>\n",
       "    <tr>\n",
       "      <th>Food</th>\n",
       "      <td>0.0055</td>\n",
       "      <td>0.0655</td>\n",
       "    </tr>\n",
       "    <tr>\n",
       "      <th>Soda</th>\n",
       "      <td>0.0073</td>\n",
       "      <td>0.0880</td>\n",
       "    </tr>\n",
       "  </tbody>\n",
       "</table>\n",
       "</div>"
      ],
      "text/plain": [
       "       Expected Return  Annualized Expected Return\n",
       "Agric           0.0037                      0.0439\n",
       "Food            0.0055                      0.0655\n",
       "Soda            0.0073                      0.0880"
      ]
     },
     "execution_count": 2,
     "metadata": {},
     "output_type": "execute_result"
    }
   ],
   "source": [
    "training_stocks_excess_returns = stocks_excess_returns.loc[TRAINING_START:TRAINING_END]\n",
    "training_aqr_factors_excess_returns = aqr_factors_excess_returns.loc[TRAINING_START:TRAINING_END]\n",
    "\n",
    "testing_stocks_excess_returns = stocks_excess_returns.loc[TESTING_START:TESTING_END]\n",
    "testing_aqr_factors_excess_returns = aqr_factors_excess_returns.loc[TESTING_START:TESTING_END]\n",
    "\n",
    "if TESTING_FACTOR_PREMIA:\n",
    "    factor_premia_returns = testing_aqr_factors_excess_returns.copy()\n",
    "else:\n",
    "    factor_premia_returns = training_aqr_factors_excess_returns.copy()\n",
    "\n",
    "iterative_factor_regressions = (\n",
    "    pmh.calc_iterative_regression(\n",
    "        training_stocks_excess_returns,\n",
    "        training_aqr_factors_excess_returns,\n",
    "        intercept=USE_INTERCEPT,\n",
    "        keep_columns=[\"Beta\", \"Alpha\"],\n",
    "        drop_columns=[\"Annualized Alpha\"],\n",
    "        warnings=False\n",
    "    )\n",
    "    .reset_index()\n",
    "    .assign(index=lambda df: df['index'].map(lambda x: x.replace(' no Intercept', '')))\n",
    "    .rename({'index': None}, axis=1)\n",
    "    .set_index(None)\n",
    ")\n",
    "\n",
    "premia_and_expected_excess_returns = (\n",
    "    iterative_factor_regressions\n",
    "    .assign(**{\n",
    "        f\"{factor} Premia\": (lambda df, factor=factor: df[f\"{factor} Beta\"] * factor_premia_returns[f\"{factor}\"].mean())\n",
    "        for factor in AQR_FACTORS\n",
    "    })\n",
    "    .assign(**{\"Expected Return\": lambda df: df[\n",
    "        [f + \" Premia\" for f in AQR_FACTORS]\n",
    "    ].sum(axis=1)})\n",
    "    .drop('Alpha', axis=1)\n",
    "    .assign(**{\n",
    "        f\"Annualized {premia}\": (lambda df, premia=premia: df[f\"{premia}\"] * 12)\n",
    "        for premia in [f + \" Premia\" for f in AQR_FACTORS] + [\"Expected Return\"]\n",
    "    })\n",
    ")\n",
    "\n",
    "(\n",
    "    premia_and_expected_excess_returns\n",
    "    .iloc[:3]\n",
    "    .loc[:, ['Expected Return', 'Annualized Expected Return']]\n",
    ")"
   ]
  },
  {
   "cell_type": "code",
   "execution_count": 3,
   "id": "77aea2d2",
   "metadata": {},
   "outputs": [],
   "source": [
    "stocks_expected_excess_return = premia_and_expected_excess_returns['Expected Return']"
   ]
  },
  {
   "cell_type": "markdown",
   "id": "6b80c6b5",
   "metadata": {
    "vscode": {
     "languageId": "plaintext"
    }
   },
   "source": [
    "### 2.2.\n",
    "\n",
    "Use the expected excess returns derived from (2.1) with the **regularized** covariance matrix to calculate the weights of the tangency portfolio.\n",
    "\n",
    "- Use the covariance matrix only for `training` timeframe.\n",
    "- Calculate and store the vector of weights for all the assets.\n",
    "- Return the weights of the tangency portfolio for `Agric`, `Food`, `Soda`.\n",
    "\n",
    "$$\n",
    "\\textbf{w}_{t} = \\dfrac{\\tilde{\\Sigma}^{-1} \\bm{\\lambda}}{\\bm{1}' \\tilde{\\Sigma}^{-1} \\bm{\\lambda}}\n",
    "$$\n",
    "\n",
    "Where $\\tilde{\\Sigma}^{-1}$ is the regularized covariance-matrix."
   ]
  },
  {
   "cell_type": "code",
   "execution_count": 4,
   "id": "6870729b",
   "metadata": {},
   "outputs": [
    {
     "data": {
      "text/html": [
       "<div>\n",
       "<style scoped>\n",
       "    .dataframe tbody tr th:only-of-type {\n",
       "        vertical-align: middle;\n",
       "    }\n",
       "\n",
       "    .dataframe tbody tr th {\n",
       "        vertical-align: top;\n",
       "    }\n",
       "\n",
       "    .dataframe thead th {\n",
       "        text-align: right;\n",
       "    }\n",
       "</style>\n",
       "<table border=\"1\" class=\"dataframe\">\n",
       "  <thead>\n",
       "    <tr style=\"text-align: right;\">\n",
       "      <th></th>\n",
       "      <th>AQR Expected Returns Weights</th>\n",
       "    </tr>\n",
       "  </thead>\n",
       "  <tbody>\n",
       "    <tr>\n",
       "      <th>Agric</th>\n",
       "      <td>-0.0307</td>\n",
       "    </tr>\n",
       "    <tr>\n",
       "      <th>Food</th>\n",
       "      <td>0.0153</td>\n",
       "    </tr>\n",
       "    <tr>\n",
       "      <th>Soda</th>\n",
       "      <td>0.1329</td>\n",
       "    </tr>\n",
       "  </tbody>\n",
       "</table>\n",
       "</div>"
      ],
      "text/plain": [
       "       AQR Expected Returns Weights\n",
       "Agric                       -0.0307\n",
       "Food                         0.0153\n",
       "Soda                         0.1329"
      ]
     },
     "execution_count": 4,
     "metadata": {},
     "output_type": "execute_result"
    }
   ],
   "source": [
    "training_tangency_weights_expected_returns = pmh.calc_tangency_weights(\n",
    "    training_stocks_excess_returns,\n",
    "    cov_mat=COV_MATRIX,\n",
    "    expected_returns=stocks_expected_excess_return,\n",
    "    name=\"AQR Expected Returns\"\n",
    ")\n",
    "training_tangency_weights_expected_returns.iloc[:3]"
   ]
  },
  {
   "cell_type": "markdown",
   "id": "6a5c171c",
   "metadata": {
    "vscode": {
     "languageId": "plaintext"
    }
   },
   "source": [
    "### 2.3.\n",
    "\n",
    "Evaluate the performance of this allocation in the `testing` period. Report the **annualized**\n",
    "- mean\n",
    "- vol\n",
    "- Sharpe"
   ]
  },
  {
   "cell_type": "code",
   "execution_count": 5,
   "id": "5f49bda4",
   "metadata": {},
   "outputs": [
    {
     "data": {
      "text/html": [
       "<div>\n",
       "<style scoped>\n",
       "    .dataframe tbody tr th:only-of-type {\n",
       "        vertical-align: middle;\n",
       "    }\n",
       "\n",
       "    .dataframe tbody tr th {\n",
       "        vertical-align: top;\n",
       "    }\n",
       "\n",
       "    .dataframe thead th {\n",
       "        text-align: right;\n",
       "    }\n",
       "</style>\n",
       "<table border=\"1\" class=\"dataframe\">\n",
       "  <thead>\n",
       "    <tr style=\"text-align: right;\">\n",
       "      <th></th>\n",
       "      <th>Annualized Mean</th>\n",
       "      <th>Annualized Vol</th>\n",
       "      <th>Annualized Sharpe</th>\n",
       "    </tr>\n",
       "  </thead>\n",
       "  <tbody>\n",
       "    <tr>\n",
       "      <th>AQR Portfolio</th>\n",
       "      <td>0.1812</td>\n",
       "      <td>0.1195</td>\n",
       "      <td>1.5155</td>\n",
       "    </tr>\n",
       "  </tbody>\n",
       "</table>\n",
       "</div>"
      ],
      "text/plain": [
       "               Annualized Mean  Annualized Vol  Annualized Sharpe\n",
       "AQR Portfolio           0.1812          0.1195             1.5155"
      ]
     },
     "execution_count": 5,
     "metadata": {},
     "output_type": "execute_result"
    }
   ],
   "source": [
    "aqr_portfolio = pmh.create_portfolio(\n",
    "    testing_stocks_excess_returns,\n",
    "    training_tangency_weights_expected_returns.iloc[:, 0].to_dict(),\n",
    "    port_name=\"AQR Portfolio\"\n",
    ")\n",
    "aqr_portfolio.tail(3)\n",
    "aqr_portfolio_statistics = pmh.calc_summary_statistics(\n",
    "    aqr_portfolio,\n",
    "    annual_factor=12,\n",
    "    provided_excess_returns=True,\n",
    "    keep_columns=[\"Annualized Mean\", \"Annualized Vol\", \"Annualized Sharpe\"],\n",
    ")\n",
    "aqr_portfolio_statistics"
   ]
  },
  {
   "cell_type": "markdown",
   "id": "69a6f8bc",
   "metadata": {
    "vscode": {
     "languageId": "plaintext"
    }
   },
   "source": [
    "### 2.4.\n",
    "\n",
    "(7pts)\n",
    "\n",
    "Construct the same tangency portfolio as in `2.2` but with one change:\n",
    "* replace the risk premia of the assets, (denoted $\\lambda_i$) with the sample averages of the excess returns from the `training` set.\n",
    "\n",
    "So instead of using $\\lambda_i$ suggested by the factor model (as in `2.1-2.3`) you're using sample averages for $\\lambda_i$.\n",
    "\n",
    "- Return the weights of the tangency portfolio for `Agric`, `Food`, `Soda`.\n",
    "\n",
    "Evaluate the performance of this allocation in the `testing` period. Report the **annualized**\n",
    "- mean\n",
    "- vol\n",
    "- Sharpe"
   ]
  },
  {
   "cell_type": "code",
   "execution_count": 6,
   "id": "928927f0",
   "metadata": {},
   "outputs": [
    {
     "data": {
      "text/html": [
       "<div>\n",
       "<style scoped>\n",
       "    .dataframe tbody tr th:only-of-type {\n",
       "        vertical-align: middle;\n",
       "    }\n",
       "\n",
       "    .dataframe tbody tr th {\n",
       "        vertical-align: top;\n",
       "    }\n",
       "\n",
       "    .dataframe thead th {\n",
       "        text-align: right;\n",
       "    }\n",
       "</style>\n",
       "<table border=\"1\" class=\"dataframe\">\n",
       "  <thead>\n",
       "    <tr style=\"text-align: right;\">\n",
       "      <th></th>\n",
       "      <th>Historical Weights</th>\n",
       "      <th>AQR Expected Returns Weights</th>\n",
       "    </tr>\n",
       "  </thead>\n",
       "  <tbody>\n",
       "    <tr>\n",
       "      <th>Agric</th>\n",
       "      <td>0.1441</td>\n",
       "      <td>-0.0307</td>\n",
       "    </tr>\n",
       "    <tr>\n",
       "      <th>Food</th>\n",
       "      <td>-0.0698</td>\n",
       "      <td>0.0153</td>\n",
       "    </tr>\n",
       "    <tr>\n",
       "      <th>Soda</th>\n",
       "      <td>0.3227</td>\n",
       "      <td>0.1329</td>\n",
       "    </tr>\n",
       "  </tbody>\n",
       "</table>\n",
       "</div>"
      ],
      "text/plain": [
       "       Historical Weights  AQR Expected Returns Weights\n",
       "Agric              0.1441                       -0.0307\n",
       "Food              -0.0698                        0.0153\n",
       "Soda               0.3227                        0.1329"
      ]
     },
     "execution_count": 6,
     "metadata": {},
     "output_type": "execute_result"
    }
   ],
   "source": [
    "training_tangency_weights_historical_returns = pmh.calc_tangency_weights(\n",
    "    training_stocks_excess_returns,\n",
    "    cov_mat=COV_MATRIX,\n",
    "    name=\"Historical\"\n",
    ")\n",
    "(\n",
    "    pd.concat([\n",
    "        training_tangency_weights_historical_returns, training_tangency_weights_expected_returns\n",
    "    ], axis=1)\n",
    "    .iloc[:3]\n",
    ")"
   ]
  },
  {
   "cell_type": "code",
   "execution_count": 7,
   "id": "f5fd93db",
   "metadata": {},
   "outputs": [
    {
     "data": {
      "text/html": [
       "<div>\n",
       "<style scoped>\n",
       "    .dataframe tbody tr th:only-of-type {\n",
       "        vertical-align: middle;\n",
       "    }\n",
       "\n",
       "    .dataframe tbody tr th {\n",
       "        vertical-align: top;\n",
       "    }\n",
       "\n",
       "    .dataframe thead th {\n",
       "        text-align: right;\n",
       "    }\n",
       "</style>\n",
       "<table border=\"1\" class=\"dataframe\">\n",
       "  <thead>\n",
       "    <tr style=\"text-align: right;\">\n",
       "      <th></th>\n",
       "      <th>Annualized Mean</th>\n",
       "      <th>Annualized Vol</th>\n",
       "      <th>Annualized Sharpe</th>\n",
       "    </tr>\n",
       "  </thead>\n",
       "  <tbody>\n",
       "    <tr>\n",
       "      <th>Historical Returns Portfolio</th>\n",
       "      <td>0.1768</td>\n",
       "      <td>0.1530</td>\n",
       "      <td>1.1555</td>\n",
       "    </tr>\n",
       "    <tr>\n",
       "      <th>AQR Portfolio</th>\n",
       "      <td>0.1812</td>\n",
       "      <td>0.1195</td>\n",
       "      <td>1.5155</td>\n",
       "    </tr>\n",
       "  </tbody>\n",
       "</table>\n",
       "</div>"
      ],
      "text/plain": [
       "                              Annualized Mean  Annualized Vol  \\\n",
       "Historical Returns Portfolio           0.1768          0.1530   \n",
       "AQR Portfolio                          0.1812          0.1195   \n",
       "\n",
       "                              Annualized Sharpe  \n",
       "Historical Returns Portfolio             1.1555  \n",
       "AQR Portfolio                            1.5155  "
      ]
     },
     "execution_count": 7,
     "metadata": {},
     "output_type": "execute_result"
    }
   ],
   "source": [
    "historical_returns_portfolio = pmh.create_portfolio(\n",
    "    testing_stocks_excess_returns,\n",
    "    training_tangency_weights_historical_returns.iloc[:, 0].to_dict(),\n",
    "    port_name=\"Historical Returns Portfolio\"\n",
    ")\n",
    "historical_returns_portfolio.tail(3)\n",
    "historical_returns_portfolio_statistics = pmh.calc_summary_statistics(\n",
    "    historical_returns_portfolio,\n",
    "    annual_factor=12,\n",
    "    provided_excess_returns=True,\n",
    "    keep_columns=[\"Annualized Mean\", \"Annualized Vol\", \"Annualized Sharpe\"],\n",
    ")\n",
    "pd.concat([\n",
    "    historical_returns_portfolio_statistics,\n",
    "    aqr_portfolio_statistics\n",
    "])"
   ]
  },
  {
   "cell_type": "markdown",
   "id": "8c172cbe",
   "metadata": {
    "vscode": {
     "languageId": "plaintext"
    }
   },
   "source": [
    "### 2.5.\n",
    "\n",
    "Which allocation performed better in the `testing` period: the allocation based on premia from the factor model or from the sample averages?\n",
    "\n",
    "Why might this be?\n",
    "\n",
    "<span style='color: red;'>\n",
    "\n",
    "The allocation based on the premia from the factor model performs better than the sample averages.\n",
    "\n",
    "Generally, we can state that historical returns are bad proxy for expected future returns.\n",
    "\n",
    "On the other hand, generally, historical returns of factors are a better proxy for expected future factor returns. Expected returns (expected premia) of factor models are model stable, leading to better prediction of stock returns, conditional on the stability in the relationship between the factors and the assets ($\\beta_i$). Focusing on factor estimation allows us to estimate the systematic risk component of assets, which is considered the only risk that has a premium.\n",
    "\n",
    "The fact that the expected return model outperformed the historical return model does not imply that the factor model is a perfect pricing model.\n",
    "\n",
    "**Extra**\n",
    "- Numerous studies have demonstrated that portfolios constructed using factor-based expected returns outperform those using historical returns, particularly out-of-sample.\n",
    "- Expected returns from factor models tend to be less extreme compared to historical averages of assets. Thus the expected return of assets also tend to be less extreme when using the factor-based model, thus providing less instability in the Mean-Variance optimization.\n",
    "\n",
    "</span>"
   ]
  },
  {
   "cell_type": "markdown",
   "id": "82a442fc",
   "metadata": {
    "vscode": {
     "languageId": "plaintext"
    }
   },
   "source": [
    "### 2.6.\n",
    "Suppose you now want to build a tangency portfolio solely from the factors, without using the sector ETFs.\n",
    "\n",
    "- Calculate the weights of the tangency portfolio using `training` data for the factors.\n",
    "- Again, regularize the covariance matrix of factor returns by dividing off-diagonal elements by 2.\n",
    "\n",
    "Report, in the `testing` period, the factor-based tangency stats **annualized**...\n",
    "- mean\n",
    "- vol\n",
    "- Sharpe\n"
   ]
  },
  {
   "cell_type": "code",
   "execution_count": 8,
   "id": "9bbe1cc2",
   "metadata": {},
   "outputs": [
    {
     "data": {
      "text/html": [
       "<div>\n",
       "<style scoped>\n",
       "    .dataframe tbody tr th:only-of-type {\n",
       "        vertical-align: middle;\n",
       "    }\n",
       "\n",
       "    .dataframe tbody tr th {\n",
       "        vertical-align: top;\n",
       "    }\n",
       "\n",
       "    .dataframe thead th {\n",
       "        text-align: right;\n",
       "    }\n",
       "</style>\n",
       "<table border=\"1\" class=\"dataframe\">\n",
       "  <thead>\n",
       "    <tr style=\"text-align: right;\">\n",
       "      <th></th>\n",
       "      <th>Annualized Mean</th>\n",
       "      <th>Annualized Vol</th>\n",
       "      <th>Annualized Sharpe</th>\n",
       "    </tr>\n",
       "  </thead>\n",
       "  <tbody>\n",
       "    <tr>\n",
       "      <th>Tangency Portfolio Factors</th>\n",
       "      <td>0.0624</td>\n",
       "      <td>0.0582</td>\n",
       "      <td>1.0719</td>\n",
       "    </tr>\n",
       "  </tbody>\n",
       "</table>\n",
       "</div>"
      ],
      "text/plain": [
       "                            Annualized Mean  Annualized Vol  Annualized Sharpe\n",
       "Tangency Portfolio Factors           0.0624          0.0582             1.0719"
      ]
     },
     "execution_count": 8,
     "metadata": {},
     "output_type": "execute_result"
    }
   ],
   "source": [
    "pmh.calc_summary_statistics(\n",
    "    pmh.create_portfolio(\n",
    "        testing_aqr_factors_excess_returns,\n",
    "        pmh.calc_tangency_weights(\n",
    "            training_aqr_factors_excess_returns, cov_mat=COV_MATRIX,\n",
    "            expected_returns=training_aqr_factors_excess_returns.mean()\n",
    "        ).iloc[:, 0].to_dict(),\n",
    "        port_name=\"Tangency Portfolio Factors\"\n",
    "    ),\n",
    "    annual_factor=12,\n",
    "    provided_excess_returns=True,\n",
    "    keep_columns=[\"Annualized Mean\", \"Annualized Vol\", \"Annualized Sharpe\"],\n",
    ")"
   ]
  },
  {
   "cell_type": "markdown",
   "id": "32d6cc36",
   "metadata": {},
   "source": [
    "### 2.7.\n",
    "\n",
    "Based on the hedge fund's beliefs, would you prefer to use the ETF-based tangency or the factor-based tangency portfolio? Explain your reasoning. Note that you should answer based on broad principles and not on the particular estimation results.\n",
    "\n",
    "<span style='color: red;'>\n",
    "\n",
    "I would prefer to use the ETF-based tangency. The fact that the tangency portfolio with factors performs significantly worst than the ETF-based tangency is evidence that the AQR pricing factor model is probably not a perfect pricing model.\n",
    "\n",
    "If the AQR pricing model was the perfect pricing model, a tangency portfolio only with the factors should produce the best adjusted by risk return out-of-sample. This sample, as well as our analysis in homework, shows that neither the AQR nor other factor models showcased perform well in the cross-sectional or time-series tests. Thus, the addition of other assets to the portfolio might can help include systematic risk with premium to the portfolio, possibly increasing the out-of-sample Sharpe.\n",
    "\n",
    "</span>"
   ]
  },
  {
   "cell_type": "markdown",
   "id": "0a8eda25",
   "metadata": {},
   "source": [
    "***"
   ]
  },
  {
   "cell_type": "markdown",
   "id": "51ff849e",
   "metadata": {
    "vscode": {
     "languageId": "plaintext"
    }
   },
   "source": [
    "# 3. Long-Run Returns\n",
    "\n",
    "For this question, use only the sheet `factors excess returns`.\n",
    "\n",
    "Suppose we want to measure the long run returns of various pricing factors."
   ]
  },
  {
   "cell_type": "markdown",
   "id": "4be343b9",
   "metadata": {
    "vscode": {
     "languageId": "plaintext"
    }
   },
   "source": [
    "### 3.1.\n",
    "\n",
    "Turn the data into log returns.\n",
    "- Display the first 5 rows of the data.\n",
    "\n",
    "Using these log returns, report the **annualized**\n",
    "* mean\n",
    "* vol\n",
    "* Sharpe"
   ]
  },
  {
   "cell_type": "code",
   "execution_count": 9,
   "id": "3aa23032",
   "metadata": {},
   "outputs": [
    {
     "data": {
      "text/html": [
       "<div>\n",
       "<style scoped>\n",
       "    .dataframe tbody tr th:only-of-type {\n",
       "        vertical-align: middle;\n",
       "    }\n",
       "\n",
       "    .dataframe tbody tr th {\n",
       "        vertical-align: top;\n",
       "    }\n",
       "\n",
       "    .dataframe thead th {\n",
       "        text-align: right;\n",
       "    }\n",
       "</style>\n",
       "<table border=\"1\" class=\"dataframe\">\n",
       "  <thead>\n",
       "    <tr style=\"text-align: right;\">\n",
       "      <th></th>\n",
       "      <th>MKT</th>\n",
       "      <th>HML</th>\n",
       "      <th>RMW</th>\n",
       "      <th>UMD</th>\n",
       "    </tr>\n",
       "    <tr>\n",
       "      <th>date</th>\n",
       "      <th></th>\n",
       "      <th></th>\n",
       "      <th></th>\n",
       "      <th></th>\n",
       "    </tr>\n",
       "  </thead>\n",
       "  <tbody>\n",
       "    <tr>\n",
       "      <th>1980-01-01</th>\n",
       "      <td>0.0536</td>\n",
       "      <td>0.0173</td>\n",
       "      <td>-0.0171</td>\n",
       "      <td>0.0728</td>\n",
       "    </tr>\n",
       "    <tr>\n",
       "      <th>1980-02-01</th>\n",
       "      <td>-0.0123</td>\n",
       "      <td>0.0061</td>\n",
       "      <td>0.0004</td>\n",
       "      <td>0.0758</td>\n",
       "    </tr>\n",
       "    <tr>\n",
       "      <th>1980-03-01</th>\n",
       "      <td>-0.1381</td>\n",
       "      <td>-0.0102</td>\n",
       "      <td>0.0145</td>\n",
       "      <td>-0.1004</td>\n",
       "    </tr>\n",
       "    <tr>\n",
       "      <th>1980-04-01</th>\n",
       "      <td>0.0389</td>\n",
       "      <td>0.0105</td>\n",
       "      <td>-0.0212</td>\n",
       "      <td>-0.0043</td>\n",
       "    </tr>\n",
       "    <tr>\n",
       "      <th>1980-05-01</th>\n",
       "      <td>0.0513</td>\n",
       "      <td>0.0038</td>\n",
       "      <td>0.0034</td>\n",
       "      <td>-0.0113</td>\n",
       "    </tr>\n",
       "  </tbody>\n",
       "</table>\n",
       "</div>"
      ],
      "text/plain": [
       "               MKT     HML     RMW     UMD\n",
       "date                                      \n",
       "1980-01-01  0.0536  0.0173 -0.0171  0.0728\n",
       "1980-02-01 -0.0123  0.0061  0.0004  0.0758\n",
       "1980-03-01 -0.1381 -0.0102  0.0145 -0.1004\n",
       "1980-04-01  0.0389  0.0105 -0.0212 -0.0043\n",
       "1980-05-01  0.0513  0.0038  0.0034 -0.0113"
      ]
     },
     "execution_count": 9,
     "metadata": {},
     "output_type": "execute_result"
    }
   ],
   "source": [
    "factors = pd.read_excel(FILEIN, sheet_name=FACTORS_SHEET, index_col=0)\n",
    "factors_log = np.log(factors + 1)\n",
    "factors_log.head()"
   ]
  },
  {
   "cell_type": "code",
   "execution_count": 10,
   "id": "eda22521",
   "metadata": {},
   "outputs": [
    {
     "data": {
      "text/html": [
       "<div>\n",
       "<style scoped>\n",
       "    .dataframe tbody tr th:only-of-type {\n",
       "        vertical-align: middle;\n",
       "    }\n",
       "\n",
       "    .dataframe tbody tr th {\n",
       "        vertical-align: top;\n",
       "    }\n",
       "\n",
       "    .dataframe thead th {\n",
       "        text-align: right;\n",
       "    }\n",
       "</style>\n",
       "<table border=\"1\" class=\"dataframe\">\n",
       "  <thead>\n",
       "    <tr style=\"text-align: right;\">\n",
       "      <th></th>\n",
       "      <th>mean</th>\n",
       "      <th>std</th>\n",
       "      <th>sharpe</th>\n",
       "    </tr>\n",
       "  </thead>\n",
       "  <tbody>\n",
       "    <tr>\n",
       "      <th>MKT</th>\n",
       "      <td>0.0735</td>\n",
       "      <td>0.1588</td>\n",
       "      <td>0.4630</td>\n",
       "    </tr>\n",
       "    <tr>\n",
       "      <th>HML</th>\n",
       "      <td>0.0198</td>\n",
       "      <td>0.1098</td>\n",
       "      <td>0.1801</td>\n",
       "    </tr>\n",
       "    <tr>\n",
       "      <th>RMW</th>\n",
       "      <td>0.0435</td>\n",
       "      <td>0.0836</td>\n",
       "      <td>0.5210</td>\n",
       "    </tr>\n",
       "    <tr>\n",
       "      <th>UMD</th>\n",
       "      <td>0.0501</td>\n",
       "      <td>0.1604</td>\n",
       "      <td>0.3122</td>\n",
       "    </tr>\n",
       "  </tbody>\n",
       "</table>\n",
       "</div>"
      ],
      "text/plain": [
       "      mean    std  sharpe\n",
       "MKT 0.0735 0.1588  0.4630\n",
       "HML 0.0198 0.1098  0.1801\n",
       "RMW 0.0435 0.0836  0.5210\n",
       "UMD 0.0501 0.1604  0.3122"
      ]
     },
     "execution_count": 10,
     "metadata": {},
     "output_type": "execute_result"
    }
   ],
   "source": [
    "summary = factors_log.agg(['mean', 'std']).T\n",
    "summary['sharpe'] = summary['mean'] / summary['std']\n",
    "summary['mean'] = summary['mean'] * 12\n",
    "summary['std'] = summary['std'] * np.sqrt(12)\n",
    "summary['sharpe'] = summary['sharpe'] * np.sqrt(12)\n",
    "summary"
   ]
  },
  {
   "cell_type": "markdown",
   "id": "ef69742c",
   "metadata": {},
   "source": [
    "### 3.2.\n",
    "\n",
    "Consider 15-year cumulative log excess returns. Following the assumptions and modeling of Lecture 6, report the following 15-year stats:\n",
    "- mean\n",
    "- vol\n",
    "- Sharpe\n",
    "\n",
    "How do they compare to the estimated stats (1-year horizon) in `3.1`? "
   ]
  },
  {
   "cell_type": "code",
   "execution_count": 11,
   "id": "ec797234",
   "metadata": {},
   "outputs": [
    {
     "data": {
      "text/html": [
       "<div>\n",
       "<style scoped>\n",
       "    .dataframe tbody tr th:only-of-type {\n",
       "        vertical-align: middle;\n",
       "    }\n",
       "\n",
       "    .dataframe tbody tr th {\n",
       "        vertical-align: top;\n",
       "    }\n",
       "\n",
       "    .dataframe thead th {\n",
       "        text-align: right;\n",
       "    }\n",
       "</style>\n",
       "<table border=\"1\" class=\"dataframe\">\n",
       "  <thead>\n",
       "    <tr style=\"text-align: right;\">\n",
       "      <th></th>\n",
       "      <th>mean</th>\n",
       "      <th>std</th>\n",
       "      <th>sharpe</th>\n",
       "    </tr>\n",
       "  </thead>\n",
       "  <tbody>\n",
       "    <tr>\n",
       "      <th>MKT</th>\n",
       "      <td>1.1032</td>\n",
       "      <td>0.6152</td>\n",
       "      <td>1.7933</td>\n",
       "    </tr>\n",
       "    <tr>\n",
       "      <th>HML</th>\n",
       "      <td>0.2965</td>\n",
       "      <td>0.4252</td>\n",
       "      <td>0.6975</td>\n",
       "    </tr>\n",
       "    <tr>\n",
       "      <th>RMW</th>\n",
       "      <td>0.6531</td>\n",
       "      <td>0.3237</td>\n",
       "      <td>2.0177</td>\n",
       "    </tr>\n",
       "    <tr>\n",
       "      <th>UMD</th>\n",
       "      <td>0.7514</td>\n",
       "      <td>0.6214</td>\n",
       "      <td>1.2093</td>\n",
       "    </tr>\n",
       "  </tbody>\n",
       "</table>\n",
       "</div>"
      ],
      "text/plain": [
       "      mean    std  sharpe\n",
       "MKT 1.1032 0.6152  1.7933\n",
       "HML 0.2965 0.4252  0.6975\n",
       "RMW 0.6531 0.3237  2.0177\n",
       "UMD 0.7514 0.6214  1.2093"
      ]
     },
     "execution_count": 11,
     "metadata": {},
     "output_type": "execute_result"
    }
   ],
   "source": [
    "# To get the 15 year stats, just multiply the mean by 15, the std by sqrt(15), and the sharpe by sqrt(15)\n",
    "summary_15 = summary.copy()\n",
    "summary_15['mean'] = summary_15['mean'] * 15\n",
    "summary_15['std'] = summary_15['std'] * np.sqrt(15)\n",
    "summary_15['sharpe'] = summary_15['sharpe'] * np.sqrt(15)\n",
    "summary_15"
   ]
  },
  {
   "cell_type": "markdown",
   "id": "3181ba0c",
   "metadata": {
    "vscode": {
     "languageId": "plaintext"
    }
   },
   "source": [
    "### 3.3.\n",
    "\n",
    "What is the probability that momentum factor has a negative mean excess return over the next \n",
    "* single period?\n",
    "* 15 years?"
   ]
  },
  {
   "cell_type": "code",
   "execution_count": 12,
   "id": "dcfa4e6f",
   "metadata": {},
   "outputs": [
    {
     "name": "stdout",
     "output_type": "stream",
     "text": [
      "Probability of positive UMD in a single month: 46.41%\n",
      "Probability of positive UMD in 15 years: 11.326775%\n"
     ]
    }
   ],
   "source": [
    "# Calculate the normal distribution of mom and mkt\n",
    "from scipy.stats import norm\n",
    "\n",
    "def prob(mu, sigma, h):\n",
    "    return norm.cdf(np.sqrt(h)*mu/sigma)\n",
    "\n",
    "# Single period\n",
    "prob_1_month = 1 - prob(summary.loc['UMD', 'mean'], summary.loc['UMD', 'std'], 1 / 12)\n",
    "\n",
    "# 15 year\n",
    "prob_15_year = 1 - prob(summary.loc['UMD', 'mean'], summary.loc['UMD', 'std'], 15)\n",
    "\n",
    "# Print\n",
    "print(f\"Probability of positive UMD in a single month: {prob_1_month:.2%}\")\n",
    "print(f\"Probability of positive UMD in 15 years: {prob_15_year:.6%}\")"
   ]
  },
  {
   "cell_type": "markdown",
   "id": "a137b86c",
   "metadata": {
    "vscode": {
     "languageId": "plaintext"
    }
   },
   "source": [
    "### 3.4.\n",
    "\n",
    "Recall from the case that momentum has been underperforming since 2009. \n",
    "\n",
    "Using data from 2009 to present, what is the probability that momentum *outperforms* the market factor over the next\n",
    "* period?\n",
    "* 15 years?"
   ]
  },
  {
   "cell_type": "code",
   "execution_count": 16,
   "id": "e81216af",
   "metadata": {},
   "outputs": [
    {
     "data": {
      "text/plain": [
       "0.27096775054716626"
      ]
     },
     "execution_count": 16,
     "metadata": {},
     "output_type": "execute_result"
    }
   ],
   "source": [
    "umd_mkt_spread = factors_log['UMD'] - factors_log['MKT']\n",
    "umd_mkt_spread = umd_mkt_spread.loc['2009':]\n",
    "\n",
    "umd_mkt_mean = umd_mkt_spread.mean() * 12\n",
    "umd_mkt_std = umd_mkt_spread.std() * np.sqrt(12)\n",
    "umd_mkt_std"
   ]
  },
  {
   "cell_type": "code",
   "execution_count": 14,
   "id": "15bf33f2",
   "metadata": {},
   "outputs": [
    {
     "name": "stdout",
     "output_type": "stream",
     "text": [
      "Probability of UMD outperforming the market in a single month: 43.45%\n",
      "Probability of UMD outperforming the market in 15 years: 1.35%\n"
     ]
    }
   ],
   "source": [
    "# Build a UMD - MKT portfolio\n",
    "umd_mkt_spread = factors_log['UMD'] - factors_log['MKT']\n",
    "umd_mkt_spread = umd_mkt_spread.loc['2009':]\n",
    "\n",
    "umd_mkt_mean = umd_mkt_spread.mean() * 12\n",
    "umd_mkt_std = umd_mkt_spread.std() * np.sqrt(12)\n",
    "\n",
    "prob_outperf_1_month = prob(umd_mkt_mean, umd_mkt_std, 1 / 12)\n",
    "prob_outperf_15_year = prob(umd_mkt_mean, umd_mkt_std, 15)\n",
    "\n",
    "print(f\"Probability of UMD outperforming the market in a single month: {prob_outperf_1_month:.2%}\")\n",
    "print(f\"Probability of UMD outperforming the market in 15 years: {prob_outperf_15_year:.2%}\")"
   ]
  },
  {
   "cell_type": "markdown",
   "id": "5678bc07",
   "metadata": {
    "vscode": {
     "languageId": "plaintext"
    }
   },
   "source": [
    "### 3.5.\n",
    "Conceptually, why is there such a discrepancy between this probability for 1 period vs. 15 years?\n",
    "\n",
    "What assumption about the log-returns are we making when we use this technique to estimate underperformance?"
   ]
  },
  {
   "cell_type": "markdown",
   "id": "5f27ab62",
   "metadata": {},
   "source": [
    "<font color='red'>\n",
    "\n",
    "Assumption: Log-returns are independent and identically distributed (i.i.d.).\n",
    "\n",
    "Discrepancy: Since mean is growing linearly, we can think of thing as the possible distributions diverging from each other (in cumulative return space), leading to a higher probability of outperformance in the long run.\n",
    "\n",
    "Below is a demo:\n",
    "\n",
    "</font>"
   ]
  },
  {
   "cell_type": "code",
   "execution_count": 15,
   "id": "02f22bfe",
   "metadata": {},
   "outputs": [
    {
     "data": {
      "image/png": "[encoded data removed]",
      "text/plain": [
       "<Figure size 800x500 with 2 Axes>"
      ]
     },
     "metadata": {},
     "output_type": "display_data"
    }
   ],
   "source": [
    "factors_2009 = factors_log.loc['2009':]\n",
    "umd_2009 = factors_2009['UMD']\n",
    "mkt_2009 = factors_2009['MKT']\n",
    "\n",
    "fig, axes = plt.subplots(nrows=1, ncols=2, figsize=(8, 5))\n",
    "\n",
    "xxs15 = np.linspace(-3., 5., 1000)\n",
    "xxs = np.linspace(-0.2, 0.2, 1000)\n",
    "\n",
    "# Plot a normal distribution with mean of UMD\n",
    "pdf_umd = norm.pdf(xxs, umd_2009.mean(), umd_2009.std())\n",
    "pdf_mkt = norm.pdf(xxs, mkt_2009.mean(), mkt_2009.std())\n",
    "axes[0].plot(xxs, pdf_umd, label='UMD', )\n",
    "axes[0].plot(xxs, pdf_mkt, label='MKT')\n",
    "axes[0].fill_between(xxs, pdf_umd, alpha=0.5)\n",
    "axes[0].fill_between(xxs, pdf_mkt, alpha=0.5)\n",
    "axes[0].legend()\n",
    "axes[0].set_title('UMD and MKT Distributions (One Month)')\n",
    "\n",
    "pdf_umd_15 = norm.pdf(xxs15, umd_2009.mean() * 15 * 12, umd_2009.std() * np.sqrt(15 * 12))\n",
    "pdf_mkt_15 = norm.pdf(xxs15, mkt_2009.mean() * 15 * 12, mkt_2009.std() * np.sqrt(15 * 12))\n",
    "axes[1].plot(xxs15, pdf_umd_15, label='UMD')\n",
    "axes[1].plot(xxs15, pdf_mkt_15, label='MKT')\n",
    "axes[1].fill_between(xxs15, pdf_umd_15, alpha=0.5)\n",
    "axes[1].fill_between(xxs15, pdf_mkt_15, alpha=0.5)\n",
    "axes[1].legend()\n",
    "axes[1].set_title('UMD and MKT Distributions (15 Years)')\n",
    "\n",
    "fig.tight_layout()\n",
    "fig.show()"
   ]
  },
  {
   "cell_type": "markdown",
   "id": "868f33b7",
   "metadata": {},
   "source": [
    "### 3.6.\n",
    "\n",
    "Using your previous answers, explain what is meant by time diversification.\n",
    "\n",
    "<font color='red'>\n",
    "\n",
    "The idea that if we have a long enough investment horizon, our sharpe increases. Specifically, just how we saw that being able to invest in uncorrelated assets increases the Sharpe of the portfolio, the same happens with time. If we assume log i.i.d returns, then we can treat every time period (or, say, 6-month period) as an independent asset. Thus, the more time periods we have, the more \"independent assets\" we have, and the more we can diversify our risk over time.\n",
    "\n",
    "We measure this by Sharpe as we saw in the previous questions, but also in probabilitiy of having negative mean returns. Returning to our analogy of flipping coins, if we have a coin that is 51% likely to be heads (assume heads is +1 and tails is -1), we would like to flip it as many times as possible to increase our expected return.\n",
    "\n",
    "</font>"
   ]
  },
  {
   "cell_type": "markdown",
   "id": "b5080207",
   "metadata": {
    "vscode": {
     "languageId": "plaintext"
    }
   },
   "source": [
    "### 3.7.\n",
    "\n",
    "Is the probability that `HML` and `UMD` both have negative cumulative returns over the next year higher or lower than the probability that `HML` and `MKT` both have negative cumulative returns over the next year?\n",
    "\n",
    "Answer conceptually, but specifically. (No need to calculate the specific probabilities.)"
   ]
  },
  {
   "cell_type": "markdown",
   "id": "ab7076c2",
   "metadata": {},
   "source": [
    "<font color='red'>\n",
    "\n",
    "Recall from class/homework that UMD is negatively correlated to all the other factors. \n",
    "\n",
    "Therefore, the probability that HML and UMD both have negative cumulative returns is lower than the probability that HML and MKT both have negative cumulative returns.\n",
    "\n",
    "To give a specific answer, we can think of the following. Consider 2 coins, which are perfectly negatively correlated. That is, if one coin is heads, the other is tails. Obviously, the probability that both coins flip tails is 0, because of this negative correlation. Thus, this negative correlation means that the probability of both being negative is lower than if they were independent, *and* lower than if they were positively correlated.\n",
    "\n",
    "</font>"
   ]
  },
  {
   "cell_type": "markdown",
   "id": "d6cf51ec",
   "metadata": {
    "vscode": {
     "languageId": "plaintext"
    }
   },
   "source": [
    "***"
   ]
  }
 ],
 "metadata": {
  "hide_input": false,
  "kernelspec": {
   "display_name": "data_analysis",
   "language": "python",
   "name": "python3"
  },
  "language_info": {
   "codemirror_mode": {
    "name": "ipython",
    "version": 3
   },
   "file_extension": ".py",
   "mimetype": "text/x-python",
   "name": "python",
   "nbconvert_exporter": "python",
   "pygments_lexer": "ipython3",
   "version": "3.12.7"
  }
 },
 "nbformat": 4,
 "nbformat_minor": 5
}
